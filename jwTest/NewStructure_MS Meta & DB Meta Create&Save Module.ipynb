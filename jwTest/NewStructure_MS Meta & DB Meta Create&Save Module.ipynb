{
 "cells": [
  {
   "cell_type": "markdown",
   "id": "d2ebc9fc",
   "metadata": {
    "toc": true
   },
   "source": [
    "<h1>Table of Contents<span class=\"tocSkip\"></span></h1>\n",
    "<div class=\"toc\"><ul class=\"toc-item\"><li><span><a href=\"#Import\" data-toc-modified-id=\"Import-1\"><span class=\"toc-item-num\">1&nbsp;&nbsp;</span>Import</a></span></li><li><span><a href=\"#Test-Preprocessing-Data-Read\" data-toc-modified-id=\"Test-Preprocessing-Data-Read-2\"><span class=\"toc-item-num\">2&nbsp;&nbsp;</span>Test Preprocessing Data Read</a></span></li><li><span><a href=\"#MS-Meta-Structure\" data-toc-modified-id=\"MS-Meta-Structure-3\"><span class=\"toc-item-num\">3&nbsp;&nbsp;</span>MS Meta Structure</a></span></li><li><span><a href=\"#New-Structure\" data-toc-modified-id=\"New-Structure-4\"><span class=\"toc-item-num\">4&nbsp;&nbsp;</span>New Structure</a></span><ul class=\"toc-item\"><li><span><a href=\"#Input-Parameter---Meta-Manager\" data-toc-modified-id=\"Input-Parameter---Meta-Manager-4.1\"><span class=\"toc-item-num\">4.1&nbsp;&nbsp;</span>Input Parameter - Meta Manager</a></span></li><li><span><a href=\"#KETIToolMetaManager\" data-toc-modified-id=\"KETIToolMetaManager-4.2\"><span class=\"toc-item-num\">4.2&nbsp;&nbsp;</span>KETIToolMetaManager</a></span><ul class=\"toc-item\"><li><span><a href=\"#MetaGenerator-Package\" data-toc-modified-id=\"MetaGenerator-Package-4.2.1\"><span class=\"toc-item-num\">4.2.1&nbsp;&nbsp;</span>MetaGenerator Package</a></span><ul class=\"toc-item\"><li><span><a href=\"#AnalysisMetaControl\" data-toc-modified-id=\"AnalysisMetaControl-4.2.1.1\"><span class=\"toc-item-num\">4.2.1.1&nbsp;&nbsp;</span>AnalysisMetaControl</a></span></li><li><span><a href=\"#AnalysisInputControl\" data-toc-modified-id=\"AnalysisInputControl-4.2.1.2\"><span class=\"toc-item-num\">4.2.1.2&nbsp;&nbsp;</span>AnalysisInputControl</a></span></li></ul></li><li><span><a href=\"#InputSourceController-Package\" data-toc-modified-id=\"InputSourceController-Package-4.2.2\"><span class=\"toc-item-num\">4.2.2&nbsp;&nbsp;</span>InputSourceController Package</a></span></li></ul></li><li><span><a href=\"#KETIToolAnalyzer\" data-toc-modified-id=\"KETIToolAnalyzer-4.3\"><span class=\"toc-item-num\">4.3&nbsp;&nbsp;</span>KETIToolAnalyzer</a></span><ul class=\"toc-item\"><li><span><a href=\"#Analyzer-Package\" data-toc-modified-id=\"Analyzer-Package-4.3.1\"><span class=\"toc-item-num\">4.3.1&nbsp;&nbsp;</span>Analyzer Package</a></span><ul class=\"toc-item\"><li><span><a href=\"#BatchCaller\" data-toc-modified-id=\"BatchCaller-4.3.1.1\"><span class=\"toc-item-num\">4.3.1.1&nbsp;&nbsp;</span>BatchCaller</a></span></li><li><span><a href=\"#test-data-read\" data-toc-modified-id=\"test-data-read-4.3.1.2\"><span class=\"toc-item-num\">4.3.1.2&nbsp;&nbsp;</span>test data read</a></span></li><li><span><a href=\"#test-db-meta-read\" data-toc-modified-id=\"test-db-meta-read-4.3.1.3\"><span class=\"toc-item-num\">4.3.1.3&nbsp;&nbsp;</span>test db meta read</a></span></li><li><span><a href=\"#StatisticsResult\" data-toc-modified-id=\"StatisticsResult-4.3.1.4\"><span class=\"toc-item-num\">4.3.1.4&nbsp;&nbsp;</span>StatisticsResult</a></span></li><li><span><a href=\"#MeanByHoliday\" data-toc-modified-id=\"MeanByHoliday-4.3.1.5\"><span class=\"toc-item-num\">4.3.1.5&nbsp;&nbsp;</span>MeanByHoliday</a></span></li><li><span><a href=\"#MeanByWorking\" data-toc-modified-id=\"MeanByWorking-4.3.1.6\"><span class=\"toc-item-num\">4.3.1.6&nbsp;&nbsp;</span>MeanByWorking</a></span></li><li><span><a href=\"#MeanByTimeStep\" data-toc-modified-id=\"MeanByTimeStep-4.3.1.7\"><span class=\"toc-item-num\">4.3.1.7&nbsp;&nbsp;</span>MeanByTimeStep</a></span></li><li><span><a href=\"#CountByFeatureLabel\" data-toc-modified-id=\"CountByFeatureLabel-4.3.1.8\"><span class=\"toc-item-num\">4.3.1.8&nbsp;&nbsp;</span>CountByFeatureLabel</a></span></li></ul></li></ul></li></ul></li><li><span><a href=\"#임시-구조-코드\" data-toc-modified-id=\"임시-구조-코드-5\"><span class=\"toc-item-num\">5&nbsp;&nbsp;</span>임시 구조 코드</a></span><ul class=\"toc-item\"><li><span><a href=\"#FeatureCreateMetaCreate-Module\" data-toc-modified-id=\"FeatureCreateMetaCreate-Module-5.1\"><span class=\"toc-item-num\">5.1&nbsp;&nbsp;</span>FeatureCreateMetaCreate Module</a></span><ul class=\"toc-item\"><li><span><a href=\"#statistics_result-Test\" data-toc-modified-id=\"statistics_result-Test-5.1.1\"><span class=\"toc-item-num\">5.1.1&nbsp;&nbsp;</span>statistics_result Test</a></span><ul class=\"toc-item\"><li><span><a href=\"#code-test\" data-toc-modified-id=\"code-test-5.1.1.1\"><span class=\"toc-item-num\">5.1.1.1&nbsp;&nbsp;</span>code test</a></span></li></ul></li><li><span><a href=\"#holiday-Test\" data-toc-modified-id=\"holiday-Test-5.1.2\"><span class=\"toc-item-num\">5.1.2&nbsp;&nbsp;</span>holiday Test</a></span></li><li><span><a href=\"#feature-label-Test\" data-toc-modified-id=\"feature-label-Test-5.1.3\"><span class=\"toc-item-num\">5.1.3&nbsp;&nbsp;</span>feature label Test</a></span></li></ul></li><li><span><a href=\"#DataReadMetaSave-Module\" data-toc-modified-id=\"DataReadMetaSave-Module-5.2\"><span class=\"toc-item-num\">5.2&nbsp;&nbsp;</span>DataReadMetaSave Module</a></span></li><li><span><a href=\"#MetaDataConditionSave-Module\" data-toc-modified-id=\"MetaDataConditionSave-Module-5.3\"><span class=\"toc-item-num\">5.3&nbsp;&nbsp;</span>MetaDataConditionSave Module</a></span><ul class=\"toc-item\"><li><span><a href=\"#Result-Test\" data-toc-modified-id=\"Result-Test-5.3.1\"><span class=\"toc-item-num\">5.3.1&nbsp;&nbsp;</span>Result Test</a></span></li><li><span><a href=\"#Test\" data-toc-modified-id=\"Test-5.3.2\"><span class=\"toc-item-num\">5.3.2&nbsp;&nbsp;</span>Test</a></span></li></ul></li><li><span><a href=\"#MetaDataConditionSave---Parameter\" data-toc-modified-id=\"MetaDataConditionSave---Parameter-5.4\"><span class=\"toc-item-num\">5.4&nbsp;&nbsp;</span>MetaDataConditionSave - Parameter</a></span></li></ul></li><li><span><a href=\"#Test-Code\" data-toc-modified-id=\"Test-Code-6\"><span class=\"toc-item-num\">6&nbsp;&nbsp;</span>Test Code</a></span></li></ul></div>"
   ]
  },
  {
   "cell_type": "markdown",
   "id": "ee0bec0f",
   "metadata": {},
   "source": [
    "# Import"
   ]
  },
  {
   "cell_type": "code",
   "execution_count": 1,
   "id": "4eb23f7f",
   "metadata": {
    "ExecuteTime": {
     "end_time": "2022-01-14T01:05:16.520902Z",
     "start_time": "2022-01-14T01:05:16.058124Z"
    }
   },
   "outputs": [],
   "source": [
    "import pandas as pd\n",
    "import numpy as np\n",
    "import datetime\n",
    "from pytimekr import pytimekr\n",
    "import json\n",
    "from pprint import pprint\n",
    "import sys\n",
    "import os\n",
    "sys.path.append(\".\")\n",
    "sys.path.append(\"..\")\n",
    "sys.path.append(\"../..\")\n",
    "sys.path.append(\"../../..\")\n",
    "\n",
    "from KETIPreDataIngestion.KETI_setting import influx_setting_KETI as ins\n",
    "from KETIPreDataIngestion.data_influx import influx_Client\n",
    "from KETIToolMetaManager.manual_data_insert import wiz_mongo_meta_api as wiz\n",
    "from KETIToolMetaManager.manual_data_insert import data_feature_meta_insert as dfmi\n",
    "\n",
    "#import statistics"
   ]
  },
  {
   "cell_type": "code",
   "execution_count": 2,
   "id": "14c09161",
   "metadata": {
    "ExecuteTime": {
     "end_time": "2022-01-07T02:21:23.194372Z",
     "start_time": "2022-01-07T02:21:23.192065Z"
    }
   },
   "outputs": [],
   "source": [
    "#domain = \"air\"\n",
    "#subdomain = \"indoor_체육시설\"\n",
    "#ms = \"all\"\n",
    "\n",
    "# ms = [\"ICW0W2001042\", \"ICW0W2001043\", \"ICW0W2001044\"]\n",
    "#tablename = \"ICW0W2100062\"\n",
    "#도서관 - ICW0W2000656 nan : 스스로 nan\n",
    "#도서관 - ICW0W2000655 0\n",
    "#어린이집 - ICW0W2000635  : 지정 nan\n",
    "#어린이집 - ICW0W2000644 : \"None\" 변형시 error\n",
    "#유치원 - ICW0W2100062 : \"None\" 변경햇는데도 변경안되는 자식"
   ]
  },
  {
   "cell_type": "markdown",
   "id": "10b51d68",
   "metadata": {},
   "source": [
    "# Test Preprocessing Data Read"
   ]
  },
  {
   "cell_type": "code",
   "execution_count": 4,
   "id": "6a00f08d",
   "metadata": {
    "ExecuteTime": {
     "end_time": "2021-12-23T03:31:54.539554Z",
     "start_time": "2021-12-23T03:31:42.462206Z"
    }
   },
   "outputs": [
    {
     "name": "stdout",
     "output_type": "stream",
     "text": [
      "getDataWithCertainNaN\n",
      "after Drop NaN Data\n"
     ]
    }
   ],
   "source": [
    "testdata_client = influx_Client.influxClient(ins.CLUSTDataServer)\n",
    "testdata_nopreprocessing = testdata_client.get_data(\"air_indoor_체육시설\", \"ICW0W2001042\")\n",
    "\n",
    "from KETIPrePartialDataPreprocessing import data_preprocessing\n",
    "refine_param = {\n",
    "    \"removeDuplication\":{\"flag\":True},\n",
    "    \"staticFrequency\":{\"flag\":True, \"frequency\":None}\n",
    "}\n",
    "outlier_param  = {\n",
    "    \"certainErrorToNaN\":{\"flag\":True},\n",
    "    \"unCertainErrorToNaN\":{\n",
    "        \"flag\":False,\n",
    "        \"param\":{\"neighbor\":[0.5,0.6]}\n",
    "    },\n",
    "    \"data_type\":\"air\"\n",
    "}\n",
    "imputation_param = {\n",
    "    \"serialImputation\":{\n",
    "        \"flag\":True,\n",
    "        \"imputation_method\":[{\"min\":0,\"max\":20,\"method\":\"linear\" , \"parameter\":{}}],\n",
    "        \"totalNonNanRatio\":70\n",
    "    }\n",
    "}\n",
    "process_param = {'refine_param':refine_param, 'outlier_param':outlier_param, 'imputation_param':imputation_param}\n",
    "partialP = data_preprocessing.packagedPartialProcessing(process_param)\n",
    "testdata = partialP.allPartialProcessing(testdata_nopreprocessing)[\"imputed_data\"]\n",
    "\n",
    "testcolumns = list(testdata.columns)"
   ]
  },
  {
   "cell_type": "code",
   "execution_count": 5,
   "id": "50c59e68",
   "metadata": {
    "ExecuteTime": {
     "end_time": "2021-12-23T03:31:56.728851Z",
     "start_time": "2021-12-23T03:31:56.667574Z"
    }
   },
   "outputs": [
    {
     "data": {
      "text/html": [
       "<div>\n",
       "<style scoped>\n",
       "    .dataframe tbody tr th:only-of-type {\n",
       "        vertical-align: middle;\n",
       "    }\n",
       "\n",
       "    .dataframe tbody tr th {\n",
       "        vertical-align: top;\n",
       "    }\n",
       "\n",
       "    .dataframe thead th {\n",
       "        text-align: right;\n",
       "    }\n",
       "</style>\n",
       "<table border=\"1\" class=\"dataframe\">\n",
       "  <thead>\n",
       "    <tr style=\"text-align: right;\">\n",
       "      <th></th>\n",
       "      <th>in_ciai</th>\n",
       "      <th>in_cici</th>\n",
       "      <th>in_cici_co2</th>\n",
       "      <th>in_cici_humi</th>\n",
       "      <th>in_cici_noise</th>\n",
       "      <th>in_cici_pm10</th>\n",
       "      <th>in_cici_pm25</th>\n",
       "      <th>in_cici_temp</th>\n",
       "      <th>in_cici_voc</th>\n",
       "      <th>in_co2</th>\n",
       "      <th>in_humi</th>\n",
       "      <th>in_noise</th>\n",
       "      <th>in_pm01</th>\n",
       "      <th>in_pm01_raw</th>\n",
       "      <th>in_pm10</th>\n",
       "      <th>in_pm10_raw</th>\n",
       "      <th>in_pm25</th>\n",
       "      <th>in_pm25_raw</th>\n",
       "      <th>in_temp</th>\n",
       "      <th>in_voc</th>\n",
       "    </tr>\n",
       "    <tr>\n",
       "      <th>time</th>\n",
       "      <th></th>\n",
       "      <th></th>\n",
       "      <th></th>\n",
       "      <th></th>\n",
       "      <th></th>\n",
       "      <th></th>\n",
       "      <th></th>\n",
       "      <th></th>\n",
       "      <th></th>\n",
       "      <th></th>\n",
       "      <th></th>\n",
       "      <th></th>\n",
       "      <th></th>\n",
       "      <th></th>\n",
       "      <th></th>\n",
       "      <th></th>\n",
       "      <th></th>\n",
       "      <th></th>\n",
       "      <th></th>\n",
       "      <th></th>\n",
       "    </tr>\n",
       "  </thead>\n",
       "  <tbody>\n",
       "    <tr>\n",
       "      <th>2020-07-28 11:14:00+00:00</th>\n",
       "      <td>92.0</td>\n",
       "      <td>96.0</td>\n",
       "      <td>82.0</td>\n",
       "      <td>88.0</td>\n",
       "      <td>46.0</td>\n",
       "      <td>95.0</td>\n",
       "      <td>90.0</td>\n",
       "      <td>82.0</td>\n",
       "      <td>100.0</td>\n",
       "      <td>873.0</td>\n",
       "      <td>61.0</td>\n",
       "      <td>73.0</td>\n",
       "      <td>14.0</td>\n",
       "      <td>14.0</td>\n",
       "      <td>16.0</td>\n",
       "      <td>16.0</td>\n",
       "      <td>15.0</td>\n",
       "      <td>15.0</td>\n",
       "      <td>26.4</td>\n",
       "      <td>0.0</td>\n",
       "    </tr>\n",
       "    <tr>\n",
       "      <th>2020-07-28 11:15:00+00:00</th>\n",
       "      <td>93.0</td>\n",
       "      <td>96.0</td>\n",
       "      <td>84.0</td>\n",
       "      <td>90.0</td>\n",
       "      <td>46.0</td>\n",
       "      <td>96.0</td>\n",
       "      <td>92.0</td>\n",
       "      <td>76.0</td>\n",
       "      <td>100.0</td>\n",
       "      <td>774.0</td>\n",
       "      <td>60.0</td>\n",
       "      <td>73.0</td>\n",
       "      <td>11.0</td>\n",
       "      <td>11.0</td>\n",
       "      <td>13.0</td>\n",
       "      <td>13.0</td>\n",
       "      <td>12.0</td>\n",
       "      <td>12.0</td>\n",
       "      <td>27.4</td>\n",
       "      <td>0.0</td>\n",
       "    </tr>\n",
       "    <tr>\n",
       "      <th>2020-07-28 11:16:00+00:00</th>\n",
       "      <td>94.0</td>\n",
       "      <td>97.0</td>\n",
       "      <td>85.0</td>\n",
       "      <td>94.0</td>\n",
       "      <td>46.0</td>\n",
       "      <td>96.0</td>\n",
       "      <td>93.0</td>\n",
       "      <td>68.0</td>\n",
       "      <td>100.0</td>\n",
       "      <td>712.0</td>\n",
       "      <td>56.0</td>\n",
       "      <td>73.0</td>\n",
       "      <td>11.0</td>\n",
       "      <td>11.0</td>\n",
       "      <td>11.0</td>\n",
       "      <td>11.0</td>\n",
       "      <td>11.0</td>\n",
       "      <td>11.0</td>\n",
       "      <td>28.2</td>\n",
       "      <td>0.0</td>\n",
       "    </tr>\n",
       "    <tr>\n",
       "      <th>2020-07-28 11:17:00+00:00</th>\n",
       "      <td>93.0</td>\n",
       "      <td>96.0</td>\n",
       "      <td>85.0</td>\n",
       "      <td>96.0</td>\n",
       "      <td>46.0</td>\n",
       "      <td>95.0</td>\n",
       "      <td>91.0</td>\n",
       "      <td>60.0</td>\n",
       "      <td>100.0</td>\n",
       "      <td>700.0</td>\n",
       "      <td>54.0</td>\n",
       "      <td>73.0</td>\n",
       "      <td>14.0</td>\n",
       "      <td>14.0</td>\n",
       "      <td>15.0</td>\n",
       "      <td>15.0</td>\n",
       "      <td>14.0</td>\n",
       "      <td>14.0</td>\n",
       "      <td>29.0</td>\n",
       "      <td>1.0</td>\n",
       "    </tr>\n",
       "    <tr>\n",
       "      <th>2020-07-28 11:18:00+00:00</th>\n",
       "      <td>94.0</td>\n",
       "      <td>97.0</td>\n",
       "      <td>86.0</td>\n",
       "      <td>96.0</td>\n",
       "      <td>44.0</td>\n",
       "      <td>96.0</td>\n",
       "      <td>92.0</td>\n",
       "      <td>54.0</td>\n",
       "      <td>100.0</td>\n",
       "      <td>692.0</td>\n",
       "      <td>54.0</td>\n",
       "      <td>74.0</td>\n",
       "      <td>11.0</td>\n",
       "      <td>11.0</td>\n",
       "      <td>13.0</td>\n",
       "      <td>13.0</td>\n",
       "      <td>12.0</td>\n",
       "      <td>12.0</td>\n",
       "      <td>29.6</td>\n",
       "      <td>2.0</td>\n",
       "    </tr>\n",
       "    <tr>\n",
       "      <th>...</th>\n",
       "      <td>...</td>\n",
       "      <td>...</td>\n",
       "      <td>...</td>\n",
       "      <td>...</td>\n",
       "      <td>...</td>\n",
       "      <td>...</td>\n",
       "      <td>...</td>\n",
       "      <td>...</td>\n",
       "      <td>...</td>\n",
       "      <td>...</td>\n",
       "      <td>...</td>\n",
       "      <td>...</td>\n",
       "      <td>...</td>\n",
       "      <td>...</td>\n",
       "      <td>...</td>\n",
       "      <td>...</td>\n",
       "      <td>...</td>\n",
       "      <td>...</td>\n",
       "      <td>...</td>\n",
       "      <td>...</td>\n",
       "    </tr>\n",
       "    <tr>\n",
       "      <th>2021-08-31 23:55:00+00:00</th>\n",
       "      <td>94.0</td>\n",
       "      <td>100.0</td>\n",
       "      <td>91.4</td>\n",
       "      <td>98.0</td>\n",
       "      <td>82.3</td>\n",
       "      <td>98.3</td>\n",
       "      <td>96.7</td>\n",
       "      <td>83.1</td>\n",
       "      <td>90.1</td>\n",
       "      <td>431.0</td>\n",
       "      <td>52.0</td>\n",
       "      <td>49.0</td>\n",
       "      <td>5.0</td>\n",
       "      <td>5.0</td>\n",
       "      <td>5.0</td>\n",
       "      <td>5.0</td>\n",
       "      <td>5.0</td>\n",
       "      <td>5.0</td>\n",
       "      <td>26.0</td>\n",
       "      <td>198.0</td>\n",
       "    </tr>\n",
       "    <tr>\n",
       "      <th>2021-08-31 23:56:00+00:00</th>\n",
       "      <td>94.0</td>\n",
       "      <td>100.0</td>\n",
       "      <td>91.3</td>\n",
       "      <td>98.0</td>\n",
       "      <td>82.3</td>\n",
       "      <td>98.7</td>\n",
       "      <td>97.3</td>\n",
       "      <td>83.1</td>\n",
       "      <td>88.8</td>\n",
       "      <td>435.0</td>\n",
       "      <td>52.0</td>\n",
       "      <td>49.0</td>\n",
       "      <td>4.0</td>\n",
       "      <td>4.0</td>\n",
       "      <td>4.0</td>\n",
       "      <td>4.0</td>\n",
       "      <td>4.0</td>\n",
       "      <td>4.0</td>\n",
       "      <td>26.0</td>\n",
       "      <td>205.0</td>\n",
       "    </tr>\n",
       "    <tr>\n",
       "      <th>2021-08-31 23:57:00+00:00</th>\n",
       "      <td>94.0</td>\n",
       "      <td>100.0</td>\n",
       "      <td>91.3</td>\n",
       "      <td>98.0</td>\n",
       "      <td>81.9</td>\n",
       "      <td>98.3</td>\n",
       "      <td>96.7</td>\n",
       "      <td>83.1</td>\n",
       "      <td>88.5</td>\n",
       "      <td>433.0</td>\n",
       "      <td>52.0</td>\n",
       "      <td>50.0</td>\n",
       "      <td>5.0</td>\n",
       "      <td>5.0</td>\n",
       "      <td>5.0</td>\n",
       "      <td>5.0</td>\n",
       "      <td>5.0</td>\n",
       "      <td>5.0</td>\n",
       "      <td>26.0</td>\n",
       "      <td>213.0</td>\n",
       "    </tr>\n",
       "    <tr>\n",
       "      <th>2021-08-31 23:58:00+00:00</th>\n",
       "      <td>94.0</td>\n",
       "      <td>100.0</td>\n",
       "      <td>91.3</td>\n",
       "      <td>98.0</td>\n",
       "      <td>82.3</td>\n",
       "      <td>98.7</td>\n",
       "      <td>97.3</td>\n",
       "      <td>83.4</td>\n",
       "      <td>88.7</td>\n",
       "      <td>436.0</td>\n",
       "      <td>52.0</td>\n",
       "      <td>49.0</td>\n",
       "      <td>4.0</td>\n",
       "      <td>4.0</td>\n",
       "      <td>4.0</td>\n",
       "      <td>4.0</td>\n",
       "      <td>4.0</td>\n",
       "      <td>4.0</td>\n",
       "      <td>25.9</td>\n",
       "      <td>208.0</td>\n",
       "    </tr>\n",
       "    <tr>\n",
       "      <th>2021-08-31 23:59:00+00:00</th>\n",
       "      <td>94.0</td>\n",
       "      <td>100.0</td>\n",
       "      <td>91.4</td>\n",
       "      <td>98.0</td>\n",
       "      <td>81.9</td>\n",
       "      <td>98.3</td>\n",
       "      <td>96.7</td>\n",
       "      <td>83.4</td>\n",
       "      <td>89.0</td>\n",
       "      <td>429.0</td>\n",
       "      <td>52.0</td>\n",
       "      <td>50.0</td>\n",
       "      <td>5.0</td>\n",
       "      <td>5.0</td>\n",
       "      <td>5.0</td>\n",
       "      <td>5.0</td>\n",
       "      <td>5.0</td>\n",
       "      <td>5.0</td>\n",
       "      <td>25.9</td>\n",
       "      <td>201.0</td>\n",
       "    </tr>\n",
       "  </tbody>\n",
       "</table>\n",
       "<p>575326 rows × 20 columns</p>\n",
       "</div>"
      ],
      "text/plain": [
       "                           in_ciai  in_cici  in_cici_co2  in_cici_humi  \\\n",
       "time                                                                     \n",
       "2020-07-28 11:14:00+00:00     92.0     96.0         82.0          88.0   \n",
       "2020-07-28 11:15:00+00:00     93.0     96.0         84.0          90.0   \n",
       "2020-07-28 11:16:00+00:00     94.0     97.0         85.0          94.0   \n",
       "2020-07-28 11:17:00+00:00     93.0     96.0         85.0          96.0   \n",
       "2020-07-28 11:18:00+00:00     94.0     97.0         86.0          96.0   \n",
       "...                            ...      ...          ...           ...   \n",
       "2021-08-31 23:55:00+00:00     94.0    100.0         91.4          98.0   \n",
       "2021-08-31 23:56:00+00:00     94.0    100.0         91.3          98.0   \n",
       "2021-08-31 23:57:00+00:00     94.0    100.0         91.3          98.0   \n",
       "2021-08-31 23:58:00+00:00     94.0    100.0         91.3          98.0   \n",
       "2021-08-31 23:59:00+00:00     94.0    100.0         91.4          98.0   \n",
       "\n",
       "                           in_cici_noise  in_cici_pm10  in_cici_pm25  \\\n",
       "time                                                                   \n",
       "2020-07-28 11:14:00+00:00           46.0          95.0          90.0   \n",
       "2020-07-28 11:15:00+00:00           46.0          96.0          92.0   \n",
       "2020-07-28 11:16:00+00:00           46.0          96.0          93.0   \n",
       "2020-07-28 11:17:00+00:00           46.0          95.0          91.0   \n",
       "2020-07-28 11:18:00+00:00           44.0          96.0          92.0   \n",
       "...                                  ...           ...           ...   \n",
       "2021-08-31 23:55:00+00:00           82.3          98.3          96.7   \n",
       "2021-08-31 23:56:00+00:00           82.3          98.7          97.3   \n",
       "2021-08-31 23:57:00+00:00           81.9          98.3          96.7   \n",
       "2021-08-31 23:58:00+00:00           82.3          98.7          97.3   \n",
       "2021-08-31 23:59:00+00:00           81.9          98.3          96.7   \n",
       "\n",
       "                           in_cici_temp  in_cici_voc  in_co2  in_humi  \\\n",
       "time                                                                    \n",
       "2020-07-28 11:14:00+00:00          82.0        100.0   873.0     61.0   \n",
       "2020-07-28 11:15:00+00:00          76.0        100.0   774.0     60.0   \n",
       "2020-07-28 11:16:00+00:00          68.0        100.0   712.0     56.0   \n",
       "2020-07-28 11:17:00+00:00          60.0        100.0   700.0     54.0   \n",
       "2020-07-28 11:18:00+00:00          54.0        100.0   692.0     54.0   \n",
       "...                                 ...          ...     ...      ...   \n",
       "2021-08-31 23:55:00+00:00          83.1         90.1   431.0     52.0   \n",
       "2021-08-31 23:56:00+00:00          83.1         88.8   435.0     52.0   \n",
       "2021-08-31 23:57:00+00:00          83.1         88.5   433.0     52.0   \n",
       "2021-08-31 23:58:00+00:00          83.4         88.7   436.0     52.0   \n",
       "2021-08-31 23:59:00+00:00          83.4         89.0   429.0     52.0   \n",
       "\n",
       "                           in_noise  in_pm01  in_pm01_raw  in_pm10  \\\n",
       "time                                                                 \n",
       "2020-07-28 11:14:00+00:00      73.0     14.0         14.0     16.0   \n",
       "2020-07-28 11:15:00+00:00      73.0     11.0         11.0     13.0   \n",
       "2020-07-28 11:16:00+00:00      73.0     11.0         11.0     11.0   \n",
       "2020-07-28 11:17:00+00:00      73.0     14.0         14.0     15.0   \n",
       "2020-07-28 11:18:00+00:00      74.0     11.0         11.0     13.0   \n",
       "...                             ...      ...          ...      ...   \n",
       "2021-08-31 23:55:00+00:00      49.0      5.0          5.0      5.0   \n",
       "2021-08-31 23:56:00+00:00      49.0      4.0          4.0      4.0   \n",
       "2021-08-31 23:57:00+00:00      50.0      5.0          5.0      5.0   \n",
       "2021-08-31 23:58:00+00:00      49.0      4.0          4.0      4.0   \n",
       "2021-08-31 23:59:00+00:00      50.0      5.0          5.0      5.0   \n",
       "\n",
       "                           in_pm10_raw  in_pm25  in_pm25_raw  in_temp  in_voc  \n",
       "time                                                                           \n",
       "2020-07-28 11:14:00+00:00         16.0     15.0         15.0     26.4     0.0  \n",
       "2020-07-28 11:15:00+00:00         13.0     12.0         12.0     27.4     0.0  \n",
       "2020-07-28 11:16:00+00:00         11.0     11.0         11.0     28.2     0.0  \n",
       "2020-07-28 11:17:00+00:00         15.0     14.0         14.0     29.0     1.0  \n",
       "2020-07-28 11:18:00+00:00         13.0     12.0         12.0     29.6     2.0  \n",
       "...                                ...      ...          ...      ...     ...  \n",
       "2021-08-31 23:55:00+00:00          5.0      5.0          5.0     26.0   198.0  \n",
       "2021-08-31 23:56:00+00:00          4.0      4.0          4.0     26.0   205.0  \n",
       "2021-08-31 23:57:00+00:00          5.0      5.0          5.0     26.0   213.0  \n",
       "2021-08-31 23:58:00+00:00          4.0      4.0          4.0     25.9   208.0  \n",
       "2021-08-31 23:59:00+00:00          5.0      5.0          5.0     25.9   201.0  \n",
       "\n",
       "[575326 rows x 20 columns]"
      ]
     },
     "execution_count": 5,
     "metadata": {},
     "output_type": "execute_result"
    }
   ],
   "source": [
    "testdata"
   ]
  },
  {
   "cell_type": "code",
   "execution_count": 6,
   "id": "721c71e4",
   "metadata": {
    "ExecuteTime": {
     "end_time": "2021-12-23T03:31:58.853051Z",
     "start_time": "2021-12-23T03:31:58.844639Z"
    }
   },
   "outputs": [
    {
     "data": {
      "text/plain": [
       "['in_ciai',\n",
       " 'in_cici',\n",
       " 'in_cici_co2',\n",
       " 'in_cici_humi',\n",
       " 'in_cici_noise',\n",
       " 'in_cici_pm10',\n",
       " 'in_cici_pm25',\n",
       " 'in_cici_temp',\n",
       " 'in_cici_voc',\n",
       " 'in_co2',\n",
       " 'in_humi',\n",
       " 'in_noise',\n",
       " 'in_pm01',\n",
       " 'in_pm01_raw',\n",
       " 'in_pm10',\n",
       " 'in_pm10_raw',\n",
       " 'in_pm25',\n",
       " 'in_pm25_raw',\n",
       " 'in_temp',\n",
       " 'in_voc']"
      ]
     },
     "execution_count": 6,
     "metadata": {},
     "output_type": "execute_result"
    }
   ],
   "source": [
    "testcolumns"
   ]
  },
  {
   "cell_type": "markdown",
   "id": "4a426439",
   "metadata": {},
   "source": [
    "# MS Meta Structure"
   ]
  },
  {
   "cell_type": "code",
   "execution_count": 7,
   "id": "f56e303a",
   "metadata": {},
   "outputs": [
    {
     "data": {
      "text/plain": [
       "{'column_information': [{'column_name': '--------------------',\n",
       "   'analysisResult': {'ListBasedResult': [{'analysisName': '--------------------',\n",
       "      'characteristics': 'mean',\n",
       "      'result': {'labelNameList': ['--------------------'],\n",
       "       'labelValueList': ['--------------------']}}]}}]}"
      ]
     },
     "execution_count": 7,
     "metadata": {},
     "output_type": "execute_result"
    }
   ],
   "source": [
    "{\"column_information\":[\n",
    "    {\n",
    "        \"column_name\":\"--------------------\",\n",
    "        \"analysisResult\":{\n",
    "            \"ListBasedResult\":[\n",
    "                {\n",
    "                    \"analysisName\":\"--------------------\",\n",
    "                    \"characteristics\":\"mean\",\n",
    "                    \"result\":{\n",
    "                        \"labelNameList\":[\n",
    "                            \"--------------------\"\n",
    "                        ],\n",
    "                        \"labelValueList\":[\n",
    "                            \"--------------------\"\n",
    "                        ]\n",
    "                    }\n",
    "                }\n",
    "            ]\n",
    "        }\n",
    "    }\n",
    "]}"
   ]
  },
  {
   "cell_type": "markdown",
   "id": "060542c6",
   "metadata": {},
   "source": [
    "# New Structure"
   ]
  },
  {
   "cell_type": "markdown",
   "id": "e054111b",
   "metadata": {
    "ExecuteTime": {
     "end_time": "2022-01-07T02:20:12.638753Z",
     "start_time": "2022-01-07T02:20:12.636324Z"
    }
   },
   "source": [
    "## Input Parameter - Meta Manager"
   ]
  },
  {
   "cell_type": "code",
   "execution_count": 9,
   "id": "e1420594",
   "metadata": {
    "ExecuteTime": {
     "end_time": "2022-01-14T01:05:23.308719Z",
     "start_time": "2022-01-14T01:05:23.303695Z"
    }
   },
   "outputs": [],
   "source": [
    "flist_data = [\"StatisticsResult\"] #Data\n",
    "flist_data_info = [\"MeanByHoliday\", \"MeanByWorking\", \"MeanByTimeStep\", \"FeatureLabel\"] #Additional Info, Data\n",
    "flist_info = [] #Additional Info\n",
    "function_list=[\"StatisticsResult\", \"MeanByHoliday\"]\n",
    "\n",
    "# 코드에 고유명사는 넣지말고 최대한 변수로 대체 - 하드코드 X / 변수명만 수정해도 코드 자체는 수정 안해도 되게 하기"
   ]
  },
  {
   "cell_type": "code",
   "execution_count": 10,
   "id": "7f50243a",
   "metadata": {
    "ExecuteTime": {
     "end_time": "2022-01-14T01:05:23.701657Z",
     "start_time": "2022-01-14T01:05:23.697541Z"
    }
   },
   "outputs": [],
   "source": [
    "measurement_list = [\"ICW0W2001042\", \"ICW0W2001043\", \"ICW0W2001044\"] # measurement 도 list로 받기"
   ]
  },
  {
   "cell_type": "code",
   "execution_count": 11,
   "id": "793d713e",
   "metadata": {
    "ExecuteTime": {
     "end_time": "2022-01-14T01:05:24.159205Z",
     "start_time": "2022-01-14T01:05:24.152108Z"
    }
   },
   "outputs": [],
   "source": [
    "first_input = {\n",
    "    \"database\" : \"air_indoor_체육시설\",\n",
    "    \"measurements\" : measurement_list,\n",
    "    \"function_list\" : function_list,\n",
    "    \"mode\" : \"Update\"\n",
    "}"
   ]
  },
  {
   "cell_type": "code",
   "execution_count": 12,
   "id": "c7314531",
   "metadata": {
    "ExecuteTime": {
     "end_time": "2022-01-10T06:19:50.908221Z",
     "start_time": "2022-01-10T06:19:50.895524Z"
    }
   },
   "outputs": [
    {
     "ename": "KeyError",
     "evalue": "'function_param'",
     "output_type": "error",
     "traceback": [
      "\u001b[0;31m---------------------------------------------------------------------------\u001b[0m",
      "\u001b[0;31mKeyError\u001b[0m                                  Traceback (most recent call last)",
      "\u001b[0;32m/var/folders/4b/0lscybsn63l25xcyfcbjhm8c0000gn/T/ipykernel_6713/1998386193.py\u001b[0m in \u001b[0;36m<module>\u001b[0;34m\u001b[0m\n\u001b[0;32m----> 1\u001b[0;31m \u001b[0mfirst_input\u001b[0m\u001b[0;34m[\u001b[0m\u001b[0;34m\"function_param\"\u001b[0m\u001b[0;34m]\u001b[0m\u001b[0;34m.\u001b[0m\u001b[0mvalues\u001b[0m\u001b[0;34m(\u001b[0m\u001b[0;34m)\u001b[0m\u001b[0;34m\u001b[0m\u001b[0;34m\u001b[0m\u001b[0m\n\u001b[0m",
      "\u001b[0;31mKeyError\u001b[0m: 'function_param'"
     ]
    }
   ],
   "source": [
    "first_input[\"function_param\"].values()"
   ]
  },
  {
   "cell_type": "code",
   "execution_count": null,
   "id": "90f38847",
   "metadata": {
    "ExecuteTime": {
     "end_time": "2022-01-07T02:41:57.548068Z",
     "start_time": "2022-01-07T02:41:57.544149Z"
    }
   },
   "outputs": [],
   "source": [
    "if first_input[\"function_list\"][\"statistics_result\"][\"flag\"]:\n",
    "    print(\"statistics_result True\")\n",
    "    # AnalysisStatisticsReulst 호출"
   ]
  },
  {
   "cell_type": "code",
   "execution_count": null,
   "id": "eeb6d371",
   "metadata": {
    "ExecuteTime": {
     "end_time": "2022-01-07T02:41:28.130196Z",
     "start_time": "2022-01-07T02:41:28.127723Z"
    }
   },
   "outputs": [],
   "source": [
    "\"\"\"\n",
    "ver2_first_input = {\n",
    "    \"database\" : \"air_indoor_체육시설\",\n",
    "    \"measurements\" : \"all\",\n",
    "    \"function_list\" : [\"statistics_result\", \"holiday\"],\n",
    "    \"mode\" : \"Update\"\n",
    "}\n",
    "\n",
    "if \"statistics_result\" in ver2_first_input[\"function_list\"]:\n",
    "    print(\"statistics_result True\")\n",
    "    # AnalysisStatisticsReulst 호출\n",
    "\"\"\""
   ]
  },
  {
   "cell_type": "code",
   "execution_count": null,
   "id": "b61badc7",
   "metadata": {},
   "outputs": [],
   "source": []
  },
  {
   "cell_type": "code",
   "execution_count": null,
   "id": "a0968b21",
   "metadata": {},
   "outputs": [],
   "source": []
  },
  {
   "cell_type": "markdown",
   "id": "ea4cd386",
   "metadata": {},
   "source": [
    "## KETIToolMetaManager"
   ]
  },
  {
   "cell_type": "markdown",
   "id": "d2abd59c",
   "metadata": {},
   "source": [
    "### MetaGenerator Package"
   ]
  },
  {
   "cell_type": "code",
   "execution_count": null,
   "id": "4688b5f9",
   "metadata": {},
   "outputs": [],
   "source": [
    "\"\"\"\n",
    "function_list=[\"StatisticsResult\", \"MeanByHoliday\"]\n",
    "measurement_list = [\"ICW0W2001042\", \"ICW0W2001043\", \"ICW0W2001044\"]\n",
    "first_input = {\n",
    "    \"database\" : \"air_indoor_체육시설\",\n",
    "    \"measurements\" : measurement_list,\n",
    "    \"function_list\" : function_list,\n",
    "    \"mode\" : \"Update\"\n",
    "}\n",
    "\n",
    "\"\"\""
   ]
  },
  {
   "cell_type": "markdown",
   "id": "cf8fc0b3",
   "metadata": {},
   "source": [
    "#### AnalysisMetaControl"
   ]
  },
  {
   "cell_type": "code",
   "execution_count": null,
   "id": "f4c5e16b",
   "metadata": {
    "ExecuteTime": {
     "end_time": "2022-01-14T01:05:43.262231Z",
     "start_time": "2022-01-14T01:05:43.253641Z"
    }
   },
   "outputs": [],
   "source": [
    "from KETIPreDataIngestion.KETI_setting import influx_setting_KETI as ins\n",
    "from KETIPreDataIngestion.data_influx import influx_Client\n",
    "#import AnalysisResultSetCreate as ARSC\n",
    "\n",
    "## KETIToolMetaManager - MetaGenerator Package\n",
    "class AnalysisMetaControl(AnalysisInputControl):\n",
    "    def __init__(self, metasave_info):\n",
    "        self.db = metasave_info[\"database\"]\n",
    "        self.ms_list = metasave_info[\"measurement_list\"]\n",
    "        self.function_list = metasave_info[\"function_list\"]\n",
    "        self.mode = metasave_info[\"mode\"]\n",
    "        \n",
    "    def get_metaset_by_measurement_condition(self): # measurement 조건별 생성한 metaset Output을 결정하는 아이\n",
    "        if self.ms_list == []: # measurement 를 all 로 기입\n",
    "            all_ms_list = influx_Client.influxClient(ins).measurement_list(self.db)\n",
    "            self.meta_set = self.create_metaset(all_ms_list)\n",
    "        else:\n",
    "            if len(self.ms_list) == 1: # measurement 한개 기입\n",
    "                self.meta_set = self.create_meta(self.ms_list)[0]\n",
    "            else: # measurement 를 여러개 기입\n",
    "                self.meta_set = self.create_meta(measurement)\n",
    "                \n",
    "        return self.meta_set\n",
    "    \n",
    "    def get_metaset(self, tablenames):\n",
    "        self.meta_set = []\n",
    "        for self.tablename in tablenames:\n",
    "            data, base_meta = super().get_input_source_by_functionlist()\n",
    "            analysis_result_set = Analyzer.BachCaller(self.db, self.tablename, self.function_list, data, base_meta)\n",
    "            analysis_meta = self.transform_meta_format(analysis_result_set)\n",
    "            self.meta_set.append(analysis_meta)\n",
    "        return self.meta_set\n",
    "    \n",
    "    def transform_meta_format(self, analysis_result_set): # meta_format_correction\n",
    "        pass # return analysis_meta"
   ]
  },
  {
   "cell_type": "markdown",
   "id": "dfdd09b1",
   "metadata": {},
   "source": [
    "#### AnalysisInputControl"
   ]
  },
  {
   "cell_type": "code",
   "execution_count": null,
   "id": "0b050056",
   "metadata": {
    "ExecuteTime": {
     "end_time": "2022-01-14T01:05:40.544026Z",
     "start_time": "2022-01-14T01:05:40.538473Z"
    }
   },
   "outputs": [],
   "source": [
    "#from KETIToolMetaManager.GetAnalysisInputSource import Collector\n",
    "\n",
    "class AnalysisInputControl(Collector):\n",
    "    def get_input_source_by_functionlist(self):\n",
    "        flist_data = [\"StatisticsResult\"] #Data\n",
    "        flist_data_info = [\"MeanByHoliday\", \"MeanByWorking\", \"MeanByTimeStep\", \"FeatureLabel\"] #Additional Info, Data\n",
    "        flist_info = [] #Additional Info\n",
    "        \n",
    "        data_flag = any(function in flist_data for function in self.function_list)\n",
    "        data_info_flag = any(function in flist_data_info for function in self.function_list)\n",
    "        info_flag = any(function in flist_info for function in self.function_list)\n",
    "        \n",
    "        if data_info_flag:\n",
    "            data = super().get_dataframe()\n",
    "            base_meta = super().get_database_meta()\n",
    "        else:\n",
    "            if data_flag:\n",
    "                data = super().get_dataframe()\n",
    "                base_meta = None\n",
    "            elif info_flag:\n",
    "                data = None\n",
    "                base_meta = super().get_database_meta()\n",
    "        \n",
    "        return data, base_meta"
   ]
  },
  {
   "cell_type": "code",
   "execution_count": null,
   "id": "bbfca2aa",
   "metadata": {
    "ExecuteTime": {
     "end_time": "2022-01-07T05:15:16.574542Z",
     "start_time": "2022-01-07T05:15:16.568977Z"
    },
    "scrolled": true
   },
   "outputs": [],
   "source": [
    "meta_test1 = MetaGeneralControl(first_input)"
   ]
  },
  {
   "cell_type": "code",
   "execution_count": null,
   "id": "367f232c",
   "metadata": {},
   "outputs": [],
   "source": []
  },
  {
   "cell_type": "code",
   "execution_count": null,
   "id": "3c9f233d",
   "metadata": {},
   "outputs": [],
   "source": []
  },
  {
   "cell_type": "markdown",
   "id": "8c82cc27",
   "metadata": {},
   "source": [
    "##### db, ms meta 둘다 필요할 경우 output"
   ]
  },
  {
   "cell_type": "code",
   "execution_count": null,
   "id": "1a5806a2",
   "metadata": {},
   "outputs": [],
   "source": [
    "# base_meta 가 현재는 db_meta 인데 나중에 ms_meta 도 추가된다면\n",
    "base_meta = {\"db_meta\" : {},\n",
    "                        \"ms_meta\": {}} # 이런 형태로 하기"
   ]
  },
  {
   "cell_type": "code",
   "execution_count": null,
   "id": "5853b765",
   "metadata": {},
   "outputs": [],
   "source": []
  },
  {
   "cell_type": "markdown",
   "id": "31381803",
   "metadata": {},
   "source": [
    "### InputSourceController Package"
   ]
  },
  {
   "cell_type": "code",
   "execution_count": null,
   "id": "6babf197",
   "metadata": {
    "ExecuteTime": {
     "end_time": "2022-01-14T01:05:37.259752Z",
     "start_time": "2022-01-14T01:05:37.229393Z"
    }
   },
   "outputs": [],
   "source": [
    "from KETIToolMetaManager.manual_data_insert import wiz_mongo_meta_api as wiz\n",
    "from KETIPreDataIngestion.KETI_setting import influx_setting_KETI as ins\n",
    "from KETIPreDataIngestion.data_influx import influx_Client\n",
    "from KETIPrePartialDataPreprocessing import data_preprocessing\n",
    "\n",
    "# packcage : GetAnalysisInputSource\n",
    "# class : Collector\n",
    "\n",
    "class Collector(): # GetInputSource / InputSourceCollector\n",
    "    def __init__(self, database, tablename):\n",
    "        self.db = database\n",
    "        self.tablename = tablename\n",
    "    \n",
    "    def get_database_meta(self):\n",
    "        domain = self.db.split(\"_\", maxsplit=1)[0]\n",
    "        sub_domain = self.db.split(\"_\", maxsplit=1)[1]\n",
    "        mongodb_con = wiz.WizApiMongoMeta(domain, sub_domain, \"db_information\")\n",
    "        base_meta = mongodb_con.get_database_collection_document()\n",
    "        \n",
    "        return base_meta\n",
    "    \n",
    "    def get_dataframe(self):\n",
    "        data_nopreprocessing = influx_Client.influxClient(ins).get_data(self.db, self.tablename)\n",
    "        # preprocessing\n",
    "        refine_param = {\n",
    "            \"removeDuplication\":{\"flag\":True},\n",
    "            \"staticFrequency\":{\"flag\":True, \"frequency\":None}\n",
    "        }\n",
    "        \n",
    "        outlier_param  = {\n",
    "            \"certainErrorToNaN\":{\"flag\":True},\n",
    "            \"unCertainErrorToNaN\":{\n",
    "                \"flag\":False,\n",
    "                \"param\":{\"neighbor\":[0.5,0.6]}\n",
    "            },\n",
    "            \"data_type\":\"air\"\n",
    "        }\n",
    "        \n",
    "        imputation_param = {\n",
    "            \"serialImputation\":{\n",
    "                \"flag\":True,\n",
    "                \"imputation_method\":[{\"min\":0,\"max\":20,\"method\":\"linear\" , \"parameter\":{}}],\n",
    "                \"totalNonNanRatio\":70\n",
    "            }\n",
    "        }\n",
    "        \n",
    "        process_param = {'refine_param':refine_param, 'outlier_param':outlier_param, 'imputation_param':imputation_param}\n",
    "        \n",
    "        partialP = data_preprocessing.packagedPartialProcessing(process_param)\n",
    "        dataframe = partialP.allPartialProcessing(data_nopreprocessing)[\"imputed_data\"]\n",
    "\n",
    "        return dataframe"
   ]
  },
  {
   "cell_type": "code",
   "execution_count": null,
   "id": "659745ab",
   "metadata": {},
   "outputs": [],
   "source": []
  },
  {
   "cell_type": "markdown",
   "id": "6a5b5b2e",
   "metadata": {},
   "source": [
    "## KETIToolAnalyzer"
   ]
  },
  {
   "cell_type": "markdown",
   "id": "ae67c3d9",
   "metadata": {},
   "source": [
    "### Analyzer Package"
   ]
  },
  {
   "cell_type": "markdown",
   "id": "9c1b7a56",
   "metadata": {},
   "source": [
    "#### BatchCaller"
   ]
  },
  {
   "cell_type": "code",
   "execution_count": null,
   "id": "012f34d1",
   "metadata": {
    "ExecuteTime": {
     "end_time": "2022-01-07T05:14:14.631974Z",
     "start_time": "2022-01-07T05:14:14.625850Z"
    }
   },
   "outputs": [],
   "source": [
    "class BatchCaller(StatisticsResult, MeanByHoliday, MeanByWorking, MeanByTimeStep, FeatureLabel):\n",
    "    def __init__(self, database, measurement, functionlist, dataframe, base_meta):\n",
    "        self.db = database\n",
    "        self.ms = measurement\n",
    "        self.function_list = functionlist\n",
    "        self.data = dataframe\n",
    "        self.base_meta = base_meta\n",
    "        \n",
    "    def make_analysis_result_set(self):# FL 에 있는 function들을 다 호출해서 output을 개별적으로 받아 set을 하나 만들어야함.\n",
    "        if \"StatisticsResult\" in self.function_list:\n",
    "            statistics_result = super().make_feature_statistics_result()\n",
    "        elif \"MeanByHoliday\" in self.function_list:\n",
    "            mean_by_holiday = super().make_meanbyholiday_result()\n",
    "        elif \"MeanByWorking\" in self.function_list:\n",
    "            pass\n",
    "        elif \"MeanByTimeStep\" in self.function_list:\n",
    "            pass\n",
    "        elif \"FeatureLabel\" in self.function_list:\n",
    "            pass\n",
    "            \n",
    "        \n",
    "        \"\"\"\n",
    "        flist_data = [\"StatisticsResult\"] #Data\n",
    "        flist_data_info = [\"MeanByHoliday\", \"MeanByWorking\", \"MeanByTimeStep\", \"FeatureLabel\"] #Additional Info, Data\n",
    "        flist_info = [] #Additional Info\n",
    "        \n",
    "        data_flag = any(function in flist_data for function in self.function_list)\n",
    "        data_info_flag = any(function in flist_data_info for function in self.function_list)\n",
    "        info_flag = any(function in flist_info for function in self.function_list)\n",
    "        \n",
    "        if data_info_flag:\n",
    "            data = super().get_dataframe()\n",
    "            base_meta = super().get_database_meta()\n",
    "        else:\n",
    "            if data_flag:\n",
    "                data = super().get_dataframe()\n",
    "                base_meta = None\n",
    "            elif info_flag:\n",
    "                data = None\n",
    "                base_meta = super().get_database_meta()\n",
    "        \"\"\""
   ]
  },
  {
   "cell_type": "code",
   "execution_count": null,
   "id": "8a07fb9a",
   "metadata": {},
   "outputs": [],
   "source": []
  },
  {
   "cell_type": "code",
   "execution_count": null,
   "id": "2dac4c97",
   "metadata": {},
   "outputs": [],
   "source": []
  },
  {
   "cell_type": "code",
   "execution_count": null,
   "id": "5aa412ce",
   "metadata": {},
   "outputs": [],
   "source": []
  },
  {
   "cell_type": "markdown",
   "id": "cd58430d",
   "metadata": {
    "ExecuteTime": {
     "end_time": "2022-01-13T08:37:58.982065Z",
     "start_time": "2022-01-13T08:37:58.979420Z"
    }
   },
   "source": [
    "#### test data read"
   ]
  },
  {
   "cell_type": "code",
   "execution_count": null,
   "id": "e5f01674",
   "metadata": {
    "ExecuteTime": {
     "end_time": "2022-01-14T01:06:00.443510Z",
     "start_time": "2022-01-14T01:05:51.485111Z"
    },
    "scrolled": true
   },
   "outputs": [],
   "source": [
    "d = Collector(\"air_indoor_체육시설\", \"ICW0W2001042\")\n",
    "test_data = d.get_dataframe()"
   ]
  },
  {
   "cell_type": "code",
   "execution_count": null,
   "id": "c5daf6ef",
   "metadata": {
    "ExecuteTime": {
     "end_time": "2022-01-14T01:06:00.477963Z",
     "start_time": "2022-01-14T01:06:00.445003Z"
    },
    "scrolled": true
   },
   "outputs": [],
   "source": [
    "test_data"
   ]
  },
  {
   "cell_type": "code",
   "execution_count": null,
   "id": "fe91802e",
   "metadata": {
    "ExecuteTime": {
     "end_time": "2022-01-14T01:33:56.318697Z",
     "start_time": "2022-01-14T01:33:56.208031Z"
    }
   },
   "outputs": [],
   "source": [
    "tworkrow = pd.Series(\"working\", \n",
    "                                    index= test_data.index[(test_data.index.hour >= 23) & (test_data.index.hour <= (4))])"
   ]
  },
  {
   "cell_type": "code",
   "execution_count": null,
   "id": "ad8110f7",
   "metadata": {
    "ExecuteTime": {
     "end_time": "2022-01-14T01:34:02.940006Z",
     "start_time": "2022-01-14T01:34:02.832197Z"
    }
   },
   "outputs": [],
   "source": [
    "## 23-5 일때는 이게 맞는듯\n",
    "tworkrow = pd.Series(\"working\", \n",
    "                                    index = test_data.index[(test_data.index.hour >= 23) | (test_data.index.hour <= (4))])"
   ]
  },
  {
   "cell_type": "code",
   "execution_count": null,
   "id": "6aa2f1f3",
   "metadata": {
    "ExecuteTime": {
     "end_time": "2022-01-14T01:34:27.126478Z",
     "start_time": "2022-01-14T01:34:27.021855Z"
    }
   },
   "outputs": [],
   "source": [
    "tworkrow = pd.Series(\"working\", \n",
    "                                    index = test_data.index[(test_data.index.hour >= 23) & (test_data.index.hour <= (23))])"
   ]
  },
  {
   "cell_type": "code",
   "execution_count": null,
   "id": "f51661ef",
   "metadata": {
    "ExecuteTime": {
     "end_time": "2022-01-14T01:34:27.555204Z",
     "start_time": "2022-01-14T01:34:27.543703Z"
    }
   },
   "outputs": [],
   "source": [
    "tworkrow"
   ]
  },
  {
   "cell_type": "code",
   "execution_count": null,
   "id": "70ebd277",
   "metadata": {
    "ExecuteTime": {
     "end_time": "2022-01-14T01:33:57.723528Z",
     "start_time": "2022-01-14T01:33:57.674365Z"
    }
   },
   "outputs": [],
   "source": [
    "test_data.index[test_data.index.hour >= 23]"
   ]
  },
  {
   "cell_type": "code",
   "execution_count": null,
   "id": "381ae91d",
   "metadata": {
    "ExecuteTime": {
     "end_time": "2022-01-13T08:41:20.008831Z",
     "start_time": "2022-01-13T08:41:19.957714Z"
    },
    "scrolled": true
   },
   "outputs": [],
   "source": [
    "test_data.index[test_data.index.hour <= 4]"
   ]
  },
  {
   "cell_type": "code",
   "execution_count": null,
   "id": "1116b94d",
   "metadata": {
    "ExecuteTime": {
     "end_time": "2022-01-14T01:49:28.939342Z",
     "start_time": "2022-01-14T01:49:28.884662Z"
    }
   },
   "outputs": [],
   "source": [
    "test_data.index.hour.unique()"
   ]
  },
  {
   "cell_type": "code",
   "execution_count": null,
   "id": "c87f36e9",
   "metadata": {},
   "outputs": [],
   "source": []
  },
  {
   "cell_type": "code",
   "execution_count": null,
   "id": "1655b404",
   "metadata": {},
   "outputs": [],
   "source": []
  },
  {
   "cell_type": "code",
   "execution_count": null,
   "id": "e535c4f2",
   "metadata": {},
   "outputs": [],
   "source": []
  },
  {
   "cell_type": "code",
   "execution_count": null,
   "id": "cf750796",
   "metadata": {},
   "outputs": [],
   "source": []
  },
  {
   "cell_type": "markdown",
   "id": "60990499",
   "metadata": {},
   "source": [
    "#### test db meta read"
   ]
  },
  {
   "cell_type": "code",
   "execution_count": null,
   "id": "2b6edee2",
   "metadata": {
    "ExecuteTime": {
     "end_time": "2022-01-14T01:42:56.838504Z",
     "start_time": "2022-01-14T01:42:56.835235Z"
    },
    "scrolled": true
   },
   "outputs": [],
   "source": [
    "import json\n",
    "\n",
    "with open('/home/hwangjisoo/바탕화면/Meta Data/DbMetaSample.json', 'r') as f:\n",
    "    db_meta_json = json.load(f)"
   ]
  },
  {
   "cell_type": "code",
   "execution_count": null,
   "id": "2ee60932",
   "metadata": {
    "ExecuteTime": {
     "end_time": "2022-01-14T01:42:57.666979Z",
     "start_time": "2022-01-14T01:42:57.654305Z"
    },
    "scrolled": true
   },
   "outputs": [],
   "source": [
    "db_meta_json"
   ]
  },
  {
   "cell_type": "code",
   "execution_count": null,
   "id": "e26a0083",
   "metadata": {},
   "outputs": [],
   "source": []
  },
  {
   "cell_type": "markdown",
   "id": "c23df095",
   "metadata": {},
   "source": [
    "#### StatisticsResult"
   ]
  },
  {
   "cell_type": "code",
   "execution_count": null,
   "id": "3a71150b",
   "metadata": {
    "ExecuteTime": {
     "end_time": "2022-01-13T03:31:02.413641Z",
     "start_time": "2022-01-13T03:31:02.407722Z"
    }
   },
   "outputs": [],
   "source": [
    "# 이것만 따로 사용할 시 Input을 어떻게 할건지 고민해봐야함\n",
    "class StatisticsResult():\n",
    "    def __init__(self, data):\n",
    "        self.data = data\n",
    "    def make_data_statistics_result(self):\n",
    "        \"\"\"\n",
    "        데이터의 통계적 분포 정보를 Dictionary로 생성하는 함수\n",
    "\n",
    "        Returns:\n",
    "            데이터의 통계적 분포 정보를 담고 있는 Dictionary\n",
    "        \"\"\"\n",
    "        statistics_result_dict = self.data.describe().to_dict()\n",
    "        return statistics_result_dict"
   ]
  },
  {
   "cell_type": "markdown",
   "id": "449b3f92",
   "metadata": {},
   "source": [
    "#### MeanByHoliday"
   ]
  },
  {
   "cell_type": "code",
   "execution_count": null,
   "id": "7c7610a3",
   "metadata": {
    "ExecuteTime": {
     "end_time": "2022-01-14T01:30:09.411640Z",
     "start_time": "2022-01-14T01:30:09.398533Z"
    }
   },
   "outputs": [],
   "source": [
    "class MeanByHoliday():\n",
    "    def __init__(self, data, base_meta):\n",
    "        self.data = data\n",
    "        self.base_meta = base_meta\n",
    "    def make_day_column(self): # make_day_info\n",
    "        \"\"\"\n",
    "        데이터의 시간에 따라 \"Day\" column에 요일 정보를 추가하는 함수\n",
    "\n",
    "        Returns:\n",
    "            요일 정보를 포함한 데이터\n",
    "        \"\"\"\n",
    "        days = [\"Mon\", \"Tue\", \"Wed\", \"Thu\", \"Fri\", \"Sat\", \"Sun\"]\n",
    "        day_list = [days[x] for x in self.data.index.weekday]\n",
    "        self.data[\"Day\"] = day_list\n",
    "        return self.data\n",
    "    \n",
    "    # Data Public Holiday Create\n",
    "    def make_holiday_column(self): # make_holiday_info\n",
    "        \"\"\"\n",
    "        데이터의 시간에 따라 \"HoliDay\" column에 휴일 정보를 추가하는 함수\n",
    "        요일 정보를 생성해주는 함수를 활용해서 주말 정보를 휴일로 구분\n",
    "        휴일은 사용자가 입력한 휴일 기준으로 한다.\n",
    "\n",
    "        Returns: \n",
    "            요일, 휴일 정보를 포함한 데이터\n",
    "        \"\"\"\n",
    "        self.data = self.make_day_column()\n",
    "        \n",
    "        ## public_holiday 생성\n",
    "        years = range(self.data.index.min().year, self.data.index.max().year+1)\n",
    "        public_holiday_list = []\n",
    "        for year in years:\n",
    "            public_holiday_list += [x.strftime(\"%Y-%m-%d\") for x in pytimekr.holidays(year)]\n",
    "            \n",
    "        ## data base meta 로 부터 휴일 기준을 받아오기\n",
    "        if type(self.base_meta) == dict:\n",
    "            base_meta_criteria = self.base_meta[\"columnInformation\"][0][\"analysisInformation\"][\"criteriaInformation\"]\n",
    "        else:# 독단적으로 사용시\n",
    "            # self.base_meta = [{\"criteriaName\":\"MeanByHoliday\", \"criteria\":[{'label': ['Holiday'], 'step': ['Sat', 'Sun']} ]}] 으로 Input\n",
    "            base_meta_criteria = self.base_meta\n",
    "\n",
    "        holiday_criteria = [cis[\"criteria\"][0] for cis in base_meta_criteria if cis[\"criteriaName\"] == \"MeanByHoliday\"][0]\n",
    "        # 최종 holiday_criteria = {'label': ['Holiday'], 'step': ['Sat', 'Sun']} -> {'label':[holiday만 존재], 'step':[holiday인 날만 쓰기]}\n",
    "        \n",
    "        input_holiday_list = []\n",
    "        for input_holiday in holiday_criteria[\"step\"]:\n",
    "            input_holiday_list += [x.strftime(\"%Y-%m-%d\") for x in self.data[self.data.Day == input_holiday].index.tz_convert(None)]\n",
    "        input_holiday_set = set(input_holiday_list)\n",
    "\n",
    "        ## 최종 휴일 Column 생성 (공휴일 + 입력한 휴일 기준)\n",
    "        final_holiday_list = public_holiday_list + list(input_holiday_set)\n",
    "        holidays = [\"holiday\" if x.strftime(\"%Y-%m-%d\") in final_holiday_list else \"notHoliday\" for x in self.data.index]\n",
    "        self.data[\"HoliDay\"] = holidays\n",
    "\n",
    "        return self.data\n",
    "\n",
    "    def make_meanbyholiday_result(self):\n",
    "        \"\"\"\n",
    "        Holiday &Not Holiday 에 따른 데이터의 평균 값을 Meta 로 생성하는 함수\n",
    "\n",
    "        - 휴일과 휴일이 아닌 날에 따른 분석을 위해 transform_holiday_create 함수로 추출한 \"HoliDay\" column을 활용\n",
    "        - Holiday Meta 를 생성한 후 병합하고 싶은 다른 Meta 가 있을시 meta_holi를 입력 받아 병합할 수 있으며 Holiday Meta 만 단독으로 생성하고 싶을 시 Meta 구조에 맞춰 단독 생성 가능\n",
    "\n",
    "        Args:\n",
    "            meta_holi: Holiday Meta 와 병합하고 싶은 다른 Meta\n",
    "        Returns:\n",
    "            Holiday, Not Holiday 의 평균 값을 포함한 Dictionary Meta\n",
    "        \"\"\"\n",
    "        self.data = self.make_holiday_column()\n",
    "        meanbyholiday_result_dict = self.data.groupby(\"HoliDay\").mean().to_dict()\n",
    "        \n",
    "        return meanbyholiday_result_dict"
   ]
  },
  {
   "cell_type": "code",
   "execution_count": null,
   "id": "f8bce412",
   "metadata": {},
   "outputs": [],
   "source": []
  },
  {
   "cell_type": "markdown",
   "id": "6562b967",
   "metadata": {},
   "source": [
    "##### Test Holiday"
   ]
  },
  {
   "cell_type": "code",
   "execution_count": null,
   "id": "1e8ec4ac",
   "metadata": {
    "ExecuteTime": {
     "end_time": "2022-01-13T06:55:47.818995Z",
     "start_time": "2022-01-13T06:55:43.410014Z"
    }
   },
   "outputs": [],
   "source": [
    "test_holi = MeanByHoliday(test_data, db_meta_json)\n",
    "holi_data_result_dict = test_holi.make_meanbyholiday_result()"
   ]
  },
  {
   "cell_type": "code",
   "execution_count": null,
   "id": "469b6737",
   "metadata": {
    "ExecuteTime": {
     "end_time": "2022-01-13T06:55:48.609021Z",
     "start_time": "2022-01-13T06:55:48.604945Z"
    }
   },
   "outputs": [],
   "source": [
    "holi_data_result_dict"
   ]
  },
  {
   "cell_type": "code",
   "execution_count": null,
   "id": "6406bcfe",
   "metadata": {},
   "outputs": [],
   "source": [
    "{\n",
    "    \"stati\" :re\n",
    "}"
   ]
  },
  {
   "cell_type": "code",
   "execution_count": null,
   "id": "6dd25497",
   "metadata": {},
   "outputs": [],
   "source": []
  },
  {
   "cell_type": "markdown",
   "id": "c64fb865",
   "metadata": {},
   "source": [
    "###### code test"
   ]
  },
  {
   "cell_type": "code",
   "execution_count": null,
   "id": "14ea2e8a",
   "metadata": {
    "ExecuteTime": {
     "end_time": "2022-01-13T03:04:00.815209Z",
     "start_time": "2022-01-13T03:04:00.810727Z"
    }
   },
   "outputs": [],
   "source": [
    "#weekend_list = set([x.strftime(\"%Y-%m-%d\") for x in self.data[(self.data.Day == \"Sat\") | (self.data.Day == \"Sun\")].index.tz_convert(None)])\n",
    "holiday_criteria = {'label': ['Holiday'], 'step': ['Sat', 'Sun']}"
   ]
  },
  {
   "cell_type": "code",
   "execution_count": null,
   "id": "0b510f7e",
   "metadata": {
    "ExecuteTime": {
     "end_time": "2022-01-13T03:17:56.084707Z",
     "start_time": "2022-01-13T03:17:55.292328Z"
    }
   },
   "outputs": [],
   "source": [
    "holiday_list = []\n",
    "for input_holiday in holiday_criteria[\"step\"]:\n",
    "    holiday_list += [x.strftime(\"%Y-%m-%d\") for x in test_data[test_data.Day == input_holiday].index.tz_convert(None)]\n",
    "hl = set(holiday_list)"
   ]
  },
  {
   "cell_type": "code",
   "execution_count": null,
   "id": "c0a4a8f4",
   "metadata": {
    "ExecuteTime": {
     "end_time": "2022-01-13T03:17:58.284879Z",
     "start_time": "2022-01-13T03:17:58.278055Z"
    }
   },
   "outputs": [],
   "source": [
    "hl"
   ]
  },
  {
   "cell_type": "code",
   "execution_count": null,
   "id": "c2c2683d",
   "metadata": {
    "ExecuteTime": {
     "end_time": "2022-01-13T03:19:09.343521Z",
     "start_time": "2022-01-13T03:19:09.339155Z"
    }
   },
   "outputs": [],
   "source": [
    "len(hl)"
   ]
  },
  {
   "cell_type": "code",
   "execution_count": null,
   "id": "8cf304d3",
   "metadata": {
    "ExecuteTime": {
     "end_time": "2022-01-13T03:24:26.706470Z",
     "start_time": "2022-01-13T03:24:26.701021Z"
    }
   },
   "outputs": [],
   "source": [
    "hll = list(hl)\n",
    "hll"
   ]
  },
  {
   "cell_type": "code",
   "execution_count": null,
   "id": "bf145bff",
   "metadata": {
    "ExecuteTime": {
     "end_time": "2022-01-13T03:24:30.570884Z",
     "start_time": "2022-01-13T03:24:30.564617Z"
    }
   },
   "outputs": [],
   "source": [
    "len(hll)"
   ]
  },
  {
   "cell_type": "code",
   "execution_count": null,
   "id": "4710e838",
   "metadata": {},
   "outputs": [],
   "source": []
  },
  {
   "cell_type": "code",
   "execution_count": null,
   "id": "191c2a56",
   "metadata": {
    "ExecuteTime": {
     "end_time": "2022-01-13T03:10:54.391731Z",
     "start_time": "2022-01-13T03:10:53.950014Z"
    }
   },
   "outputs": [],
   "source": [
    "for x in test_data[test_data.Day == input_holiday].index.tz_convert(None):\n",
    "        holiday_list.append(x.strftime(\"%Y-%m-%d\"))\n",
    "weekend = set(holiday_list)"
   ]
  },
  {
   "cell_type": "code",
   "execution_count": null,
   "id": "8cb5480c",
   "metadata": {
    "ExecuteTime": {
     "end_time": "2022-01-13T03:18:37.060300Z",
     "start_time": "2022-01-13T03:18:36.322795Z"
    },
    "scrolled": true
   },
   "outputs": [],
   "source": [
    "t1 = set([x.strftime(\"%Y-%m-%d\") for x in test_data[test_data.Day == holiday_criteria[\"step\"][0]].index.tz_convert(None)])\n",
    "t2 = set([x.strftime(\"%Y-%m-%d\") for x in test_data[test_data.Day == holiday_criteria[\"step\"][1]].index.tz_convert(None)])"
   ]
  },
  {
   "cell_type": "code",
   "execution_count": null,
   "id": "4b4cfeac",
   "metadata": {
    "ExecuteTime": {
     "end_time": "2022-01-13T03:18:40.766542Z",
     "start_time": "2022-01-13T03:18:40.759416Z"
    }
   },
   "outputs": [],
   "source": [
    "t1, t2"
   ]
  },
  {
   "cell_type": "code",
   "execution_count": null,
   "id": "42dadc73",
   "metadata": {
    "ExecuteTime": {
     "end_time": "2022-01-13T03:19:00.200458Z",
     "start_time": "2022-01-13T03:19:00.196465Z"
    }
   },
   "outputs": [],
   "source": [
    "len(t1), len(t2)"
   ]
  },
  {
   "cell_type": "code",
   "execution_count": null,
   "id": "29e95c2f",
   "metadata": {},
   "outputs": [],
   "source": []
  },
  {
   "cell_type": "markdown",
   "id": "b2d4fbf3",
   "metadata": {},
   "source": [
    "##### Analyzer.MeanByHoliday 만 독립적으로 쓸때 Input\n",
    "data = dataframe <br>\n",
    "base_meta = \n",
    "```\n",
    "[\n",
    "    {\n",
    "    \"criteriaName\":\"MeanByHoliday\", \n",
    "    \"criteria\":[\n",
    "                {\n",
    "            'label': ['Holiday'], \n",
    "            'step': ['Sat', 'Sun']\n",
    "                }\n",
    "            ]\n",
    "    }\n",
    "]\n",
    "``` \n",
    "<br>\n",
    "- step의 요일은 영어로 받기\n",
    "- base_meta는 최종적으로 list 로 기입 -> 훗날 다른 분석의 criteria(criteriaName) 이 추가적으로 필요할 상황이 생길수 있기때문에"
   ]
  },
  {
   "cell_type": "code",
   "execution_count": null,
   "id": "951520b7",
   "metadata": {
    "ExecuteTime": {
     "end_time": "2022-01-13T07:46:10.889325Z",
     "start_time": "2022-01-13T07:46:10.886494Z"
    }
   },
   "outputs": [],
   "source": [
    "test_base_meta = [\n",
    "                            {\n",
    "                            \"criteriaName\":\"MeanByHoliday\", \n",
    "                            \"criteria\":[\n",
    "                                        {\n",
    "                                    'label': ['Holiday'], \n",
    "                                    'step': ['Sat', 'Sun']\n",
    "                                        }\n",
    "                                    ]\n",
    "                                }\n",
    "                        ]\n",
    "t_holiday_criteria = test_base_meta[0][\"criteria\"][0]"
   ]
  },
  {
   "cell_type": "code",
   "execution_count": null,
   "id": "e2e0f500",
   "metadata": {
    "ExecuteTime": {
     "end_time": "2022-01-13T07:46:11.524873Z",
     "start_time": "2022-01-13T07:46:11.519339Z"
    }
   },
   "outputs": [],
   "source": [
    "t_holiday_criteria"
   ]
  },
  {
   "cell_type": "code",
   "execution_count": null,
   "id": "0462c58d",
   "metadata": {
    "ExecuteTime": {
     "end_time": "2022-01-13T07:54:46.304761Z",
     "start_time": "2022-01-13T07:54:46.299198Z"
    }
   },
   "outputs": [],
   "source": [
    "holiday_criteria = [cis[\"criteria\"][0] for cis in test_base_meta if cis[\"criteriaName\"] == \"MeanByHoliday\"][0]"
   ]
  },
  {
   "cell_type": "code",
   "execution_count": null,
   "id": "932f4ef1",
   "metadata": {
    "ExecuteTime": {
     "end_time": "2022-01-13T07:54:47.000506Z",
     "start_time": "2022-01-13T07:54:46.994571Z"
    }
   },
   "outputs": [],
   "source": [
    "holiday_criteria"
   ]
  },
  {
   "cell_type": "code",
   "execution_count": null,
   "id": "9cb24418",
   "metadata": {},
   "outputs": [],
   "source": []
  },
  {
   "cell_type": "code",
   "execution_count": null,
   "id": "3f488060",
   "metadata": {},
   "outputs": [],
   "source": []
  },
  {
   "cell_type": "markdown",
   "id": "6fcb20f8",
   "metadata": {},
   "source": [
    "#### MeanByWorking"
   ]
  },
  {
   "cell_type": "code",
   "execution_count": null,
   "id": "b58b4d27",
   "metadata": {
    "ExecuteTime": {
     "end_time": "2022-01-14T02:19:56.654071Z",
     "start_time": "2022-01-14T02:19:56.641780Z"
    }
   },
   "outputs": [],
   "source": [
    "from more_itertools import locate\n",
    "\n",
    "class MeanByWorking(MeanByHoliday):\n",
    "    def __init__(self, data, base_meta):\n",
    "        self.data = data\n",
    "        self.base_meta = base_meta\n",
    "    \n",
    "    # Data WorkingTime Create \n",
    "    def make_workingtime_column(self):\n",
    "        \"\"\"\n",
    "        데이터 시간에 따라 일하는 시간과 일하지 않는 시간의 정보를 \"Working\" column에 추가하는 함수\n",
    "\n",
    "        - 데이터에 휴일 정보가 있다면 해당 Column의 이름은 \"HoliDay\" 로 지정한 후에 파라미터에 입력해야한다.\n",
    "        - 데이터에 휴일 정보가 없다면 휴일을 생성하는 make_holiday_column 함수를 활용하여 휴일정보를 생성 # 데이터에 휴일정보가 있는지 없는지도 파라미터로 받기 or 스스로 알아내서 진행하기\n",
    "        - 입력 working_start, working_end 범위 외의 시간과 휴일을 일하지 않는 시간으로 정의\n",
    "        - 입력 시간에서 24시는 0시로 기입한다.\n",
    "        - 데이터 시간 정보의 주기가 1시간 이하일때 사용\n",
    "\n",
    "        Args:\n",
    "            working_start: 일을 시작하는 시간\n",
    "            working_end: 일이 끝나는 시간\n",
    "        Returns:\n",
    "            Working Feature 정보를 포함한 데이터\n",
    "        \"\"\"\n",
    "        if \"HoliDay\" not in self.data.columns: \n",
    "            self.data = super().make_holiday_column()\n",
    "        \n",
    "        if type(self.base_meta) == dict:\n",
    "            base_meta_criteria = self.base_meta[\"columnInformation\"][0][\"analysisInformation\"][\"criteriaInformation\"]\n",
    "        else:# 독단적으로 사용시\n",
    "            base_meta_criteria = self.base_meta\n",
    "\n",
    "        workingtime_criteria = [cis[\"criteria\"][0] for cis in base_meta_criteria if cis[\"criteriaName\"] == \"MeanByWorking\"][0]\n",
    "        # workingtime_criteria = {'step': [0, 9, 18, 24], 'label': ['notWorking', 'working', 'notWorking']}\n",
    "        \n",
    "        print(workingtime_criteria)\n",
    "        # base_meta 로 입력이 됨 -> 여기서 working_start, working_end 를 뽑아야함.\n",
    "        work_idx_list = list(locate(workingtime_criteria[\"label\"], lambda x: x == \"working\"))\n",
    "\n",
    "        working_row_df = pd.DataFrame()\n",
    "        print(\"working_row_df : \", working_row_df)\n",
    "        print(\"====================================\")\n",
    "        for work_idx in work_idx_list:\n",
    "            working_start = workingtime_criteria[\"step\"][work_idx]\n",
    "            working_end = workingtime_criteria[\"step\"][work_idx+1]\n",
    "            print(\"working_start : \", working_start)\n",
    "            print(\"working_end : \", working_end)\n",
    "            \n",
    "            if working_start <= working_end:\n",
    "                working_row = pd.Series(\"working\", \n",
    "                                        index = self.data.index[(self.data.index.hour >= working_start) & (self.data.index.hour <= (working_end-1))])\n",
    "            else:\n",
    "                working_row = pd.Series(\"working\",\n",
    "                                        index = self.data.index[(self.data.index.hour >= working_start) | (self.data.index.hour <= (working_end-1))])\n",
    "            \n",
    "            working_row_df = pd.concat([working_row_df,working_row])\n",
    "            print(\"working_row : \", working_row)\n",
    "            print(\"working_row time : \", working_row.index.hour.unique())\n",
    "            print(\"------------------------------------------------------------------------------\")\n",
    "            print(\"working_row_df : \", working_row_df)\n",
    "            print(\"working_row_df time : \", working_row_df.index.hour.unique())\n",
    "            print(\"------------------------------------------------------------------------------\")\n",
    "        \n",
    "        self.data[\"Working\"] = working_row_df\n",
    "        print(self.data[[\"HoliDay\", \"Working\"]])\n",
    "        print(self.data[self.data['Working'].isnull()][\"Working\"])\n",
    "        print(\"notWorking time : \", self.data[self.data['Working'].isnull()][\"Working\"].index.hour.unique())\n",
    "        self.data[\"Working\"].fillna(\"notWorking\", inplace = True)\n",
    "        print(\"+++++++++++++++++++++++++++++++++++\")\n",
    "        print(self.data[self.data['Working'].isnull()][\"Working\"])\n",
    "        print(self.data[self.data[\"Working\"] == \"notWorking\"][\"Working\"])\n",
    "        print(\"===========\")\n",
    "        print(self.data[[\"HoliDay\", \"Working\"]])\n",
    "        print(self.data[\"Working\"].unique())\n",
    "        \n",
    "        # 휴일인 경우\n",
    "        self.data.loc[self.data[self.data.HoliDay == \"holiday\"].index, \"Working\"] = \"notWorking\"\n",
    "        print(self.data[self.data[\"Working\"] == \"notWorking\"][\"Working\"])\n",
    "        \n",
    "        return self.data\n",
    "    \n",
    "    # Data WorkingTime Meta Create\n",
    "    def make_meanbyworking_result(self):\n",
    "        \"\"\"\n",
    "        Working Time&Not Working Time 에 따른 데이터의 평균 값을 Meta 로 생성하는 함수\n",
    "\n",
    "        - 일하는 시간과 일하지 않는 시간에 따른 분석을 위해 data_working_notworking_create 함수로 추출한 \"Working\" column을 활용\n",
    "        - Working Meta 를 생성한 후 병합하고 싶은 다른 Meta 가 있을시 meta_work를 입력 받아 병합하고 Working Meta 만 단독으로 생성하고 싶을 시 Meta 구조에 맞춰 단독 생성 가능\n",
    "\n",
    "        Args:\n",
    "            meta_work: Working Meta 와 병합하고 싶은 다른 Meta\n",
    "        Returns:\n",
    "            Working Time, Not Working Time 의 평균 값을 포함한 Dictionary Meta\n",
    "        \"\"\"\n",
    "        self.data = self.make_workingtime_column()\n",
    "        meanbyworking_result_dict = self.data.groupby(\"Working\").mean().to_dict()\n",
    "        \n",
    "        return meanbyworking_result_dict"
   ]
  },
  {
   "cell_type": "markdown",
   "id": "aade9703",
   "metadata": {},
   "source": [
    "###### Test MeanByWorking"
   ]
  },
  {
   "cell_type": "code",
   "execution_count": null,
   "id": "7cefd070",
   "metadata": {
    "ExecuteTime": {
     "end_time": "2022-01-14T03:02:32.191208Z",
     "start_time": "2022-01-14T03:02:30.796416Z"
    }
   },
   "outputs": [],
   "source": [
    "test_work = MeanByWorking(test_data, db_meta_json)\n",
    "work_data_test = test_work.make_workingtime_column()\n",
    "work_data_result_dict = test_work.make_meanbyworking_result()"
   ]
  },
  {
   "cell_type": "code",
   "execution_count": null,
   "id": "e64145e7",
   "metadata": {
    "ExecuteTime": {
     "end_time": "2022-01-14T03:02:35.250872Z",
     "start_time": "2022-01-14T03:02:35.243444Z"
    }
   },
   "outputs": [],
   "source": [
    "work_data_result_dict"
   ]
  },
  {
   "cell_type": "code",
   "execution_count": null,
   "id": "d25a08bd",
   "metadata": {
    "ExecuteTime": {
     "end_time": "2022-01-13T08:31:14.917980Z",
     "start_time": "2022-01-13T08:31:14.909599Z"
    }
   },
   "outputs": [],
   "source": [
    "test_work.working_row"
   ]
  },
  {
   "cell_type": "code",
   "execution_count": null,
   "id": "038ea415",
   "metadata": {
    "ExecuteTime": {
     "end_time": "2022-01-13T08:30:06.477063Z",
     "start_time": "2022-01-13T08:30:06.472269Z"
    }
   },
   "outputs": [],
   "source": [
    "type(test_work.working_row)"
   ]
  },
  {
   "cell_type": "code",
   "execution_count": null,
   "id": "f39fb5fc",
   "metadata": {},
   "outputs": [],
   "source": []
  },
  {
   "cell_type": "code",
   "execution_count": null,
   "id": "dc913f55",
   "metadata": {},
   "outputs": [],
   "source": []
  },
  {
   "cell_type": "code",
   "execution_count": null,
   "id": "8edff603",
   "metadata": {},
   "outputs": [],
   "source": []
  },
  {
   "cell_type": "code",
   "execution_count": null,
   "id": "6d7ef5ca",
   "metadata": {},
   "outputs": [],
   "source": []
  },
  {
   "cell_type": "code",
   "execution_count": null,
   "id": "a8b50ac8",
   "metadata": {},
   "outputs": [],
   "source": []
  },
  {
   "cell_type": "markdown",
   "id": "7e2bab92",
   "metadata": {},
   "source": [
    "##### db_meta를 불러와 넣을경우"
   ]
  },
  {
   "cell_type": "code",
   "execution_count": null,
   "id": "32a02494",
   "metadata": {
    "ExecuteTime": {
     "end_time": "2022-01-13T06:55:02.958529Z",
     "start_time": "2022-01-13T06:55:02.949856Z"
    },
    "scrolled": true
   },
   "outputs": [],
   "source": [
    "db_meta_json"
   ]
  },
  {
   "cell_type": "markdown",
   "id": "a5014ba9",
   "metadata": {},
   "source": [
    "##### Analyzer.MeanByWorking 만 독립적으로 쓸때 Input\n",
    "data = dataframe <br>\n",
    "base_meta =``` \n",
    "[\n",
    "    {\"criteriaName\":\"MeanByHoliday\",\n",
    "     \"criteria\":[{\n",
    "                    'label': ['Holiday'], \n",
    "                    'step': ['Sat', 'Sun']\n",
    "                    }]\n",
    "       },\n",
    "    {\"criteriaName\":\"MeanByWorking\",\n",
    "     \"criteria\":[{ \n",
    "                    'label': ['notWorking', 'working', 'notWorking'],\n",
    "                    'step': [0, 9, 18, 24]\n",
    "                    }]\n",
    "           }\n",
    "]``` <br>\n",
    "- MeanByHoliday 정보에서는 step의 요일은 영어로 받기\n",
    "- base_meta는 최종적으로 list 로 기입\n",
    "- 일안하는 휴일을 알기위해 MeanByHoliday의 criteria 정보를 기입"
   ]
  },
  {
   "cell_type": "code",
   "execution_count": null,
   "id": "4788493c",
   "metadata": {
    "ExecuteTime": {
     "end_time": "2022-01-13T08:33:18.081955Z",
     "start_time": "2022-01-13T08:33:18.078390Z"
    }
   },
   "outputs": [],
   "source": [
    "w_base_meta =[\n",
    "    {\"criteriaName\":\"MeanByHoliday\",\n",
    "     \"criteria\":[{\n",
    "                    'label': ['Holiday'], \n",
    "                    'step': ['Sat', 'Sun']\n",
    "                    }]\n",
    "       },\n",
    "    {\"criteriaName\":\"MeanByWorking\",\n",
    "     \"criteria\":[{\n",
    "                    'step': [0, 9, 18, 24], \n",
    "                    'label': ['notWorking', 'working', 'notWorking']\n",
    "                    }]\n",
    "           }\n",
    "]"
   ]
  },
  {
   "cell_type": "code",
   "execution_count": null,
   "id": "e70f640e",
   "metadata": {
    "ExecuteTime": {
     "end_time": "2022-01-13T08:01:40.487885Z",
     "start_time": "2022-01-13T08:01:40.483068Z"
    }
   },
   "outputs": [],
   "source": [
    "t_workingtime_criteria = [cis[\"criteria\"][0] for cis in w_base_meta if cis[\"criteriaName\"] == \"MeanByWorking\"][0]"
   ]
  },
  {
   "cell_type": "code",
   "execution_count": null,
   "id": "d290946f",
   "metadata": {
    "ExecuteTime": {
     "end_time": "2022-01-13T08:01:43.364933Z",
     "start_time": "2022-01-13T08:01:43.358945Z"
    }
   },
   "outputs": [],
   "source": [
    "t_workingtime_criteria"
   ]
  },
  {
   "cell_type": "code",
   "execution_count": null,
   "id": "9c715684",
   "metadata": {
    "ExecuteTime": {
     "end_time": "2022-01-13T08:11:58.842996Z",
     "start_time": "2022-01-13T08:11:58.838449Z"
    }
   },
   "outputs": [],
   "source": [
    "testwork = {'label': [23, 5, 11, 17, 23], \"step\":[\"working\", \"notWork\", \"working\", \"notWork\"]}"
   ]
  },
  {
   "cell_type": "code",
   "execution_count": null,
   "id": "7dfb7c5b",
   "metadata": {
    "ExecuteTime": {
     "end_time": "2022-01-13T08:11:59.189120Z",
     "start_time": "2022-01-13T08:11:59.178668Z"
    }
   },
   "outputs": [],
   "source": [
    "from more_itertools import locate\n",
    "\n",
    "work_idx_list = list(locate(testwork[\"step\"], lambda x: x == \"working\"))\n",
    "work_idx_list"
   ]
  },
  {
   "cell_type": "code",
   "execution_count": null,
   "id": "0bbb4a0c",
   "metadata": {},
   "outputs": [],
   "source": [
    "work_idx_list = list(locate(testwork[\"step\"], lambda x: x == \"working\"))\n",
    "for work_idx in work_idx_list:\n",
    "    testwork[\"label\"][work_idx]"
   ]
  },
  {
   "cell_type": "code",
   "execution_count": null,
   "id": "4f52f1a4",
   "metadata": {
    "ExecuteTime": {
     "end_time": "2022-01-13T08:12:47.825125Z",
     "start_time": "2022-01-13T08:12:47.820802Z"
    }
   },
   "outputs": [],
   "source": [
    "testwork[\"label\"][2]"
   ]
  },
  {
   "cell_type": "code",
   "execution_count": null,
   "id": "631d82de",
   "metadata": {},
   "outputs": [],
   "source": []
  },
  {
   "cell_type": "code",
   "execution_count": null,
   "id": "fc62d80a",
   "metadata": {
    "ExecuteTime": {
     "end_time": "2022-01-14T01:43:23.446381Z",
     "start_time": "2022-01-14T01:43:23.440607Z"
    }
   },
   "outputs": [],
   "source": [
    "test2222 =[\n",
    "    {\"criteriaName\":\"MeanByHoliday\",\n",
    "     \"criteria\":[{\n",
    "                    'label': ['Holiday'], \n",
    "                    'step': ['Sat', 'Sun']\n",
    "                    }]\n",
    "       },\n",
    "    {\"criteriaName\":\"MeanByWorking\",\n",
    "     \"criteria\":[{'step': [23, 5, 11, 17, 23], \"label\":[\"working\", \"notWork\", \"working\", \"notWork\"]}]\n",
    "           }\n",
    "]"
   ]
  },
  {
   "cell_type": "code",
   "execution_count": null,
   "id": "3380ee2b",
   "metadata": {},
   "outputs": [],
   "source": []
  },
  {
   "cell_type": "code",
   "execution_count": null,
   "id": "eceef97f",
   "metadata": {},
   "outputs": [],
   "source": []
  },
  {
   "cell_type": "markdown",
   "id": "be442085",
   "metadata": {},
   "source": [
    "#### MeanByTimeStep"
   ]
  },
  {
   "cell_type": "code",
   "execution_count": null,
   "id": "49e60f71",
   "metadata": {
    "ExecuteTime": {
     "end_time": "2022-01-14T03:48:34.246068Z",
     "start_time": "2022-01-14T03:48:34.239028Z"
    }
   },
   "outputs": [],
   "source": [
    "class MeanByTimeStep():\n",
    "    def __init__(self, data, base_meta):\n",
    "        self.data = data\n",
    "        self.base_meta = base_meta\n",
    "        \n",
    "    def make_timestep_column(self):\n",
    "        \"\"\"\n",
    "        입력 Time Step에 따라 구분된 Time Label 정보를 \"TimeStep\" column 에 추가하는 함수\n",
    "        \n",
    "        - Hour의 흐름에 따라 구분을 하는 함수로 데이터 시간 정보의 주기가 Hour, Minute, Second 일때 사용\n",
    "\n",
    "        Args:\n",
    "            timestep: 나누고 싶은 시간 범위를 입력\n",
    "            timelabel: 나눈 시간 범위에 따른 명칭 입력\n",
    "        Returns:\n",
    "            Time Step 에 따른 Time Label 정보를 포함한 데이터\n",
    "        \"\"\"\n",
    "        # timestep=[0, 6, 12, 17, 20, 24], timelabel=[\"dawn\", \"morning\", \"afternoon\", \"evening\", \"night\"]\n",
    "        if type(self.base_meta) == dict:\n",
    "            base_meta_criteria = self.base_meta[\"columnInformation\"][0][\"analysisInformation\"][\"criteriaInformation\"]\n",
    "        else:# 독단적으로 사용시\n",
    "            base_meta_criteria = self.base_meta\n",
    "\n",
    "        timestep_criteria = [cis[\"criteria\"][0] for cis in base_meta_criteria if cis[\"criteriaName\"] == \"MeanByTimeStep\"][0]\n",
    "        timestep = timestep_criteria[\"step\"]\n",
    "        timelabel = timestep_criteria[\"label\"]\n",
    "        \n",
    "        self.data[\"TimeStep\"] = np.array(None)\n",
    "        for n in range(len(timestep)-1):\n",
    "            self.data.loc[self.data[(self.data.index.hour >= timestep[n])&(self.data.index.hour < timestep[n+1])].index, \"TimeStep\"] = timelabel[n]\n",
    "        return self.data\n",
    "\n",
    "    # Data Time Step Meta Create \n",
    "    def make_meanbytimestep_result(self):\n",
    "        \"\"\"\n",
    "        입력 Time Step, Time Label 에 따른 데이터의 평균 값을 Meta 로 생성하는 함수\n",
    "\n",
    "        - Time Step 에 따른 Time Label 정보를 분석하기 위해 data_time_step_cut 함수로 추출한 \"TimeStep\" column 을 활용\n",
    "        - Timestep Meta 를 생성한 후 병합하고 싶은 다른 Meta 가 있을시 meta_timestep 입력 받아 병합하고 Timestep Meta 만 단독으로 생성하고 싶을 시 Meta 구조에 맞춰 단독 생성 가능\n",
    "\n",
    "        Args:\n",
    "            timestep: 나누고 싶은 시간 범위를 입력\n",
    "            timelabel: 나눈 시간 범위에 따른 명칭 입력\n",
    "            meta_timestep: Timestep Meta 와 병합하고 싶은 다른 Meta\n",
    "        Returns:\n",
    "            Time Label 에 따른 평균 값을 포함한 Dictionary Meta\n",
    "        \"\"\"\n",
    "        self.data = self.make_timestep_column()\n",
    "        meanbytimestep_result_dict = self.data.groupby(\"TimeStep\").mean().to_dict()\n",
    "        \n",
    "        return meanbytimestep_result_dict"
   ]
  },
  {
   "cell_type": "markdown",
   "id": "0f4d316c",
   "metadata": {},
   "source": [
    "##### Test MeanByTimeStep"
   ]
  },
  {
   "cell_type": "code",
   "execution_count": null,
   "id": "f425ae86",
   "metadata": {
    "ExecuteTime": {
     "end_time": "2022-01-14T03:48:37.015225Z",
     "start_time": "2022-01-14T03:48:35.579605Z"
    }
   },
   "outputs": [],
   "source": [
    "test_timestep = MeanByTimeStep(test_data, db_meta_json)\n",
    "test_timestep_data = test_timestep.make_timestep_column()\n",
    "test_timestep_data_result_dict = test_timestep.make_meanbytimestep_result()"
   ]
  },
  {
   "cell_type": "code",
   "execution_count": null,
   "id": "f695993c",
   "metadata": {
    "ExecuteTime": {
     "end_time": "2022-01-14T03:49:04.020328Z",
     "start_time": "2022-01-14T03:49:03.991569Z"
    }
   },
   "outputs": [],
   "source": [
    "test_timestep_data[\"TimeStep\"].unique()"
   ]
  },
  {
   "cell_type": "code",
   "execution_count": null,
   "id": "f56da31a",
   "metadata": {
    "ExecuteTime": {
     "end_time": "2022-01-14T03:49:06.352619Z",
     "start_time": "2022-01-14T03:49:06.342777Z"
    }
   },
   "outputs": [],
   "source": [
    "test_timestep_data_result_dict"
   ]
  },
  {
   "cell_type": "markdown",
   "id": "e6c95347",
   "metadata": {},
   "source": [
    "##### Test Code"
   ]
  },
  {
   "cell_type": "code",
   "execution_count": null,
   "id": "17e3e419",
   "metadata": {
    "ExecuteTime": {
     "end_time": "2022-01-14T03:40:15.215963Z",
     "start_time": "2022-01-14T03:40:15.210960Z"
    }
   },
   "outputs": [],
   "source": [
    "t_timestep_criteria = [cis[\"criteria\"][0] for cis in ts_base_meta if cis[\"criteriaName\"] == \"MeanByTimeStep\"][0]"
   ]
  },
  {
   "cell_type": "code",
   "execution_count": null,
   "id": "d3344bfb",
   "metadata": {
    "ExecuteTime": {
     "end_time": "2022-01-14T03:40:22.527160Z",
     "start_time": "2022-01-14T03:40:22.523006Z"
    }
   },
   "outputs": [],
   "source": [
    "t_timestep_criteria[\"label\"]"
   ]
  },
  {
   "cell_type": "markdown",
   "id": "2643dcfc",
   "metadata": {},
   "source": [
    "##### Analyzer.MeanByTimeStep 만 독립적으로 쓸때 Input\n",
    "data = dataframe <br>\n",
    "base_meta =``` \n",
    "[\n",
    "    {\"criteriaName\":\"MeanByTimeStep\",\n",
    "     \"criteria\":[{\n",
    "                    'label': ['dawn', 'morning', 'afternoon', 'evening', 'night'], \n",
    "                    'step': [0, 6, 12, 17, 20, 24]\n",
    "                    }]\n",
    "       }\n",
    "]``` <br>\n",
    "- base_meta는 최종적으로 list 로 기입"
   ]
  },
  {
   "cell_type": "code",
   "execution_count": null,
   "id": "a4bcbc11",
   "metadata": {
    "ExecuteTime": {
     "end_time": "2022-01-14T03:40:03.534534Z",
     "start_time": "2022-01-14T03:40:03.531646Z"
    }
   },
   "outputs": [],
   "source": [
    "ts_base_meta =[\n",
    "    {\"criteriaName\":\"MeanByTimeStep\",\n",
    "     \"criteria\":[{\n",
    "                    'label': ['dawn', 'morning', 'afternoon', 'evening', 'night'], \n",
    "                    'step': [0, 6, 12, 17, 20, 24]\n",
    "                    }]\n",
    "       }\n",
    "]"
   ]
  },
  {
   "cell_type": "code",
   "execution_count": null,
   "id": "e22b167c",
   "metadata": {},
   "outputs": [],
   "source": []
  },
  {
   "cell_type": "code",
   "execution_count": null,
   "id": "8dffd342",
   "metadata": {},
   "outputs": [],
   "source": []
  },
  {
   "cell_type": "code",
   "execution_count": null,
   "id": "f66a9f2f",
   "metadata": {},
   "outputs": [],
   "source": []
  },
  {
   "cell_type": "code",
   "execution_count": null,
   "id": "d9e84c21",
   "metadata": {},
   "outputs": [],
   "source": []
  },
  {
   "cell_type": "markdown",
   "id": "54d8cf96",
   "metadata": {},
   "source": [
    "#### CountByFeatureLabel"
   ]
  },
  {
   "cell_type": "code",
   "execution_count": null,
   "id": "2b342485",
   "metadata": {
    "ExecuteTime": {
     "end_time": "2022-01-14T03:02:10.547610Z",
     "start_time": "2022-01-14T03:02:10.545158Z"
    }
   },
   "outputs": [],
   "source": [
    "class CountByFeatureLabel():\n",
    "    def __init__(self, data, base_meta):\n",
    "        self.data = data\n",
    "        self.base_meta = base_meta\n",
    "    \n",
    "     # Data Label Information Meta Create\n",
    "    def data_label_information_meta(self):\n",
    "        \"\"\"\n",
    "        데이터의 Label Information Meta 를 생성하는 함수\n",
    "\n",
    "        - 데이터베이스에 Label Information 정보가 있어야 함\n",
    "\n",
    "        \"\"\"\n",
    "        db_doc = wiz.WizApiMongoMeta(self.domain, self.subdomain, \"db_information\")\n",
    "        db_info_doc = db_doc.get_database_collection_document()\n",
    "    \n",
    "        feature_information = {}\n",
    "        for feature in db_info_doc[\"db_feature_information\"]:\n",
    "            if \"label_information\" not in db_info_doc[\"db_feature_information\"][feature].keys():\n",
    "                feature_information[feature] = {\"label_information\":{\"labelcount\":0}}\n",
    "            else:\n",
    "                self.data_cut[feature] = pd.cut(x=self.data[feature], \n",
    "                                     bins=db_info_doc[\"db_feature_information\"][feature][\"label_information\"][\"level\"],\n",
    "                                    labels=db_info_doc[\"db_feature_information\"][feature][\"label_information\"][\"label\"])\n",
    "\n",
    "                labelcount = dict(self.data_cut.groupby(feature).count())\n",
    "                label_dict = {}\n",
    "                label_ls = []\n",
    "                \n",
    "                for n in range(len(labelcount)):\n",
    "                    label_dict[\"value\"] = int(labelcount[list(labelcount.keys())[n]])\n",
    "                    label_dict[\"name\"] = list(labelcount.keys())[n]\n",
    "                    label_ls.append(label_dict.copy())\n",
    "\n",
    "                feature_information[feature] = {\"label_information\":{\"labelcount\":label_ls}}\n",
    "\n",
    "        return feature_information"
   ]
  },
  {
   "cell_type": "code",
   "execution_count": null,
   "id": "9fac634c",
   "metadata": {},
   "outputs": [],
   "source": []
  },
  {
   "cell_type": "code",
   "execution_count": null,
   "id": "9b345fde",
   "metadata": {},
   "outputs": [],
   "source": []
  },
  {
   "cell_type": "code",
   "execution_count": null,
   "id": "e1c827c3",
   "metadata": {},
   "outputs": [],
   "source": []
  },
  {
   "cell_type": "code",
   "execution_count": null,
   "id": "8ba5c97b",
   "metadata": {},
   "outputs": [],
   "source": []
  },
  {
   "cell_type": "code",
   "execution_count": null,
   "id": "f1fdcd11",
   "metadata": {},
   "outputs": [],
   "source": []
  },
  {
   "cell_type": "code",
   "execution_count": null,
   "id": "96caa608",
   "metadata": {},
   "outputs": [],
   "source": []
  },
  {
   "cell_type": "code",
   "execution_count": null,
   "id": "62348ed0",
   "metadata": {},
   "outputs": [],
   "source": []
  },
  {
   "cell_type": "code",
   "execution_count": null,
   "id": "93d80541",
   "metadata": {},
   "outputs": [],
   "source": []
  },
  {
   "cell_type": "markdown",
   "id": "d5a8f889",
   "metadata": {},
   "source": [
    "# 임시 구조 코드"
   ]
  },
  {
   "cell_type": "markdown",
   "id": "9d7869c5",
   "metadata": {},
   "source": [
    "## FeatureCreateMetaCreate Module"
   ]
  },
  {
   "cell_type": "code",
   "execution_count": null,
   "id": "ba4049f2",
   "metadata": {
    "ExecuteTime": {
     "end_time": "2021-12-23T07:55:43.958748Z",
     "start_time": "2021-12-23T07:55:43.936998Z"
    }
   },
   "outputs": [],
   "source": [
    "class FeatureCreateMetaCreate():\n",
    "    def __init__(self, data, columns, tablename):\n",
    "        self.data = data\n",
    "        self.columns = columns\n",
    "        self.tablename = tablename\n",
    "        self.data_cut = pd.DataFrame()\n",
    "        self.meta_structure = {}\n",
    "    \n",
    "    def data_feature_statistics_result_create(self):\n",
    "        \"\"\"\n",
    "        데이터의 통계적 분포 정보를 Dictionary로 생성하는 함수\n",
    "\n",
    "        Returns:\n",
    "            데이터의 통계적 분포 정보를 담고 있는 Dictionary\n",
    "        \"\"\"\n",
    "        statistics_result_dict = self.data.describe().to_dict()\n",
    "        return statistics_result_dict\n",
    "    \n",
    "    def meta_structure_create(self, column_name, analysisname, characteristics, labelname, labelvalue):\n",
    "        column_info_list = []\n",
    "        column_info_list.append({\"column_name\":column_name,\n",
    "                                                     \"analysisResult\":{\"ListBasedResult\":[\n",
    "                                                         {\"analysisName\":analysisname,\n",
    "                                                          \"characteristics\":characteristics,\n",
    "                                                          \"result\":{\n",
    "                                                              \"labelNameList\":labelname,\n",
    "                                                              \"labelValueList\":labelvalue\n",
    "                                                          }}]}})\n",
    "        self.meta_structure[\"column_information\"] = column_info_list\n",
    "        # column 별 다른 함수에서  이 함수를 계속 for문 처럼 부를텐데 어떻게 meta_structure에 column별 info 를 붙일까\n",
    "        # input parameter 를 아래처럼?\n",
    "        \"\"\"\n",
    "        {\n",
    "        \"analysisname\": \"analysisname\",\n",
    "        \"characteristics\": \"characteristics\",\n",
    "        \"column 1\" : [[\"labelname\"], [\"labelvalue\"]],\n",
    "        \"column 2\" : [[\"labelname\"], [\"labelvalue\"]],\n",
    "        \"column 3\" : [[\"labelname\"], [\"labelvalue\"]]\n",
    "        }\n",
    "        모든 input parameter를 이런식으로 받는다면? - for문을 돌려서 column_info_list에 append 해서 meta structure를 만들어볼수 잇을듯\n",
    "        \"\"\"\n",
    "    \n",
    "    def data_statistics_result_meta(self):\n",
    "        \"\"\"\n",
    "        데이터의 통계적 분포 분석을 위해 데이터 통계 Meta 정해진 Meta 구조에 맞춰 생성하는 함수\n",
    "\n",
    "        - data_feature_statistics_result_create 함수를 활용해 데이터의 통계적 정보를 추출\n",
    "\n",
    "        Returns: \n",
    "            데이터의 통계 분포 결과인 Dictionary Meta\n",
    "        \"\"\"\n",
    "        des_dict = self.data_feature_statistics_result_create()\n",
    "        des_feature_dict = {}\n",
    "\n",
    "        # 아래 코드를 더짧게는 할 수 없나..? + labelvalue 에서 None 처리 코드 넣어야함\n",
    "        for columnname in des_dict:\n",
    "            labelname_list = []\n",
    "            labelvalue_list = []\n",
    "            for key in des_dict[columnname]:\n",
    "                labelname_list.append(key)\n",
    "                labelvalue_list.append(des_dict[columnname][key])\n",
    "                des_dict[columnname] = [labelname_list, labelvalue_list]\n",
    "        # des_dict를 meta_structure_create 여기에 넣어줄 생각이었음.\n",
    "        \n",
    "        \n",
    "        for n in des_dict:\n",
    "            for key in des_dict[n]:\n",
    "                if np.isnan(des_dict[n][key]): # nan -> \"None\"\n",
    "                    des_dict[n][key] = \"None\"\n",
    "            des_feature_dict[n] = {\"statistics\":{\"average\":des_dict[n]}}\n",
    "        des_final_dict = {\"table_name\":self.tablename, \"feature_information\":des_feature_dict}\n",
    "        return des_final_dict\n",
    "    \n",
    "    # Data Day Create    \n",
    "    def transform_day_create(self):\n",
    "        \"\"\"\n",
    "        데이터의 시간에 따라 \"Day\" column에 요일 정보를 추가하는 함수\n",
    "\n",
    "        Returns:\n",
    "            요일 정보를 포함한 데이터\n",
    "        \"\"\"\n",
    "        days = [\"Mon\", \"Tue\", \"Wed\", \"Thu\", \"Fri\", \"Sat\", \"Sun\"]\n",
    "        day_list = [days[x] for x in self.data.index.weekday]\n",
    "        self.data[\"Day\"] = day_list\n",
    "        return self.data\n",
    "    \n",
    "    # Data Public Holiday Create\n",
    "    def transform_holiday_create(self):\n",
    "        \"\"\"\n",
    "        데이터의 시간에 따라 \"HoliDay\" column에 휴일 정보를 추가하는 함수\n",
    "        요일 정보를 생성해주는 함수를 활용해서 주말 정보를 휴일로 구분\n",
    "        휴일은 주말과 공휴일을 의미\n",
    "\n",
    "        Returns: \n",
    "            요일, 휴일 정보를 포함한 데이터\n",
    "        \"\"\"\n",
    "        self.data = self.transform_day_create()\n",
    "        years = range(self.data.index.min().year, self.data.index.max().year+1)\n",
    "        holi_list = []\n",
    "        for year in years:\n",
    "            holi_list += [x.strftime(\"%Y-%m-%d\") for x in pytimekr.holidays(year)]\n",
    "        \n",
    "        weekend_list = set([x.strftime(\"%Y-%m-%d\") for x in self.data[(self.data.Day == \"Sat\") | (self.data.Day == \"Sun\")].index.tz_convert(None)])\n",
    "        final_holi_list = holi_list + [x for x in weekend_list]\n",
    "\n",
    "        holidays = [\"holiday\" if x.strftime(\"%Y-%m-%d\") in final_holi_list else \"notHoliday\" for x in self.data.index]\n",
    "        self.data[\"HoliDay\"] = holidays\n",
    "\n",
    "        return self.data\n",
    "       \n",
    "    def data_holiday_notholiday_value(self, meta_holi = None):\n",
    "        \"\"\"\n",
    "        Holiday &Not Holiday 에 따른 데이터의 평균 값을 Meta 로 생성하는 함수\n",
    "\n",
    "        - 휴일과 휴일이 아닌 날에 따른 분석을 위해 transform_holiday_create 함수로 추출한 \"HoliDay\" column을 활용\n",
    "        - Holiday Meta 를 생성한 후 병합하고 싶은 다른 Meta 가 있을시 meta_holi를 입력 받아 병합할 수 있으며 Holiday Meta 만 단독으로 생성하고 싶을 시 Meta 구조에 맞춰 단독 생성 가능\n",
    "\n",
    "        Args:\n",
    "            meta_holi: Holiday Meta 와 병합하고 싶은 다른 Meta\n",
    "        Returns:\n",
    "            Holiday, Not Holiday 의 평균 값을 포함한 Dictionary Meta\n",
    "        \"\"\"\n",
    "        self.data = self.transform_holiday_create()\n",
    "        holi_dict = self.data.groupby(\"HoliDay\").mean().to_dict()\n",
    "        return holi_dict\n",
    "        \n",
    "    def data_holiday_notholiday_meta(self, meta_holi = None):\n",
    "        holi_dict = self.data_holiday_notholiday_value(meta_holi)\n",
    "        holi_feature_dict = {}\n",
    "        for n in holi_dict: # 먼저 holiday info dictionary를 만들어 둔다.\n",
    "            if len(holi_dict[n].keys()) == 2:\n",
    "                holi_x = list(holi_dict[n].keys())[0]\n",
    "                holi_y = list(holi_dict[n].keys())[1]\n",
    "                holi_average_x = holi_dict[n][holi_x]\n",
    "                holi_average_y = holi_dict[n][holi_y]\n",
    "            \n",
    "                holi_feature_dict[n] ={\"statistics\":{\n",
    "                \"day_related_statistics\":{\n",
    "                    \"holiday\":{\n",
    "                        \"label\":[holi_x, holi_y],\n",
    "                        \"average\":[holi_average_x, holi_average_y]}\n",
    "                    }}}\n",
    "                holi_feature_dict[n][\"statistics\"][\"day_related_statistics\"][\"holiday\"][\"average\"] = [\"None\" if np.isnan(x) else x for x in holi_feature_dict[n][\"statistics\"][\"day_related_statistics\"][\"holiday\"][\"average\"]]    \n",
    "            else:\n",
    "                holi_x = list(holi_dict[n].keys())[0]\n",
    "                holi_average_x = holi_dict[n][holi_x]\n",
    "                if holi_x == \"notHoliday\":\n",
    "                    holi_y = \"holiday\"\n",
    "                else:\n",
    "                    holi_y = \"notHoliday\"\n",
    "                if np.isnan(holi_average_x):\n",
    "                    holi_average_x = \"None\"\n",
    "                holi_feature_dict[n] ={\"statistics\":{\n",
    "                    \"day_related_statistics\":{\n",
    "                        \"holiday\":{\n",
    "                            \"label\":[holi_x, holi_y],\n",
    "                            \"average\":[holi_average_x, \"None\"]}\n",
    "                        }}}\n",
    "\n",
    "        if meta_holi != None:\n",
    "            for n in holi_feature_dict:\n",
    "                meta_holi[\"feature_information\"][n][\"statistics\"][\"day_related_statistics\"] = holi_feature_dict[n][\"statistics\"][\"day_related_statistics\"]\n",
    "            return meta_holi\n",
    "        else:\n",
    "            holi_final_dict = {\"table_name\":self.tablename, \"feature_information\":holi_feature_dict}\n",
    "            return holi_final_dict # 독립적으로 함수를 쓸땐 사용\n",
    "        \n",
    "    # Data Label Information Meta Create\n",
    "    def data_label_information_meta(self):\n",
    "        \"\"\"\n",
    "        데이터의 Label Information Meta 를 생성하는 함수\n",
    "\n",
    "        - 데이터베이스에 Label Information 정보가 있어야 함\n",
    "\n",
    "        \"\"\"\n",
    "        db_doc = wiz.WizApiMongoMeta(domain, subdomain, \"db_information\")\n",
    "        db_info_doc = db_doc.get_database_collection_document()\n",
    "    \n",
    "        feature_information = {}\n",
    "        for feature in db_info_doc[\"db_feature_information\"]:\n",
    "            if \"label_information\" not in db_info_doc[\"db_feature_information\"][feature].keys():\n",
    "                feature_information[feature] = {\"label_information\":{\"labelcount\":0}}\n",
    "            else:\n",
    "                self.data_cut[feature] = pd.cut(x=self.data[feature], \n",
    "                                     bins=db_info_doc[\"db_feature_information\"][feature][\"label_information\"][\"level\"],\n",
    "                                    labels=db_info_doc[\"db_feature_information\"][feature][\"label_information\"][\"label\"])\n",
    "\n",
    "                labelcount = dict(self.data_cut.groupby(feature).count())\n",
    "                \n",
    "                print(labelcount)"
   ]
  },
  {
   "cell_type": "markdown",
   "id": "2584459a",
   "metadata": {},
   "source": [
    "### statistics_result Test"
   ]
  },
  {
   "cell_type": "code",
   "execution_count": null,
   "id": "0de88976",
   "metadata": {
    "ExecuteTime": {
     "end_time": "2021-12-23T05:10:24.768933Z",
     "start_time": "2021-12-23T05:10:24.026416Z"
    }
   },
   "outputs": [],
   "source": [
    "statistics_result_m = FeatureCreateMetaCreate(testdata, testcolumns, \"ICW0W2001042\")\n",
    "statistics_result_dict = statistics_result_m.data_feature_statistics_result_create()\n",
    "statistics_result = statistics_result_m.data_statistics_result_meta()"
   ]
  },
  {
   "cell_type": "code",
   "execution_count": null,
   "id": "78201e9d",
   "metadata": {
    "ExecuteTime": {
     "end_time": "2021-12-23T05:10:28.671361Z",
     "start_time": "2021-12-23T05:10:28.659862Z"
    },
    "scrolled": true
   },
   "outputs": [],
   "source": [
    "statistics_result_dict"
   ]
  },
  {
   "cell_type": "code",
   "execution_count": null,
   "id": "ddb42e5c",
   "metadata": {
    "ExecuteTime": {
     "end_time": "2021-12-23T05:08:20.016775Z",
     "start_time": "2021-12-23T05:08:20.005811Z"
    }
   },
   "outputs": [],
   "source": [
    "statistics_result"
   ]
  },
  {
   "cell_type": "markdown",
   "id": "d4d1dd76",
   "metadata": {},
   "source": [
    "#### code test"
   ]
  },
  {
   "cell_type": "code",
   "execution_count": null,
   "id": "39e7a84d",
   "metadata": {
    "ExecuteTime": {
     "end_time": "2021-12-23T08:39:29.998667Z",
     "start_time": "2021-12-23T08:39:29.990263Z"
    },
    "scrolled": true
   },
   "outputs": [],
   "source": [
    "test = {}\n",
    "for columnname in statistics_result_dict:\n",
    "    labelname_list = []\n",
    "    labelvalue_list = []\n",
    "    for key in statistics_result_dict[columnname]:\n",
    "        labelname_list.append(key)\n",
    "        labelvalue_list.append(statistics_result_dict[columnname][key])\n",
    "        test[columnname] = [labelname_list, labelvalue_list]\n",
    "\n",
    "print(\"-------------------------------------\")\n",
    "print(test)"
   ]
  },
  {
   "cell_type": "code",
   "execution_count": null,
   "id": "ea698722",
   "metadata": {},
   "outputs": [],
   "source": []
  },
  {
   "cell_type": "code",
   "execution_count": null,
   "id": "919bbe75",
   "metadata": {},
   "outputs": [],
   "source": []
  },
  {
   "cell_type": "code",
   "execution_count": null,
   "id": "14e3462d",
   "metadata": {},
   "outputs": [],
   "source": []
  },
  {
   "cell_type": "code",
   "execution_count": null,
   "id": "77fbdc74",
   "metadata": {},
   "outputs": [],
   "source": []
  },
  {
   "cell_type": "code",
   "execution_count": null,
   "id": "ab34d4e5",
   "metadata": {},
   "outputs": [],
   "source": []
  },
  {
   "cell_type": "code",
   "execution_count": null,
   "id": "05843e23",
   "metadata": {},
   "outputs": [],
   "source": []
  },
  {
   "cell_type": "code",
   "execution_count": null,
   "id": "08b8980f",
   "metadata": {},
   "outputs": [],
   "source": []
  },
  {
   "cell_type": "code",
   "execution_count": null,
   "id": "0e075901",
   "metadata": {},
   "outputs": [],
   "source": []
  },
  {
   "cell_type": "code",
   "execution_count": null,
   "id": "deedaecd",
   "metadata": {},
   "outputs": [],
   "source": []
  },
  {
   "cell_type": "code",
   "execution_count": null,
   "id": "7493ad23",
   "metadata": {},
   "outputs": [],
   "source": []
  },
  {
   "cell_type": "code",
   "execution_count": null,
   "id": "eef44ec9",
   "metadata": {},
   "outputs": [],
   "source": []
  },
  {
   "cell_type": "code",
   "execution_count": null,
   "id": "b7fbcb97",
   "metadata": {},
   "outputs": [],
   "source": []
  },
  {
   "cell_type": "markdown",
   "id": "5cdd9233",
   "metadata": {},
   "source": [
    "### holiday Test"
   ]
  },
  {
   "cell_type": "code",
   "execution_count": null,
   "id": "74c24761",
   "metadata": {
    "ExecuteTime": {
     "end_time": "2021-12-23T07:48:54.438815Z",
     "start_time": "2021-12-23T07:48:50.597165Z"
    }
   },
   "outputs": [],
   "source": [
    "holiday_m = FeatureCreateMetaCreate(testdata, testcolumns, \"ICW0W2001042\")\n",
    "holiday_dict = holiday_m.data_holiday_notholiday_value()"
   ]
  },
  {
   "cell_type": "code",
   "execution_count": null,
   "id": "f1547ae2",
   "metadata": {
    "ExecuteTime": {
     "end_time": "2021-12-23T07:48:55.484285Z",
     "start_time": "2021-12-23T07:48:55.472068Z"
    }
   },
   "outputs": [],
   "source": [
    "holiday_dict"
   ]
  },
  {
   "cell_type": "code",
   "execution_count": null,
   "id": "9c8f3f28",
   "metadata": {},
   "outputs": [],
   "source": []
  },
  {
   "cell_type": "markdown",
   "id": "2ec5c6da",
   "metadata": {},
   "source": [
    "### feature label Test"
   ]
  },
  {
   "cell_type": "code",
   "execution_count": null,
   "id": "3d88e028",
   "metadata": {
    "ExecuteTime": {
     "end_time": "2021-12-23T07:54:07.356675Z",
     "start_time": "2021-12-23T07:54:03.804717Z"
    }
   },
   "outputs": [],
   "source": [
    "featurelabel_m = FeatureCreateMetaCreate(testdata, testcolumns, \"ICW0W2001042\")\n",
    "featurelabel_m.data_label_information_meta()"
   ]
  },
  {
   "cell_type": "code",
   "execution_count": null,
   "id": "a5851a29",
   "metadata": {},
   "outputs": [],
   "source": []
  },
  {
   "cell_type": "code",
   "execution_count": null,
   "id": "9c7759c2",
   "metadata": {},
   "outputs": [],
   "source": []
  },
  {
   "cell_type": "code",
   "execution_count": null,
   "id": "61cc7f3e",
   "metadata": {},
   "outputs": [],
   "source": []
  },
  {
   "cell_type": "code",
   "execution_count": null,
   "id": "8e8823e5",
   "metadata": {},
   "outputs": [],
   "source": []
  },
  {
   "cell_type": "code",
   "execution_count": null,
   "id": "542262ba",
   "metadata": {},
   "outputs": [],
   "source": []
  },
  {
   "cell_type": "code",
   "execution_count": null,
   "id": "72d182e7",
   "metadata": {},
   "outputs": [],
   "source": []
  },
  {
   "cell_type": "markdown",
   "id": "5bece346",
   "metadata": {},
   "source": [
    "## DataReadMetaSave Module"
   ]
  },
  {
   "cell_type": "code",
   "execution_count": null,
   "id": "8132020c",
   "metadata": {
    "ExecuteTime": {
     "end_time": "2021-12-23T02:40:34.940720Z",
     "start_time": "2021-12-23T02:40:34.932540Z"
    }
   },
   "outputs": [],
   "source": [
    "class DataReadMetaSave():\n",
    "    def __init__(self, domain, sub_domain, tablename): # data = \"all\" 사용할지 고민해보기\n",
    "        #self.data_nopreprocessing = data\n",
    "        self.domain = domain\n",
    "        self.subdomain = sub_domain\n",
    "        self.tablename = tablename\n",
    "        #self.data_cut = pd.DataFrame()\n",
    "        #self.data_client = influx_Client.influxClient(ins)\n",
    "        #self.ms_list = self.data_client.measurement_list(self.domain+\"_\"+self.subdomain)\n",
    "\n",
    "# Data Read&Preprocessing\n",
    "    def get_preprocessing_data(self):\n",
    "        \"\"\" 지정 tablename에 해당하는 데이터를 읽어와 preprocessing 작업하는 함수\n",
    "\n",
    "        :param tablename: MongoDB에서는 table_name 이자 InfluxDB에서는 Measurment Name 으로 사용되는 것.\n",
    "        \n",
    "        example\n",
    "            >>> get_preprocessing_data(tablename)\n",
    "        \"\"\"        \n",
    "        self.data_nopreprocessing = self.data_client.get_data(self.domain+\"_\"+self.subdomain, self.tablename)\n",
    "        # preprocessing\n",
    "        from KETIPrePartialDataPreprocessing import data_preprocessing\n",
    "        refine_param = {\n",
    "            \"removeDuplication\":{\"flag\":True},\n",
    "            \"staticFrequency\":{\"flag\":True, \"frequency\":None}\n",
    "        }\n",
    "        outlier_param  = {\n",
    "            \"certainOutlierToNaN\":{\"flag\":True},\n",
    "            \"uncertainOutlierToNaN\":{\n",
    "                \"flag\":False,\n",
    "                \"param\":{\"neighbor\":[0.5,0.6]}\n",
    "            },\n",
    "            \"data_type\":\"air\"\n",
    "        }\n",
    "        imputation_param = {\n",
    "            \"serialImputation\":{\n",
    "                \"flag\":True,\n",
    "                \"imputation_method\":[{\"min\":0,\"max\":20,\"method\":\"linear\" , \"parameter\":{}}],\n",
    "                \"totalNanLimit\":70\n",
    "            }\n",
    "        }\n",
    "        process_param = {'refine_param':refine_param, 'outlier_param':outlier_param, 'imputation_param':imputation_param}\n",
    "        partialP = data_preprocessing.packagedPartialProcessing(process_param)\n",
    "        self.data = partialP.allPartialProcessing(self.data_nopreprocessing)[\"imputed_data\"]\n",
    "\n",
    "        self.columns = list(self.data.columns)\n",
    "        return self.data, self.columns\n",
    "    \n",
    "# MetaData Save Functions - 하나로 합치기\n",
    "     # Data Label Information Meta Save or Update (by data_label_information_meta)\n",
    "    def data_label_information_meta_save_update(self, mode):\n",
    "        pass\n",
    "    \n",
    "    # Data Label Information Meta Insert (by data_label_information_meta & 새롭게 Data Meta Document 를 생성할때 사용)\n",
    "    def data_label_information_meta_insert(self, label_meta, mode = \"insert\"):\n",
    "        pass\n",
    "\n",
    "    # Meta Save or Update - Basic Method\n",
    "    def data_meta_basic_save_update_insert(self, mode, meta_basic, meta_name=None):\n",
    "        pass"
   ]
  },
  {
   "cell_type": "code",
   "execution_count": null,
   "id": "8646fd6d",
   "metadata": {},
   "outputs": [],
   "source": []
  },
  {
   "cell_type": "code",
   "execution_count": null,
   "id": "8c95f20a",
   "metadata": {},
   "outputs": [],
   "source": []
  },
  {
   "cell_type": "code",
   "execution_count": null,
   "id": "e45f944b",
   "metadata": {},
   "outputs": [],
   "source": []
  },
  {
   "cell_type": "markdown",
   "id": "5f38420f",
   "metadata": {},
   "source": [
    "## MetaDataConditionSave Module"
   ]
  },
  {
   "cell_type": "markdown",
   "id": "e6ee10cf",
   "metadata": {},
   "source": [
    "- 최종 모듈\n",
    "    - DataReadMetaSave, FeatureCreateMetaCreate 모듈 을 상속받아서 진행됨\n",
    "    - Parameter : meta_create_save_info\n",
    "        - meta_create_save_info : json (dictionary) 형식으로 입력 받는다.\n",
    "            - domain, subdomain, tablename, condition, characteristics\n",
    "    - DataReadMetaSave : Data Read & Preprocessing + Meta Data Save\n",
    "    - FeatureCreateMetaCreate : Data Feature Create& Meta Data Create"
   ]
  },
  {
   "cell_type": "code",
   "execution_count": null,
   "id": "4fbf9fcd",
   "metadata": {
    "ExecuteTime": {
     "end_time": "2021-12-23T03:22:30.394583Z",
     "start_time": "2021-12-23T03:22:30.389023Z"
    }
   },
   "outputs": [],
   "source": [
    "class MetaDataConditionSave(DataReadMetaSave, FeatureCreateMetaCreate):\n",
    "    def __init__(self, meta_create_save_info):\n",
    "        self.domain = meta_create_save_info[\"domain\"]\n",
    "        self.subdomain = meta_create_save_info[\"subdomain\"]\n",
    "        self.conditions = meta_create_save_info[\"condition\"]\n",
    "        self.data_client = influx_Client.influxClient(ins)\n",
    "        \n",
    "        # 여기서 condition이나 table name 의 갯수에 따라 아래 모듈 자동 시작하게 해야함.\n",
    "\n",
    "    def meta_condition_save(self):\n",
    "        # 사용자가 parameter json을 MetaDataConditionSave에 입력 후 이 함수를 부르면 알아서 척척 조건에 따라 meta 생성 및 저장 하는 것이 목적\n",
    "        pass\n",
    "    \n",
    "    def number_of_tablenames(self):\n",
    "        # 해당 db의 모든 tablename 다 저장\n",
    "        # 특정 여러개 tablename을 저장\n",
    "        # 특정 하나의 tablename을 저장\n",
    "        if meta_create_save_info[\"tablename\"] == \"all\":\n",
    "            self.tablenames = self.data_client.measurement_list(self.domain+\"_\"+self.subdomain)\n",
    "            self.tablenames_module()\n",
    "        else:\n",
    "            self.tablename = meta_create_save_info[\"tablename\"]\n",
    "            self.data, self.columns = super().get_preprocessing_data()\n",
    "        \n",
    "    def tablenames_module(self):\n",
    "        for tablename in self.tablenames:\n",
    "            self.tablename = tablename\n",
    "            print(self.tablename)\n",
    "            #self.data, self.columns = super().get_preprocessing_data()\n",
    "            print(self.conditions)\n",
    "            for condition in self.conditions:\n",
    "                print(condition)\n",
    "                method = [x for x in dir(MetaDataConditionSave) if condition in x]\n",
    "            print(method)\n",
    "            \n",
    "'''\n",
    "## Meta Data create Process\n",
    "    def data_statistics_result_holiday_working_timestep_meta_insert(self, mode, meta_name):\n",
    "        \"\"\"\n",
    "        데이터의 통계적 값과 휴일, 일하는 시간, Time Step 에 따른 분석 결과를 한번에 Meta 데이터로 생성하는 함수\n",
    "\n",
    "        - 데이터 시간 정보의 주기가 Hour, Minute, Second 일때 사용\n",
    "        \"\"\"\n",
    "        \n",
    "    def data_statistics_result_holiday_working_meta_insert(self, mode, meta_name):\n",
    "        \"\"\" \n",
    "        데이터의 통계적 값과 휴일, 일하는 시간에 따른 분석 결과를 한번에 Meta 데이터로 생성하는 함수\n",
    "\n",
    "        - 데이터 시간 정보의 주기가 1시간 이하일 때 사용\n",
    "        \"\"\"\n",
    "\n",
    "    def data_statistics_result_holiday_meta_insert(self, mode, meta_name):\n",
    "'''"
   ]
  },
  {
   "cell_type": "code",
   "execution_count": null,
   "id": "9fafeced",
   "metadata": {},
   "outputs": [],
   "source": []
  },
  {
   "cell_type": "markdown",
   "id": "17eca321",
   "metadata": {},
   "source": [
    "### Result Test"
   ]
  },
  {
   "cell_type": "code",
   "execution_count": null,
   "id": "3424e724",
   "metadata": {
    "ExecuteTime": {
     "end_time": "2021-12-23T03:22:50.085378Z",
     "start_time": "2021-12-23T03:22:50.029839Z"
    }
   },
   "outputs": [],
   "source": [
    "final_test = MetaDataConditionSave(meta_create_save_info)\n",
    "final_test.number_of_tablenames()"
   ]
  },
  {
   "cell_type": "code",
   "execution_count": null,
   "id": "28277fbb",
   "metadata": {
    "ExecuteTime": {
     "end_time": "2021-12-23T03:20:58.905729Z",
     "start_time": "2021-12-23T03:20:58.864613Z"
    }
   },
   "outputs": [],
   "source": [
    "final_test.tablename"
   ]
  },
  {
   "cell_type": "code",
   "execution_count": null,
   "id": "ac4acaa9",
   "metadata": {},
   "outputs": [],
   "source": []
  },
  {
   "cell_type": "markdown",
   "id": "e670a0ce",
   "metadata": {},
   "source": [
    "### Test"
   ]
  },
  {
   "cell_type": "code",
   "execution_count": null,
   "id": "ca9b6d97",
   "metadata": {
    "ExecuteTime": {
     "end_time": "2021-12-23T01:15:31.421482Z",
     "start_time": "2021-12-23T01:15:31.414852Z"
    }
   },
   "outputs": [],
   "source": [
    "MetaDataConditionSave.__mro__"
   ]
  },
  {
   "cell_type": "code",
   "execution_count": null,
   "id": "03738921",
   "metadata": {
    "ExecuteTime": {
     "end_time": "2021-12-23T01:16:59.142210Z",
     "start_time": "2021-12-23T01:16:59.134951Z"
    }
   },
   "outputs": [],
   "source": [
    "MetaDataConditionSave.____"
   ]
  },
  {
   "cell_type": "code",
   "execution_count": null,
   "id": "b50c50fd",
   "metadata": {
    "ExecuteTime": {
     "end_time": "2021-12-23T01:18:09.363578Z",
     "start_time": "2021-12-23T01:18:09.347222Z"
    }
   },
   "outputs": [],
   "source": [
    "dir(MetaDataConditionSave)"
   ]
  },
  {
   "cell_type": "code",
   "execution_count": null,
   "id": "f855925a",
   "metadata": {
    "ExecuteTime": {
     "end_time": "2021-12-23T01:19:28.599946Z",
     "start_time": "2021-12-23T01:19:28.592063Z"
    }
   },
   "outputs": [],
   "source": [
    "[x for x in dir(MetaDataConditionSave) if \"statistics_result\" in x]"
   ]
  },
  {
   "cell_type": "code",
   "execution_count": null,
   "id": "588e65b4",
   "metadata": {},
   "outputs": [],
   "source": []
  },
  {
   "cell_type": "markdown",
   "id": "4dcb08f2",
   "metadata": {},
   "source": [
    "## MetaDataConditionSave - Parameter"
   ]
  },
  {
   "cell_type": "code",
   "execution_count": null,
   "id": "3c3648ee",
   "metadata": {
    "ExecuteTime": {
     "end_time": "2021-12-23T03:22:41.249865Z",
     "start_time": "2021-12-23T03:22:41.246044Z"
    }
   },
   "outputs": [],
   "source": [
    "meta_create_save_info = {\n",
    "    \"domain\": domain,\n",
    "    \"subdomain\":subdomain,\n",
    "    \"tablename\":tablename, # all 이나 특정 table_name 을 지정\n",
    "    \"condition\": [\"statistics_result\"] # list 로 condition 을 받는다. - ms meta 의 analysisResult의 이름들 \n",
    "    \"characteristics\":[\"mean\"] # condition에 맞춰서 받기\n",
    "}\n",
    "'''\n",
    "***추가***\n",
    "- analysisName == condition\n",
    "- characteristics\n",
    "'''"
   ]
  },
  {
   "cell_type": "code",
   "execution_count": null,
   "id": "df9d4c99",
   "metadata": {},
   "outputs": [],
   "source": [
    "# condition 이 추가될때마다 아래에 추가해서 넣고 flag로 선택 여부를 받는 방법\n",
    "condition = {\n",
    "    \"statistics_result\":{\"flag\": True, \"characteristics\": \"mean\"},\n",
    "    \"holiday\":{\"flag\": True, \"characteristics\": \"mean\"},\n",
    "    \"working_time\":{\"flag\": False, \"characteristics\": \"mean\"},\n",
    "    \"time_step\":{\"flag\": False, \"characteristics\": \"mean\"},\n",
    "    \"feature_label\":{\"flag\": False, \"characteristics\": \"count\"}\n",
    "}\n",
    "\n",
    "meta_create_save_info = {\n",
    "    \"domain\": domain,\n",
    "    \"subdomain\":subdomain,\n",
    "    \"tablename\":tablename, # all 이나 특정 table_name 을 지정\n",
    "    \"condition\": condition # list 로 condition 을 받는다. - ms meta 의 analysisResult의 이름들 \n",
    "}"
   ]
  },
  {
   "cell_type": "code",
   "execution_count": null,
   "id": "cea50c23",
   "metadata": {},
   "outputs": [],
   "source": []
  },
  {
   "cell_type": "code",
   "execution_count": null,
   "id": "c3777ab8",
   "metadata": {},
   "outputs": [],
   "source": [
    "MetaDataConditionSave(meta_create_save_info)"
   ]
  },
  {
   "cell_type": "code",
   "execution_count": null,
   "id": "32c533c6",
   "metadata": {},
   "outputs": [],
   "source": []
  },
  {
   "cell_type": "markdown",
   "id": "51fd7653",
   "metadata": {},
   "source": [
    "# Test Code"
   ]
  },
  {
   "cell_type": "code",
   "execution_count": null,
   "id": "e2dc31fe",
   "metadata": {
    "ExecuteTime": {
     "end_time": "2022-01-12T06:10:30.876935Z",
     "start_time": "2022-01-12T06:10:30.869649Z"
    }
   },
   "outputs": [],
   "source": [
    "class test1():\n",
    "    def __init__(self, z, p):\n",
    "        self.x = z\n",
    "        self.y = p\n",
    "    def t3(self):\n",
    "        print(\"-----------------------\")\n",
    "        print(self.x)\n",
    "        print(self.y)\n",
    "        \n",
    "class test2(test1):\n",
    "    def t2(self):\n",
    "        self.y = self.x+1\n",
    "        print(self.y)\n",
    "        super().t3()\n",
    "\n",
    "class test3(test2):\n",
    "    def __init__(self, x):\n",
    "        self.x = x\n",
    "    def t1(self):\n",
    "        print(self.x)\n",
    "        super().t2()\n",
    "        self.x += 1\n",
    "        print(\"----\")\n",
    "        print(self.x)"
   ]
  },
  {
   "cell_type": "code",
   "execution_count": null,
   "id": "4be9aaa8",
   "metadata": {
    "ExecuteTime": {
     "end_time": "2022-01-12T06:10:31.456406Z",
     "start_time": "2022-01-12T06:10:31.451678Z"
    }
   },
   "outputs": [],
   "source": [
    "t = test3(10)\n",
    "t.t1()"
   ]
  },
  {
   "cell_type": "code",
   "execution_count": null,
   "id": "91301e57",
   "metadata": {
    "ExecuteTime": {
     "end_time": "2022-01-12T06:10:55.176060Z",
     "start_time": "2022-01-12T06:10:55.172227Z"
    },
    "scrolled": true
   },
   "outputs": [],
   "source": [
    "t.x, t.y"
   ]
  },
  {
   "cell_type": "code",
   "execution_count": null,
   "id": "1ae2a28c",
   "metadata": {
    "ExecuteTime": {
     "end_time": "2022-01-12T06:10:36.140402Z",
     "start_time": "2022-01-12T06:10:36.136720Z"
    }
   },
   "outputs": [],
   "source": [
    "tt = test1(20, 30)\n",
    "tt.t3()"
   ]
  },
  {
   "cell_type": "code",
   "execution_count": null,
   "id": "d50e08e0",
   "metadata": {},
   "outputs": [],
   "source": []
  },
  {
   "cell_type": "code",
   "execution_count": null,
   "id": "a56b6998",
   "metadata": {
    "ExecuteTime": {
     "end_time": "2021-12-23T02:11:58.314276Z",
     "start_time": "2021-12-23T02:11:58.310421Z"
    }
   },
   "outputs": [],
   "source": [
    "class a():\n",
    "    def __init__(self, x):\n",
    "        self.x = x\n",
    "    def add(self):\n",
    "        y = self.x+1\n",
    "        print(self.q, \" yes\")\n",
    "        return y"
   ]
  },
  {
   "cell_type": "code",
   "execution_count": null,
   "id": "a75fddbf",
   "metadata": {
    "ExecuteTime": {
     "end_time": "2021-12-23T02:11:58.934564Z",
     "start_time": "2021-12-23T02:11:58.922531Z"
    }
   },
   "outputs": [],
   "source": [
    "class b():\n",
    "    def __init__(self, z):\n",
    "        self.z = z\n",
    "        \n",
    "    def conv(self):\n",
    "        t = self.z * 10\n",
    "        return t"
   ]
  },
  {
   "cell_type": "code",
   "execution_count": null,
   "id": "c23c9e08",
   "metadata": {
    "ExecuteTime": {
     "end_time": "2021-12-23T02:11:59.379209Z",
     "start_time": "2021-12-23T02:11:59.368670Z"
    }
   },
   "outputs": [],
   "source": [
    "class c(a, b):\n",
    "    def __init__(self, p, q):\n",
    "        a.__init__(self, p)\n",
    "        self.q = q\n",
    "        \n",
    "    def test(self):\n",
    "        y = super().add()\n",
    "        b.__init__(self, y)\n",
    "        t = super().conv()\n",
    "        print(y,t)"
   ]
  },
  {
   "cell_type": "code",
   "execution_count": null,
   "id": "404927af",
   "metadata": {
    "ExecuteTime": {
     "end_time": "2021-12-23T02:12:00.006909Z",
     "start_time": "2021-12-23T02:11:59.995811Z"
    }
   },
   "outputs": [],
   "source": [
    "tt = c(3, 100)\n",
    "tt.test()"
   ]
  },
  {
   "cell_type": "code",
   "execution_count": null,
   "id": "fdd2b06c",
   "metadata": {
    "ExecuteTime": {
     "end_time": "2021-12-22T08:36:33.686158Z",
     "start_time": "2021-12-22T08:36:33.682157Z"
    }
   },
   "outputs": [],
   "source": [
    "class d():\n",
    "    def __init__(self, x, *y):\n",
    "        self.y = y\n",
    "        self.x = x\n",
    "    def ct(self):\n",
    "        print(self.y)\n",
    "        print(self.x)\n",
    "        for n in self.y:\n",
    "            print(n)"
   ]
  },
  {
   "cell_type": "code",
   "execution_count": null,
   "id": "c1ddab05",
   "metadata": {
    "ExecuteTime": {
     "end_time": "2021-12-22T08:36:44.211196Z",
     "start_time": "2021-12-22T08:36:44.200186Z"
    }
   },
   "outputs": [],
   "source": [
    "tt = d(\"air\",\"holiday\", \"statistics_result\")\n",
    "tt.ct()"
   ]
  },
  {
   "cell_type": "code",
   "execution_count": null,
   "id": "45621e16",
   "metadata": {},
   "outputs": [],
   "source": []
  },
  {
   "cell_type": "code",
   "execution_count": null,
   "id": "31cba77d",
   "metadata": {
    "ExecuteTime": {
     "end_time": "2021-12-23T03:08:12.233599Z",
     "start_time": "2021-12-23T03:08:12.228001Z"
    }
   },
   "outputs": [],
   "source": [
    "ls1 = [\"statistics_result\", \"holiday\"]\n",
    "ls2 = [ '__module__',\n",
    " '__ne__',\n",
    " '__new__',\n",
    " '__reduce__',\n",
    " '__reduce_ex__',\n",
    " '__repr__',\n",
    " '__setattr__',\n",
    " '__sizeof__',\n",
    " '__str__',\n",
    " '__subclasshook__',\n",
    " '__weakref__',\n",
    " 'data_feature_statistics_result_create',\n",
    " 'data_statistics_result_meta',\n",
    " 'get_preprocessing_data',\n",
    "'holiday_meta',\n",
    " 'testcode']"
   ]
  },
  {
   "cell_type": "code",
   "execution_count": null,
   "id": "5767288c",
   "metadata": {},
   "outputs": [],
   "source": [
    "for x in ls1 if x in ls2"
   ]
  },
  {
   "cell_type": "code",
   "execution_count": null,
   "id": "ee610d9e",
   "metadata": {},
   "outputs": [],
   "source": []
  },
  {
   "cell_type": "code",
   "execution_count": null,
   "id": "dd62d246",
   "metadata": {
    "ExecuteTime": {
     "end_time": "2022-01-07T04:28:18.463683Z",
     "start_time": "2022-01-07T04:28:18.458214Z"
    }
   },
   "outputs": [],
   "source": [
    "def test1(x):\n",
    "    print(\"test1\")\n",
    "    return x, x+1\n",
    "\n",
    "def test2():\n",
    "    y, z = test1(10)\n",
    "    print(y, z)"
   ]
  },
  {
   "cell_type": "code",
   "execution_count": null,
   "id": "4725d4e4",
   "metadata": {
    "ExecuteTime": {
     "end_time": "2022-01-07T04:28:25.511716Z",
     "start_time": "2022-01-07T04:28:25.508797Z"
    }
   },
   "outputs": [],
   "source": [
    "test2()"
   ]
  },
  {
   "cell_type": "code",
   "execution_count": null,
   "id": "b25070ee",
   "metadata": {},
   "outputs": [],
   "source": []
  },
  {
   "cell_type": "code",
   "execution_count": null,
   "id": "18ccd82a",
   "metadata": {},
   "outputs": [],
   "source": []
  },
  {
   "cell_type": "code",
   "execution_count": null,
   "id": "1d4026d1",
   "metadata": {},
   "outputs": [],
   "source": []
  },
  {
   "cell_type": "code",
   "execution_count": null,
   "id": "df772059",
   "metadata": {},
   "outputs": [],
   "source": []
  }
 ],
 "metadata": {
  "hide_input": false,
  "kernelspec": {
   "display_name": "Python 3 (ipykernel)",
   "language": "python",
   "name": "python3"
  },
  "language_info": {
   "codemirror_mode": {
    "name": "ipython",
    "version": 3
   },
   "file_extension": ".py",
   "mimetype": "text/x-python",
   "name": "python",
   "nbconvert_exporter": "python",
   "pygments_lexer": "ipython3",
   "version": "3.8.12"
  },
  "toc": {
   "base_numbering": 1,
   "nav_menu": {},
   "number_sections": true,
   "sideBar": true,
   "skip_h1_title": false,
   "title_cell": "Table of Contents",
   "title_sidebar": "Contents",
   "toc_cell": true,
   "toc_position": {
    "height": "calc(100% - 180px)",
    "left": "10px",
    "top": "150px",
    "width": "388.651px"
   },
   "toc_section_display": true,
   "toc_window_display": true
  }
 },
 "nbformat": 4,
 "nbformat_minor": 5
}
