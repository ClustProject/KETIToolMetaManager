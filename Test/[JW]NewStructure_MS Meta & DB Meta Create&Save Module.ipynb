{
 "cells": [
  {
   "cell_type": "markdown",
   "id": "d2ebc9fc",
   "metadata": {
    "toc": true
   },
   "source": [
    "<h1>Table of Contents<span class=\"tocSkip\"></span></h1>\n",
    "<div class=\"toc\"><ul class=\"toc-item\"><li><span><a href=\"#Import\" data-toc-modified-id=\"Import-1\"><span class=\"toc-item-num\">1&nbsp;&nbsp;</span>Import</a></span></li><li><span><a href=\"#MS-Meta-Structure\" data-toc-modified-id=\"MS-Meta-Structure-2\"><span class=\"toc-item-num\">2&nbsp;&nbsp;</span>MS Meta Structure</a></span></li><li><span><a href=\"#New-Structure\" data-toc-modified-id=\"New-Structure-3\"><span class=\"toc-item-num\">3&nbsp;&nbsp;</span>New Structure</a></span><ul class=\"toc-item\"><li><span><a href=\"#Input-Parameter---Meta-Manager\" data-toc-modified-id=\"Input-Parameter---Meta-Manager-3.1\"><span class=\"toc-item-num\">3.1&nbsp;&nbsp;</span>Input Parameter - Meta Manager</a></span></li><li><span><a href=\"#KETIToolMetaManager\" data-toc-modified-id=\"KETIToolMetaManager-3.2\"><span class=\"toc-item-num\">3.2&nbsp;&nbsp;</span>KETIToolMetaManager</a></span><ul class=\"toc-item\"><li><span><a href=\"#InputSourceController-Package\" data-toc-modified-id=\"InputSourceController-Package-3.2.1\"><span class=\"toc-item-num\">3.2.1&nbsp;&nbsp;</span>InputSourceController Package</a></span></li><li><span><a href=\"#test-data-read\" data-toc-modified-id=\"test-data-read-3.2.2\"><span class=\"toc-item-num\">3.2.2&nbsp;&nbsp;</span>test data read</a></span></li><li><span><a href=\"#test-db-meta-read\" data-toc-modified-id=\"test-db-meta-read-3.2.3\"><span class=\"toc-item-num\">3.2.3&nbsp;&nbsp;</span>test db meta read</a></span></li><li><span><a href=\"#MetaGenerator-Package\" data-toc-modified-id=\"MetaGenerator-Package-3.2.4\"><span class=\"toc-item-num\">3.2.4&nbsp;&nbsp;</span>MetaGenerator Package</a></span><ul class=\"toc-item\"><li><span><a href=\"#AnalysisInputControl\" data-toc-modified-id=\"AnalysisInputControl-3.2.4.1\"><span class=\"toc-item-num\">3.2.4.1&nbsp;&nbsp;</span>AnalysisInputControl</a></span></li><li><span><a href=\"#AnalysisMetaControl\" data-toc-modified-id=\"AnalysisMetaControl-3.2.4.2\"><span class=\"toc-item-num\">3.2.4.2&nbsp;&nbsp;</span>AnalysisMetaControl</a></span></li></ul></li></ul></li><li><span><a href=\"#KETIToolAnalyzer\" data-toc-modified-id=\"KETIToolAnalyzer-3.3\"><span class=\"toc-item-num\">3.3&nbsp;&nbsp;</span>KETIToolAnalyzer</a></span><ul class=\"toc-item\"><li><span><a href=\"#Analyzer-Package\" data-toc-modified-id=\"Analyzer-Package-3.3.1\"><span class=\"toc-item-num\">3.3.1&nbsp;&nbsp;</span>Analyzer Package</a></span><ul class=\"toc-item\"><li><span><a href=\"#StatisticsResult\" data-toc-modified-id=\"StatisticsResult-3.3.1.1\"><span class=\"toc-item-num\">3.3.1.1&nbsp;&nbsp;</span>StatisticsResult</a></span></li><li><span><a href=\"#MeanByHoliday\" data-toc-modified-id=\"MeanByHoliday-3.3.1.2\"><span class=\"toc-item-num\">3.3.1.2&nbsp;&nbsp;</span>MeanByHoliday</a></span></li><li><span><a href=\"#MeanByWorking\" data-toc-modified-id=\"MeanByWorking-3.3.1.3\"><span class=\"toc-item-num\">3.3.1.3&nbsp;&nbsp;</span>MeanByWorking</a></span></li><li><span><a href=\"#MeanByTimeStep\" data-toc-modified-id=\"MeanByTimeStep-3.3.1.4\"><span class=\"toc-item-num\">3.3.1.4&nbsp;&nbsp;</span>MeanByTimeStep</a></span></li><li><span><a href=\"#BatchCaller\" data-toc-modified-id=\"BatchCaller-3.3.1.5\"><span class=\"toc-item-num\">3.3.1.5&nbsp;&nbsp;</span>BatchCaller</a></span></li><li><span><a href=\"#CountByFeatureLabel\" data-toc-modified-id=\"CountByFeatureLabel-3.3.1.6\"><span class=\"toc-item-num\">3.3.1.6&nbsp;&nbsp;</span>CountByFeatureLabel</a></span></li></ul></li></ul></li></ul></li><li><span><a href=\"#임시-구조-코드\" data-toc-modified-id=\"임시-구조-코드-4\"><span class=\"toc-item-num\">4&nbsp;&nbsp;</span>임시 구조 코드</a></span><ul class=\"toc-item\"><li><span><a href=\"#FeatureCreateMetaCreate-Module\" data-toc-modified-id=\"FeatureCreateMetaCreate-Module-4.1\"><span class=\"toc-item-num\">4.1&nbsp;&nbsp;</span>FeatureCreateMetaCreate Module</a></span><ul class=\"toc-item\"><li><span><a href=\"#statistics_result-Test\" data-toc-modified-id=\"statistics_result-Test-4.1.1\"><span class=\"toc-item-num\">4.1.1&nbsp;&nbsp;</span>statistics_result Test</a></span><ul class=\"toc-item\"><li><span><a href=\"#code-test\" data-toc-modified-id=\"code-test-4.1.1.1\"><span class=\"toc-item-num\">4.1.1.1&nbsp;&nbsp;</span>code test</a></span></li></ul></li><li><span><a href=\"#holiday-Test\" data-toc-modified-id=\"holiday-Test-4.1.2\"><span class=\"toc-item-num\">4.1.2&nbsp;&nbsp;</span>holiday Test</a></span></li><li><span><a href=\"#feature-label-Test\" data-toc-modified-id=\"feature-label-Test-4.1.3\"><span class=\"toc-item-num\">4.1.3&nbsp;&nbsp;</span>feature label Test</a></span></li></ul></li><li><span><a href=\"#DataReadMetaSave-Module\" data-toc-modified-id=\"DataReadMetaSave-Module-4.2\"><span class=\"toc-item-num\">4.2&nbsp;&nbsp;</span>DataReadMetaSave Module</a></span></li><li><span><a href=\"#MetaDataConditionSave-Module\" data-toc-modified-id=\"MetaDataConditionSave-Module-4.3\"><span class=\"toc-item-num\">4.3&nbsp;&nbsp;</span>MetaDataConditionSave Module</a></span><ul class=\"toc-item\"><li><span><a href=\"#Result-Test\" data-toc-modified-id=\"Result-Test-4.3.1\"><span class=\"toc-item-num\">4.3.1&nbsp;&nbsp;</span>Result Test</a></span></li><li><span><a href=\"#Test\" data-toc-modified-id=\"Test-4.3.2\"><span class=\"toc-item-num\">4.3.2&nbsp;&nbsp;</span>Test</a></span></li></ul></li><li><span><a href=\"#MetaDataConditionSave---Parameter\" data-toc-modified-id=\"MetaDataConditionSave---Parameter-4.4\"><span class=\"toc-item-num\">4.4&nbsp;&nbsp;</span>MetaDataConditionSave - Parameter</a></span></li></ul></li><li><span><a href=\"#Test-Code\" data-toc-modified-id=\"Test-Code-5\"><span class=\"toc-item-num\">5&nbsp;&nbsp;</span>Test Code</a></span></li></ul></div>"
   ]
  },
  {
   "cell_type": "markdown",
   "id": "ee0bec0f",
   "metadata": {},
   "source": [
    "# Import"
   ]
  },
  {
   "cell_type": "code",
   "execution_count": 1,
   "id": "4eb23f7f",
   "metadata": {
    "ExecuteTime": {
     "end_time": "2022-01-14T06:43:08.420072Z",
     "start_time": "2022-01-14T06:43:08.096761Z"
    }
   },
   "outputs": [],
   "source": [
    "import pandas as pd\n",
    "import numpy as np\n",
    "import datetime\n",
    "from pytimekr import pytimekr\n",
    "import json\n",
    "from pprint import pprint\n",
    "import sys\n",
    "import os\n",
    "sys.path.append(\".\")\n",
    "sys.path.append(\"..\")\n",
    "sys.path.append(\"../..\")\n",
    "sys.path.append(\"../../..\")\n",
    "\n",
    "from KETIPreDataIngestion.KETI_setting import influx_setting_KETI as ins\n",
    "from KETIPreDataIngestion.data_influx import influx_Client\n",
    "from KETIToolMetaManager.manual_data_insert import wiz_mongo_meta_api as wiz\n",
    "from KETIToolMetaManager.manual_data_insert import data_feature_meta_insert as dfmi\n",
    "\n",
    "#import statistics"
   ]
  },
  {
   "cell_type": "code",
   "execution_count": 2,
   "id": "14c09161",
   "metadata": {
    "ExecuteTime": {
     "end_time": "2022-01-14T06:43:08.428870Z",
     "start_time": "2022-01-14T06:43:08.425073Z"
    }
   },
   "outputs": [],
   "source": [
    "#domain = \"air\"\n",
    "#subdomain = \"indoor_체육시설\"\n",
    "# ms = [\"ICW0W2001042\", \"ICW0W2001043\", \"ICW0W2001044\"]\n"
   ]
  },
  {
   "cell_type": "markdown",
   "id": "4a426439",
   "metadata": {},
   "source": [
    "# MS Meta Structure"
   ]
  },
  {
   "cell_type": "code",
   "execution_count": 3,
   "id": "f56e303a",
   "metadata": {
    "ExecuteTime": {
     "end_time": "2022-01-14T06:43:08.444119Z",
     "start_time": "2022-01-14T06:43:08.431090Z"
    }
   },
   "outputs": [
    {
     "data": {
      "text/plain": [
       "{'column_information': [{'column_name': '--------------------',\n",
       "   'analysisResult': {'ListBasedResult': [{'analysisName': '--------------------',\n",
       "      'characteristics': 'mean',\n",
       "      'result': {'labelNameList': ['--------------------'],\n",
       "       'labelValueList': ['--------------------']}}]}}]}"
      ]
     },
     "execution_count": 3,
     "metadata": {},
     "output_type": "execute_result"
    }
   ],
   "source": [
    "{\"column_information\":[\n",
    "    {\n",
    "        \"column_name\":\"--------------------\",\n",
    "        \"analysisResult\":{\n",
    "            \"ListBasedResult\":[\n",
    "                {\n",
    "                    \"analysisName\":\"--------------------\",\n",
    "                    \"characteristics\":\"mean\",\n",
    "                    \"result\":{\n",
    "                        \"labelNameList\":[\n",
    "                            \"--------------------\"\n",
    "                        ],\n",
    "                        \"labelValueList\":[\n",
    "                            \"--------------------\"\n",
    "                        ]\n",
    "                    }\n",
    "                }\n",
    "            ]\n",
    "        }\n",
    "    }\n",
    "]}"
   ]
  },
  {
   "cell_type": "markdown",
   "id": "060542c6",
   "metadata": {},
   "source": [
    "# New Structure"
   ]
  },
  {
   "cell_type": "markdown",
   "id": "e054111b",
   "metadata": {
    "ExecuteTime": {
     "end_time": "2022-01-07T02:20:12.638753Z",
     "start_time": "2022-01-07T02:20:12.636324Z"
    }
   },
   "source": [
    "## Input Parameter - Meta Manager"
   ]
  },
  {
   "cell_type": "code",
   "execution_count": 4,
   "id": "e1420594",
   "metadata": {
    "ExecuteTime": {
     "end_time": "2022-01-14T06:43:08.447612Z",
     "start_time": "2022-01-14T06:43:08.445238Z"
    }
   },
   "outputs": [],
   "source": [
    "flist_data = [\"StatisticsResult\"] #Data\n",
    "flist_data_info = [\"MeanByHoliday\", \"MeanByWorking\", \"MeanByTimeStep\", \"FeatureLabel\"] #Additional Info, Data\n",
    "flist_info = [] #Additional Info\n",
    "function_list=[\"StatisticsResult\", \"MeanByHoliday\"]\n",
    "\n",
    "measurement_list = [\"ICW0W2001042\", \"ICW0W2001043\", \"ICW0W2001044\"] # measurement 도 list로 받기"
   ]
  },
  {
   "cell_type": "code",
   "execution_count": 5,
   "id": "793d713e",
   "metadata": {
    "ExecuteTime": {
     "end_time": "2022-01-14T06:43:08.451330Z",
     "start_time": "2022-01-14T06:43:08.449106Z"
    }
   },
   "outputs": [],
   "source": [
    "first_input = {\n",
    "    \"database\" : \"air_indoor_체육시설\",\n",
    "    \"measurements\" : measurement_list,\n",
    "    \"function_list\" : function_list,\n",
    "    \"mode\" : \"Update\"\n",
    "}"
   ]
  },
  {
   "cell_type": "code",
   "execution_count": null,
   "id": "a0968b21",
   "metadata": {},
   "outputs": [],
   "source": []
  },
  {
   "cell_type": "code",
   "execution_count": null,
   "id": "e26a0083",
   "metadata": {},
   "outputs": [],
   "source": []
  },
  {
   "cell_type": "markdown",
   "id": "ea4cd386",
   "metadata": {},
   "source": [
    "## KETIToolMetaManager"
   ]
  },
  {
   "cell_type": "markdown",
   "id": "31381803",
   "metadata": {},
   "source": [
    "### InputSourceController Package"
   ]
  },
  {
   "cell_type": "code",
   "execution_count": 6,
   "id": "6babf197",
   "metadata": {
    "ExecuteTime": {
     "end_time": "2022-01-14T06:43:08.464916Z",
     "start_time": "2022-01-14T06:43:08.454281Z"
    }
   },
   "outputs": [],
   "source": [
    "from KETIToolMetaManager.manual_data_insert import wiz_mongo_meta_api as wiz\n",
    "from KETIPreDataIngestion.KETI_setting import influx_setting_KETI as ins\n",
    "from KETIPreDataIngestion.data_influx import influx_Client\n",
    "from KETIPrePartialDataPreprocessing import data_preprocessing\n",
    "\n",
    "# packcage : InputSourceController\n",
    "# class : Collector\n",
    "\n",
    "class Collector(): # GetInputSource / InputSourceCollector\n",
    "    def __init__(self, database, tablename):\n",
    "        self.db = database\n",
    "        self.tablename = tablename\n",
    "    \n",
    "    def get_database_meta(self):\n",
    "        domain = self.db.split(\"_\", maxsplit=1)[0]\n",
    "        sub_domain = self.db.split(\"_\", maxsplit=1)[1]\n",
    "        mongodb_con = wiz.WizApiMongoMeta(domain, sub_domain, \"db_information\")\n",
    "        base_meta = mongodb_con.get_database_collection_document()\n",
    "        \n",
    "        return base_meta\n",
    "    \n",
    "    def get_dataframe(self):\n",
    "        data_nopreprocessing = influx_Client.influxClient(ins.CLUSTDataServer).get_data(self.db, self.tablename)\n",
    "        # preprocessing\n",
    "        refine_param = {\n",
    "            \"removeDuplication\":{\"flag\":True},\n",
    "            \"staticFrequency\":{\"flag\":True, \"frequency\":None}\n",
    "        }\n",
    "        \n",
    "        outlier_param  = {\n",
    "            \"certainErrorToNaN\":{\"flag\":True},\n",
    "            \"unCertainErrorToNaN\":{\n",
    "                \"flag\":False,\n",
    "                \"param\":{\"neighbor\":[0.5,0.6]}\n",
    "            },\n",
    "            \"data_type\":\"air\"\n",
    "        }\n",
    "        \n",
    "        imputation_param = {\n",
    "            \"serialImputation\":{\n",
    "                \"flag\":True,\n",
    "                \"imputation_method\":[{\"min\":0,\"max\":20,\"method\":\"linear\" , \"parameter\":{}}],\n",
    "                \"totalNonNanRatio\":70\n",
    "            }\n",
    "        }\n",
    "        \n",
    "        process_param = {'refine_param':refine_param, 'outlier_param':outlier_param, 'imputation_param':imputation_param}\n",
    "        \n",
    "        partialP = data_preprocessing.packagedPartialProcessing(process_param)\n",
    "        dataframe = partialP.allPartialProcessing(data_nopreprocessing)[\"imputed_data\"]\n",
    "\n",
    "        return dataframe"
   ]
  },
  {
   "cell_type": "markdown",
   "id": "cd58430d",
   "metadata": {
    "ExecuteTime": {
     "end_time": "2022-01-13T08:37:58.982065Z",
     "start_time": "2022-01-13T08:37:58.979420Z"
    }
   },
   "source": [
    "### test data read"
   ]
  },
  {
   "cell_type": "code",
   "execution_count": 7,
   "id": "e5f01674",
   "metadata": {
    "ExecuteTime": {
     "end_time": "2022-01-14T06:43:18.874959Z",
     "start_time": "2022-01-14T06:43:08.466010Z"
    },
    "scrolled": true
   },
   "outputs": [
    {
     "name": "stdout",
     "output_type": "stream",
     "text": [
      "getDataWithCertainNaN\n",
      "after Drop NaN Data\n"
     ]
    }
   ],
   "source": [
    "d = Collector(\"air_indoor_체육시설\", \"ICW0W2001042\")\n",
    "test_data = d.get_dataframe()"
   ]
  },
  {
   "cell_type": "code",
   "execution_count": 8,
   "id": "c5daf6ef",
   "metadata": {
    "ExecuteTime": {
     "end_time": "2022-01-14T06:43:18.903815Z",
     "start_time": "2022-01-14T06:43:18.876332Z"
    },
    "scrolled": true
   },
   "outputs": [
    {
     "data": {
      "text/html": [
       "<div>\n",
       "<style scoped>\n",
       "    .dataframe tbody tr th:only-of-type {\n",
       "        vertical-align: middle;\n",
       "    }\n",
       "\n",
       "    .dataframe tbody tr th {\n",
       "        vertical-align: top;\n",
       "    }\n",
       "\n",
       "    .dataframe thead th {\n",
       "        text-align: right;\n",
       "    }\n",
       "</style>\n",
       "<table border=\"1\" class=\"dataframe\">\n",
       "  <thead>\n",
       "    <tr style=\"text-align: right;\">\n",
       "      <th></th>\n",
       "      <th>in_ciai</th>\n",
       "      <th>in_cici</th>\n",
       "      <th>in_cici_co2</th>\n",
       "      <th>in_cici_humi</th>\n",
       "      <th>in_cici_noise</th>\n",
       "      <th>in_cici_pm10</th>\n",
       "      <th>in_cici_pm25</th>\n",
       "      <th>in_cici_temp</th>\n",
       "      <th>in_cici_voc</th>\n",
       "      <th>in_co2</th>\n",
       "      <th>in_humi</th>\n",
       "      <th>in_noise</th>\n",
       "      <th>in_pm01</th>\n",
       "      <th>in_pm01_raw</th>\n",
       "      <th>in_pm10</th>\n",
       "      <th>in_pm10_raw</th>\n",
       "      <th>in_pm25</th>\n",
       "      <th>in_pm25_raw</th>\n",
       "      <th>in_temp</th>\n",
       "      <th>in_voc</th>\n",
       "    </tr>\n",
       "    <tr>\n",
       "      <th>time</th>\n",
       "      <th></th>\n",
       "      <th></th>\n",
       "      <th></th>\n",
       "      <th></th>\n",
       "      <th></th>\n",
       "      <th></th>\n",
       "      <th></th>\n",
       "      <th></th>\n",
       "      <th></th>\n",
       "      <th></th>\n",
       "      <th></th>\n",
       "      <th></th>\n",
       "      <th></th>\n",
       "      <th></th>\n",
       "      <th></th>\n",
       "      <th></th>\n",
       "      <th></th>\n",
       "      <th></th>\n",
       "      <th></th>\n",
       "      <th></th>\n",
       "    </tr>\n",
       "  </thead>\n",
       "  <tbody>\n",
       "    <tr>\n",
       "      <th>2020-07-28 11:14:00+00:00</th>\n",
       "      <td>92.0</td>\n",
       "      <td>96.0</td>\n",
       "      <td>82.0</td>\n",
       "      <td>88.0</td>\n",
       "      <td>46.0</td>\n",
       "      <td>95.0</td>\n",
       "      <td>90.0</td>\n",
       "      <td>82.0</td>\n",
       "      <td>100.0</td>\n",
       "      <td>873.0</td>\n",
       "      <td>61.0</td>\n",
       "      <td>73.0</td>\n",
       "      <td>14.0</td>\n",
       "      <td>14.0</td>\n",
       "      <td>16.0</td>\n",
       "      <td>16.0</td>\n",
       "      <td>15.0</td>\n",
       "      <td>15.0</td>\n",
       "      <td>26.4</td>\n",
       "      <td>0.0</td>\n",
       "    </tr>\n",
       "    <tr>\n",
       "      <th>2020-07-28 11:15:00+00:00</th>\n",
       "      <td>93.0</td>\n",
       "      <td>96.0</td>\n",
       "      <td>84.0</td>\n",
       "      <td>90.0</td>\n",
       "      <td>46.0</td>\n",
       "      <td>96.0</td>\n",
       "      <td>92.0</td>\n",
       "      <td>76.0</td>\n",
       "      <td>100.0</td>\n",
       "      <td>774.0</td>\n",
       "      <td>60.0</td>\n",
       "      <td>73.0</td>\n",
       "      <td>11.0</td>\n",
       "      <td>11.0</td>\n",
       "      <td>13.0</td>\n",
       "      <td>13.0</td>\n",
       "      <td>12.0</td>\n",
       "      <td>12.0</td>\n",
       "      <td>27.4</td>\n",
       "      <td>0.0</td>\n",
       "    </tr>\n",
       "    <tr>\n",
       "      <th>2020-07-28 11:16:00+00:00</th>\n",
       "      <td>94.0</td>\n",
       "      <td>97.0</td>\n",
       "      <td>85.0</td>\n",
       "      <td>94.0</td>\n",
       "      <td>46.0</td>\n",
       "      <td>96.0</td>\n",
       "      <td>93.0</td>\n",
       "      <td>68.0</td>\n",
       "      <td>100.0</td>\n",
       "      <td>712.0</td>\n",
       "      <td>56.0</td>\n",
       "      <td>73.0</td>\n",
       "      <td>11.0</td>\n",
       "      <td>11.0</td>\n",
       "      <td>11.0</td>\n",
       "      <td>11.0</td>\n",
       "      <td>11.0</td>\n",
       "      <td>11.0</td>\n",
       "      <td>28.2</td>\n",
       "      <td>0.0</td>\n",
       "    </tr>\n",
       "    <tr>\n",
       "      <th>2020-07-28 11:17:00+00:00</th>\n",
       "      <td>93.0</td>\n",
       "      <td>96.0</td>\n",
       "      <td>85.0</td>\n",
       "      <td>96.0</td>\n",
       "      <td>46.0</td>\n",
       "      <td>95.0</td>\n",
       "      <td>91.0</td>\n",
       "      <td>60.0</td>\n",
       "      <td>100.0</td>\n",
       "      <td>700.0</td>\n",
       "      <td>54.0</td>\n",
       "      <td>73.0</td>\n",
       "      <td>14.0</td>\n",
       "      <td>14.0</td>\n",
       "      <td>15.0</td>\n",
       "      <td>15.0</td>\n",
       "      <td>14.0</td>\n",
       "      <td>14.0</td>\n",
       "      <td>29.0</td>\n",
       "      <td>1.0</td>\n",
       "    </tr>\n",
       "    <tr>\n",
       "      <th>2020-07-28 11:18:00+00:00</th>\n",
       "      <td>94.0</td>\n",
       "      <td>97.0</td>\n",
       "      <td>86.0</td>\n",
       "      <td>96.0</td>\n",
       "      <td>44.0</td>\n",
       "      <td>96.0</td>\n",
       "      <td>92.0</td>\n",
       "      <td>54.0</td>\n",
       "      <td>100.0</td>\n",
       "      <td>692.0</td>\n",
       "      <td>54.0</td>\n",
       "      <td>74.0</td>\n",
       "      <td>11.0</td>\n",
       "      <td>11.0</td>\n",
       "      <td>13.0</td>\n",
       "      <td>13.0</td>\n",
       "      <td>12.0</td>\n",
       "      <td>12.0</td>\n",
       "      <td>29.6</td>\n",
       "      <td>2.0</td>\n",
       "    </tr>\n",
       "    <tr>\n",
       "      <th>...</th>\n",
       "      <td>...</td>\n",
       "      <td>...</td>\n",
       "      <td>...</td>\n",
       "      <td>...</td>\n",
       "      <td>...</td>\n",
       "      <td>...</td>\n",
       "      <td>...</td>\n",
       "      <td>...</td>\n",
       "      <td>...</td>\n",
       "      <td>...</td>\n",
       "      <td>...</td>\n",
       "      <td>...</td>\n",
       "      <td>...</td>\n",
       "      <td>...</td>\n",
       "      <td>...</td>\n",
       "      <td>...</td>\n",
       "      <td>...</td>\n",
       "      <td>...</td>\n",
       "      <td>...</td>\n",
       "      <td>...</td>\n",
       "    </tr>\n",
       "    <tr>\n",
       "      <th>2021-08-31 23:55:00+00:00</th>\n",
       "      <td>94.0</td>\n",
       "      <td>100.0</td>\n",
       "      <td>91.4</td>\n",
       "      <td>98.0</td>\n",
       "      <td>82.3</td>\n",
       "      <td>98.3</td>\n",
       "      <td>96.7</td>\n",
       "      <td>83.1</td>\n",
       "      <td>90.1</td>\n",
       "      <td>431.0</td>\n",
       "      <td>52.0</td>\n",
       "      <td>49.0</td>\n",
       "      <td>5.0</td>\n",
       "      <td>5.0</td>\n",
       "      <td>5.0</td>\n",
       "      <td>5.0</td>\n",
       "      <td>5.0</td>\n",
       "      <td>5.0</td>\n",
       "      <td>26.0</td>\n",
       "      <td>198.0</td>\n",
       "    </tr>\n",
       "    <tr>\n",
       "      <th>2021-08-31 23:56:00+00:00</th>\n",
       "      <td>94.0</td>\n",
       "      <td>100.0</td>\n",
       "      <td>91.3</td>\n",
       "      <td>98.0</td>\n",
       "      <td>82.3</td>\n",
       "      <td>98.7</td>\n",
       "      <td>97.3</td>\n",
       "      <td>83.1</td>\n",
       "      <td>88.8</td>\n",
       "      <td>435.0</td>\n",
       "      <td>52.0</td>\n",
       "      <td>49.0</td>\n",
       "      <td>4.0</td>\n",
       "      <td>4.0</td>\n",
       "      <td>4.0</td>\n",
       "      <td>4.0</td>\n",
       "      <td>4.0</td>\n",
       "      <td>4.0</td>\n",
       "      <td>26.0</td>\n",
       "      <td>205.0</td>\n",
       "    </tr>\n",
       "    <tr>\n",
       "      <th>2021-08-31 23:57:00+00:00</th>\n",
       "      <td>94.0</td>\n",
       "      <td>100.0</td>\n",
       "      <td>91.3</td>\n",
       "      <td>98.0</td>\n",
       "      <td>81.9</td>\n",
       "      <td>98.3</td>\n",
       "      <td>96.7</td>\n",
       "      <td>83.1</td>\n",
       "      <td>88.5</td>\n",
       "      <td>433.0</td>\n",
       "      <td>52.0</td>\n",
       "      <td>50.0</td>\n",
       "      <td>5.0</td>\n",
       "      <td>5.0</td>\n",
       "      <td>5.0</td>\n",
       "      <td>5.0</td>\n",
       "      <td>5.0</td>\n",
       "      <td>5.0</td>\n",
       "      <td>26.0</td>\n",
       "      <td>213.0</td>\n",
       "    </tr>\n",
       "    <tr>\n",
       "      <th>2021-08-31 23:58:00+00:00</th>\n",
       "      <td>94.0</td>\n",
       "      <td>100.0</td>\n",
       "      <td>91.3</td>\n",
       "      <td>98.0</td>\n",
       "      <td>82.3</td>\n",
       "      <td>98.7</td>\n",
       "      <td>97.3</td>\n",
       "      <td>83.4</td>\n",
       "      <td>88.7</td>\n",
       "      <td>436.0</td>\n",
       "      <td>52.0</td>\n",
       "      <td>49.0</td>\n",
       "      <td>4.0</td>\n",
       "      <td>4.0</td>\n",
       "      <td>4.0</td>\n",
       "      <td>4.0</td>\n",
       "      <td>4.0</td>\n",
       "      <td>4.0</td>\n",
       "      <td>25.9</td>\n",
       "      <td>208.0</td>\n",
       "    </tr>\n",
       "    <tr>\n",
       "      <th>2021-08-31 23:59:00+00:00</th>\n",
       "      <td>94.0</td>\n",
       "      <td>100.0</td>\n",
       "      <td>91.4</td>\n",
       "      <td>98.0</td>\n",
       "      <td>81.9</td>\n",
       "      <td>98.3</td>\n",
       "      <td>96.7</td>\n",
       "      <td>83.4</td>\n",
       "      <td>89.0</td>\n",
       "      <td>429.0</td>\n",
       "      <td>52.0</td>\n",
       "      <td>50.0</td>\n",
       "      <td>5.0</td>\n",
       "      <td>5.0</td>\n",
       "      <td>5.0</td>\n",
       "      <td>5.0</td>\n",
       "      <td>5.0</td>\n",
       "      <td>5.0</td>\n",
       "      <td>25.9</td>\n",
       "      <td>201.0</td>\n",
       "    </tr>\n",
       "  </tbody>\n",
       "</table>\n",
       "<p>575326 rows × 20 columns</p>\n",
       "</div>"
      ],
      "text/plain": [
       "                           in_ciai  in_cici  in_cici_co2  in_cici_humi  \\\n",
       "time                                                                     \n",
       "2020-07-28 11:14:00+00:00     92.0     96.0         82.0          88.0   \n",
       "2020-07-28 11:15:00+00:00     93.0     96.0         84.0          90.0   \n",
       "2020-07-28 11:16:00+00:00     94.0     97.0         85.0          94.0   \n",
       "2020-07-28 11:17:00+00:00     93.0     96.0         85.0          96.0   \n",
       "2020-07-28 11:18:00+00:00     94.0     97.0         86.0          96.0   \n",
       "...                            ...      ...          ...           ...   \n",
       "2021-08-31 23:55:00+00:00     94.0    100.0         91.4          98.0   \n",
       "2021-08-31 23:56:00+00:00     94.0    100.0         91.3          98.0   \n",
       "2021-08-31 23:57:00+00:00     94.0    100.0         91.3          98.0   \n",
       "2021-08-31 23:58:00+00:00     94.0    100.0         91.3          98.0   \n",
       "2021-08-31 23:59:00+00:00     94.0    100.0         91.4          98.0   \n",
       "\n",
       "                           in_cici_noise  in_cici_pm10  in_cici_pm25  \\\n",
       "time                                                                   \n",
       "2020-07-28 11:14:00+00:00           46.0          95.0          90.0   \n",
       "2020-07-28 11:15:00+00:00           46.0          96.0          92.0   \n",
       "2020-07-28 11:16:00+00:00           46.0          96.0          93.0   \n",
       "2020-07-28 11:17:00+00:00           46.0          95.0          91.0   \n",
       "2020-07-28 11:18:00+00:00           44.0          96.0          92.0   \n",
       "...                                  ...           ...           ...   \n",
       "2021-08-31 23:55:00+00:00           82.3          98.3          96.7   \n",
       "2021-08-31 23:56:00+00:00           82.3          98.7          97.3   \n",
       "2021-08-31 23:57:00+00:00           81.9          98.3          96.7   \n",
       "2021-08-31 23:58:00+00:00           82.3          98.7          97.3   \n",
       "2021-08-31 23:59:00+00:00           81.9          98.3          96.7   \n",
       "\n",
       "                           in_cici_temp  in_cici_voc  in_co2  in_humi  \\\n",
       "time                                                                    \n",
       "2020-07-28 11:14:00+00:00          82.0        100.0   873.0     61.0   \n",
       "2020-07-28 11:15:00+00:00          76.0        100.0   774.0     60.0   \n",
       "2020-07-28 11:16:00+00:00          68.0        100.0   712.0     56.0   \n",
       "2020-07-28 11:17:00+00:00          60.0        100.0   700.0     54.0   \n",
       "2020-07-28 11:18:00+00:00          54.0        100.0   692.0     54.0   \n",
       "...                                 ...          ...     ...      ...   \n",
       "2021-08-31 23:55:00+00:00          83.1         90.1   431.0     52.0   \n",
       "2021-08-31 23:56:00+00:00          83.1         88.8   435.0     52.0   \n",
       "2021-08-31 23:57:00+00:00          83.1         88.5   433.0     52.0   \n",
       "2021-08-31 23:58:00+00:00          83.4         88.7   436.0     52.0   \n",
       "2021-08-31 23:59:00+00:00          83.4         89.0   429.0     52.0   \n",
       "\n",
       "                           in_noise  in_pm01  in_pm01_raw  in_pm10  \\\n",
       "time                                                                 \n",
       "2020-07-28 11:14:00+00:00      73.0     14.0         14.0     16.0   \n",
       "2020-07-28 11:15:00+00:00      73.0     11.0         11.0     13.0   \n",
       "2020-07-28 11:16:00+00:00      73.0     11.0         11.0     11.0   \n",
       "2020-07-28 11:17:00+00:00      73.0     14.0         14.0     15.0   \n",
       "2020-07-28 11:18:00+00:00      74.0     11.0         11.0     13.0   \n",
       "...                             ...      ...          ...      ...   \n",
       "2021-08-31 23:55:00+00:00      49.0      5.0          5.0      5.0   \n",
       "2021-08-31 23:56:00+00:00      49.0      4.0          4.0      4.0   \n",
       "2021-08-31 23:57:00+00:00      50.0      5.0          5.0      5.0   \n",
       "2021-08-31 23:58:00+00:00      49.0      4.0          4.0      4.0   \n",
       "2021-08-31 23:59:00+00:00      50.0      5.0          5.0      5.0   \n",
       "\n",
       "                           in_pm10_raw  in_pm25  in_pm25_raw  in_temp  in_voc  \n",
       "time                                                                           \n",
       "2020-07-28 11:14:00+00:00         16.0     15.0         15.0     26.4     0.0  \n",
       "2020-07-28 11:15:00+00:00         13.0     12.0         12.0     27.4     0.0  \n",
       "2020-07-28 11:16:00+00:00         11.0     11.0         11.0     28.2     0.0  \n",
       "2020-07-28 11:17:00+00:00         15.0     14.0         14.0     29.0     1.0  \n",
       "2020-07-28 11:18:00+00:00         13.0     12.0         12.0     29.6     2.0  \n",
       "...                                ...      ...          ...      ...     ...  \n",
       "2021-08-31 23:55:00+00:00          5.0      5.0          5.0     26.0   198.0  \n",
       "2021-08-31 23:56:00+00:00          4.0      4.0          4.0     26.0   205.0  \n",
       "2021-08-31 23:57:00+00:00          5.0      5.0          5.0     26.0   213.0  \n",
       "2021-08-31 23:58:00+00:00          4.0      4.0          4.0     25.9   208.0  \n",
       "2021-08-31 23:59:00+00:00          5.0      5.0          5.0     25.9   201.0  \n",
       "\n",
       "[575326 rows x 20 columns]"
      ]
     },
     "execution_count": 8,
     "metadata": {},
     "output_type": "execute_result"
    }
   ],
   "source": [
    "test_data"
   ]
  },
  {
   "cell_type": "code",
   "execution_count": null,
   "id": "cf750796",
   "metadata": {},
   "outputs": [],
   "source": []
  },
  {
   "cell_type": "markdown",
   "id": "60990499",
   "metadata": {},
   "source": [
    "### test db meta read"
   ]
  },
  {
   "cell_type": "code",
   "execution_count": 9,
   "id": "2b6edee2",
   "metadata": {
    "ExecuteTime": {
     "end_time": "2022-01-14T06:45:09.290088Z",
     "start_time": "2022-01-14T06:45:09.285102Z"
    },
    "scrolled": true
   },
   "outputs": [],
   "source": [
    "import json\n",
    "\n",
    "with open('DbMetaSample.json', 'r') as f:\n",
    "    db_meta_json = json.load(f)"
   ]
  },
  {
   "cell_type": "code",
   "execution_count": 10,
   "id": "2ee60932",
   "metadata": {
    "ExecuteTime": {
     "end_time": "2022-01-14T06:45:10.012759Z",
     "start_time": "2022-01-14T06:45:10.003964Z"
    },
    "scrolled": true
   },
   "outputs": [
    {
     "data": {
      "text/plain": [
       "{'domain': 'air',\n",
       " 'subDomain': 'indoor_어린이집',\n",
       " 'tableName': 'db_information',\n",
       " 'description': 'This is Kweather Data',\n",
       " 'columnInformation': [{'columnName': 'in_voc',\n",
       "   'description': 'Volatile Organic Compounds.',\n",
       "   'tag': ['indoor', '휘발성유기화합물', '환경 오염 물질'],\n",
       "   'unit': 'ppb',\n",
       "   'min': 0,\n",
       "   'max': 60000,\n",
       "   'analysisInformation': {'criteriaInformation': [{'criteriaName': 'CountByFeatureLabel',\n",
       "      'criteria': [{'step': [0, 200, 400, 1000, 60000],\n",
       "        'label': ['좋음', '보통', '나쁨', '매우나쁨']}]},\n",
       "     {'criteriaName': 'StatisticsResult',\n",
       "      'criteriaResult': {'characteristics': 'mean',\n",
       "       'label': ['mean', 'min', 'max'],\n",
       "       'value': [2280.4667182746184, 0, 44925.36]}},\n",
       "     {'criteriaName': 'MeanByHoliday',\n",
       "      'criteriaResult': {'characteristics': 'mean',\n",
       "       'label': ['holiday', 'notHoliday'],\n",
       "       'value': [2475.932558529038, 2656.9365331831195]},\n",
       "      'criteria': [{'step': ['Sat', 'Sun'], 'label': ['Holiday']}]},\n",
       "     {'criteriaName': 'MeanByWorking',\n",
       "      'criteriaResult': {'characteristics': 'mean',\n",
       "       'label': ['working', 'notWorking'],\n",
       "       'value': [2467.6520073246047, 1979.1728288798156]},\n",
       "      'criteria': [{'step': [0, 9, 18, 24],\n",
       "        'label': ['notWorking', 'working', 'notWorking']}]},\n",
       "     {'criteriaName': 'MeanByTimeStep',\n",
       "      'criteriaResult': {'characteristics': 'mean',\n",
       "       'label': ['dawn', 'morning', 'afternoon', 'evening', 'night'],\n",
       "       'value': [1018.3953637613537,\n",
       "        1622.1041736020402,\n",
       "        2177.2700810084807,\n",
       "        3458.4296400503304,\n",
       "        3756.595502590152]},\n",
       "      'criteria': [{'step': [0, 6, 12, 17, 20, 24],\n",
       "        'label': ['dawn', 'morning', 'afternoon', 'evening', 'night']}]}]}},\n",
       "  {'columnName': 'in_pm01_raw',\n",
       "   'description': 'Original particulate matter 01',\n",
       "   'tag': ['indoor', '극초미세먼지', '원본값', '환경 오염 물질'],\n",
       "   'unit': '㎍/m³',\n",
       "   'min': 0,\n",
       "   'max': 1000,\n",
       "   'analysisInformation': {'criteriaInformation': [{'criteriaName': 'StatisticsResult',\n",
       "      'result': {'characteristics': 'mean',\n",
       "       'label': ['mean', 'min', 'max'],\n",
       "       'value': [20.534083852257385, 4.346153846153846, 234.19230769230768]}},\n",
       "     {'criteriaName': 'MeanByHoliday',\n",
       "      'criteriaResult': {'characteristics': 'mean',\n",
       "       'label': ['holiday', 'notHoliday'],\n",
       "       'value': [16.48277234392776, 20.55504786257979]},\n",
       "      'criteria': [{'step': ['Sat', 'Sun'], 'label': ['Holiday']}]},\n",
       "     {'criteriaName': 'MeanByWorking',\n",
       "      'criteriaResult': {'characteristics': 'mean',\n",
       "       'label': ['working', 'notWorking'],\n",
       "       'value': [18.600573977766945, 19.879085633595846]},\n",
       "      'criteria': [{'step': [0, 9, 18, 24],\n",
       "        'label': ['notWorking', 'working', 'notWorking']}]},\n",
       "     {'criteriaName': 'MeanByTimeStep',\n",
       "      'criteriaResult': {'characteristics': 'mean',\n",
       "       'label': ['dawn', 'morning', 'afternoon', 'evening', 'night'],\n",
       "       'value': [20.272958074444634,\n",
       "        22.328572879122387,\n",
       "        18.803570468749367,\n",
       "        17.70332811596312,\n",
       "        19.416017511673974]},\n",
       "      'criteria': [{'step': [0, 6, 12, 17, 20, 24],\n",
       "        'label': ['dawn', 'morning', 'afternoon', 'evening', 'night']}]}]}}]}"
      ]
     },
     "execution_count": 10,
     "metadata": {},
     "output_type": "execute_result"
    }
   ],
   "source": [
    "db_meta_json"
   ]
  },
  {
   "cell_type": "markdown",
   "id": "d2abd59c",
   "metadata": {},
   "source": [
    "### MetaGenerator Package"
   ]
  },
  {
   "cell_type": "code",
   "execution_count": 11,
   "id": "4688b5f9",
   "metadata": {
    "ExecuteTime": {
     "end_time": "2022-01-14T06:43:18.922202Z",
     "start_time": "2022-01-14T06:43:18.918305Z"
    }
   },
   "outputs": [
    {
     "data": {
      "text/plain": [
       "'\\nfunction_list=[\"StatisticsResult\", \"MeanByHoliday\"]\\nmeasurement_list = [\"ICW0W2001042\", \"ICW0W2001043\", \"ICW0W2001044\"]\\nfirst_input = {\\n    \"database\" : \"air_indoor_체육시설\",\\n    \"measurements\" : measurement_list,\\n    \"function_list\" : function_list,\\n    \"mode\" : \"Update\"\\n}\\n'"
      ]
     },
     "execution_count": 11,
     "metadata": {},
     "output_type": "execute_result"
    }
   ],
   "source": [
    "\"\"\"\n",
    "function_list=[\"StatisticsResult\", \"MeanByHoliday\"]\n",
    "measurement_list = [\"ICW0W2001042\", \"ICW0W2001043\", \"ICW0W2001044\"]\n",
    "first_input = {\n",
    "    \"database\" : \"air_indoor_체육시설\",\n",
    "    \"measurements\" : measurement_list,\n",
    "    \"function_list\" : function_list,\n",
    "    \"mode\" : \"Update\"\n",
    "}\n",
    "\"\"\""
   ]
  },
  {
   "cell_type": "markdown",
   "id": "dfdd09b1",
   "metadata": {},
   "source": [
    "#### AnalysisInputControl"
   ]
  },
  {
   "cell_type": "code",
   "execution_count": 12,
   "id": "0b050056",
   "metadata": {
    "ExecuteTime": {
     "end_time": "2022-01-14T06:43:18.940107Z",
     "start_time": "2022-01-14T06:43:18.926295Z"
    }
   },
   "outputs": [],
   "source": [
    "#from KETIToolMetaManager.GetAnalysisInputSource import Collector\n",
    "\n",
    "class AnalysisInputControl(Collector):\n",
    "    def get_input_source_by_functionlist(self):\n",
    "        flist_data = [\"StatisticsResult\"] #Data\n",
    "        flist_data_info = [\"MeanByHoliday\", \"MeanByWorking\", \"MeanByTimeStep\", \"FeatureLabel\"] #Additional Info, Data\n",
    "        flist_info = [] #Additional Info\n",
    "        \n",
    "        data_flag = any(function in flist_data for function in self.function_list)\n",
    "        data_info_flag = any(function in flist_data_info for function in self.function_list)\n",
    "        info_flag = any(function in flist_info for function in self.function_list)\n",
    "        \n",
    "        if data_info_flag:\n",
    "            data = super().get_dataframe()\n",
    "            base_meta = super().get_database_meta()\n",
    "        else:\n",
    "            if data_flag:\n",
    "                data = super().get_dataframe()\n",
    "                base_meta = None\n",
    "            elif info_flag:\n",
    "                data = None\n",
    "                base_meta = super().get_database_meta()\n",
    "        \n",
    "        return data, base_meta"
   ]
  },
  {
   "cell_type": "markdown",
   "id": "cf8fc0b3",
   "metadata": {},
   "source": [
    "#### AnalysisMetaControl"
   ]
  },
  {
   "cell_type": "code",
   "execution_count": 13,
   "id": "f4c5e16b",
   "metadata": {
    "ExecuteTime": {
     "end_time": "2022-01-14T06:43:18.957883Z",
     "start_time": "2022-01-14T06:43:18.945035Z"
    }
   },
   "outputs": [],
   "source": [
    "from KETIPreDataIngestion.KETI_setting import influx_setting_KETI as ins\n",
    "from KETIPreDataIngestion.data_influx import influx_Client\n",
    " \n",
    "class AnalysisMetaControl(AnalysisInputControl):\n",
    "    def __init__(self, metasave_info):\n",
    "        self.db = metasave_info[\"database\"]\n",
    "        self.ms_list = metasave_info[\"measurement_list\"]\n",
    "        self.function_list = metasave_info[\"function_list\"]\n",
    "        self.mode = metasave_info[\"mode\"]\n",
    "            \n",
    "    def get_metaset_by_measurement_condition(self): # measurement 조건별 생성한 metaset Output을 결정하는 아이\n",
    "        if self.ms_list == []:\n",
    "            all_ms_list \n",
    "        if self.ms_list == []: # measurement 를 all 로 기입\n",
    "            all_ms_list = influx_Client.influxClient(ins).measurement_list(self.db)\n",
    "            self.meta_set = self.create_metaset(all_ms_list)\n",
    "        else:\n",
    "            if len(self.ms_list) == 1:\n",
    "                self.meta_set = self.create_meta(self.ms_list)[0]\n",
    "            else: # measurement 를 여러개 기입\n",
    "                self.meta_set = self.create_meta(measurement)\n",
    "                \n",
    "        return self.meta_set\n",
    "    \n",
    "    def get_metaset(self, tablenames):\n",
    "        self.meta_set = []\n",
    "        for self.tablename in tablenames:\n",
    "            data, base_meta = super().get_input_source_by_functionlist()\n",
    "            analysis_result_set = Analyzer.BachCaller(self.db, self.tablename, self.function_list, data, base_meta)\n",
    "            analysis_meta = self.transform_meta_format(analysis_result_set) # format 아직 없기때문에 에러가 뜸\n",
    "            self.meta_set.append(analysis_meta)\n",
    "        return self.meta_set\n",
    "    \n",
    "    def transform_meta_format(self, analysis_result_set): # meta_format_correction\n",
    "        pass # return analysis_meta"
   ]
  },
  {
   "cell_type": "code",
   "execution_count": null,
   "id": "3c9f233d",
   "metadata": {},
   "outputs": [],
   "source": []
  },
  {
   "cell_type": "markdown",
   "id": "8c82cc27",
   "metadata": {},
   "source": [
    "##### db, ms meta 둘다 필요할 경우 output"
   ]
  },
  {
   "cell_type": "code",
   "execution_count": 14,
   "id": "1a5806a2",
   "metadata": {
    "ExecuteTime": {
     "end_time": "2022-01-14T06:43:18.976234Z",
     "start_time": "2022-01-14T06:43:18.964918Z"
    }
   },
   "outputs": [
    {
     "data": {
      "text/plain": [
       "'base_meta = {\"db_meta\" : {},\\n                        \"ms_meta\": {}} # 이런 형태로 하기\\n'"
      ]
     },
     "execution_count": 14,
     "metadata": {},
     "output_type": "execute_result"
    }
   ],
   "source": [
    "# base_meta 가 현재는 db_meta 인데 나중에 ms_meta 도 추가된다면\n",
    "\"\"\"base_meta = {\"db_meta\" : {},\n",
    "                        \"ms_meta\": {}} # 이런 형태로 하기\n",
    "\"\"\""
   ]
  },
  {
   "cell_type": "markdown",
   "id": "6a5b5b2e",
   "metadata": {},
   "source": [
    "## KETIToolAnalyzer"
   ]
  },
  {
   "cell_type": "markdown",
   "id": "ae67c3d9",
   "metadata": {},
   "source": [
    "### Analyzer Package"
   ]
  },
  {
   "cell_type": "markdown",
   "id": "c23df095",
   "metadata": {},
   "source": [
    "#### StatisticsResult"
   ]
  },
  {
   "cell_type": "code",
   "execution_count": 15,
   "id": "3a71150b",
   "metadata": {
    "ExecuteTime": {
     "end_time": "2022-01-14T06:43:18.984855Z",
     "start_time": "2022-01-14T06:43:18.979629Z"
    }
   },
   "outputs": [],
   "source": [
    "# 이것만 따로 사용할 시 Input을 어떻게 할건지 고민해봐야함\n",
    "class StatisticsResult():\n",
    "    def __init__(self, data):\n",
    "        self.data = data\n",
    "    def make_data_statistics_result(self):\n",
    "        \"\"\"\n",
    "        데이터의 통계적 분포 정보를 Dictionary로 생성하는 함수\n",
    "\n",
    "        Returns:\n",
    "            데이터의 통계적 분포 정보를 담고 있는 Dictionary\n",
    "        \"\"\"\n",
    "        statistics_result_dict = self.data.describe().to_dict()\n",
    "        return statistics_result_dict"
   ]
  },
  {
   "cell_type": "code",
   "execution_count": null,
   "id": "e2a459fb",
   "metadata": {},
   "outputs": [],
   "source": []
  },
  {
   "cell_type": "markdown",
   "id": "449b3f92",
   "metadata": {},
   "source": [
    "#### MeanByHoliday"
   ]
  },
  {
   "cell_type": "code",
   "execution_count": 16,
   "id": "7c7610a3",
   "metadata": {
    "ExecuteTime": {
     "end_time": "2022-01-14T06:43:18.999260Z",
     "start_time": "2022-01-14T06:43:18.987440Z"
    }
   },
   "outputs": [],
   "source": [
    "class MeanByHoliday():\n",
    "    def __init__(self, data, base_meta):\n",
    "        self.data = data\n",
    "        self.base_meta = base_meta\n",
    "    def make_day_column(self): # make_day_info\n",
    "        \"\"\"\n",
    "        데이터의 시간에 따라 \"Day\" column에 요일 정보를 추가하는 함수\n",
    "\n",
    "        Returns:\n",
    "            요일 정보를 포함한 데이터\n",
    "        \"\"\"\n",
    "        days = [\"Mon\", \"Tue\", \"Wed\", \"Thu\", \"Fri\", \"Sat\", \"Sun\"]\n",
    "        day_list = [days[x] for x in self.data.index.weekday]\n",
    "        self.data[\"Day\"] = day_list\n",
    "        return self.data\n",
    "    \n",
    "    # Data Public Holiday Create\n",
    "    def make_holiday_column(self): # make_holiday_info\n",
    "        \"\"\"\n",
    "        데이터의 시간에 따라 \"HoliDay\" column에 휴일 정보를 추가하는 함수\n",
    "        요일 정보를 생성해주는 함수를 활용해서 주말 정보를 휴일로 구분\n",
    "        휴일은 사용자가 입력한 휴일 기준으로 한다.\n",
    "\n",
    "        Returns: \n",
    "            요일, 휴일 정보를 포함한 데이터\n",
    "        \"\"\"\n",
    "        self.data = self.make_day_column()\n",
    "        \n",
    "        ## public_holiday 생성\n",
    "        years = range(self.data.index.min().year, self.data.index.max().year+1)\n",
    "        public_holiday_list = []\n",
    "        for year in years:\n",
    "            public_holiday_list += [x.strftime(\"%Y-%m-%d\") for x in pytimekr.holidays(year)]\n",
    "            \n",
    "        ## data base meta 로 부터 휴일 기준을 받아오기\n",
    "        if type(self.base_meta) == dict:\n",
    "            base_meta_criteria = self.base_meta[\"columnInformation\"][0][\"analysisInformation\"][\"criteriaInformation\"]\n",
    "        else:# 독단적으로 사용시\n",
    "            # self.base_meta = [{\"criteriaName\":\"MeanByHoliday\", \"criteria\":[{'label': ['Holiday'], 'step': ['Sat', 'Sun']} ]}] 으로 Input\n",
    "            base_meta_criteria = self.base_meta\n",
    "\n",
    "        holiday_criteria = [cis[\"criteria\"][0] for cis in base_meta_criteria if cis[\"criteriaName\"] == \"MeanByHoliday\"][0]\n",
    "        # 최종 holiday_criteria = {'label': ['Holiday'], 'step': ['Sat', 'Sun']} -> {'label':[holiday만 존재], 'step':[holiday인 날만 쓰기]}\n",
    "        \n",
    "        input_holiday_list = []\n",
    "        for input_holiday in holiday_criteria[\"step\"]:\n",
    "            input_holiday_list += [x.strftime(\"%Y-%m-%d\") for x in self.data[self.data.Day == input_holiday].index.tz_convert(None)]\n",
    "        input_holiday_set = set(input_holiday_list)\n",
    "\n",
    "        ## 최종 휴일 Column 생성 (공휴일 + 입력한 휴일 기준)\n",
    "        final_holiday_list = public_holiday_list + list(input_holiday_set)\n",
    "        holidays = [\"holiday\" if x.strftime(\"%Y-%m-%d\") in final_holiday_list else \"notHoliday\" for x in self.data.index]\n",
    "        self.data[\"HoliDay\"] = holidays\n",
    "\n",
    "        return self.data\n",
    "\n",
    "    def make_meanbyholiday_result(self):\n",
    "        \"\"\"\n",
    "        Holiday &Not Holiday 에 따른 데이터의 평균 값을 Meta 로 생성하는 함수\n",
    "\n",
    "        - 휴일과 휴일이 아닌 날에 따른 분석을 위해 transform_holiday_create 함수로 추출한 \"HoliDay\" column을 활용\n",
    "        - Holiday Meta 를 생성한 후 병합하고 싶은 다른 Meta 가 있을시 meta_holi를 입력 받아 병합할 수 있으며 Holiday Meta 만 단독으로 생성하고 싶을 시 Meta 구조에 맞춰 단독 생성 가능\n",
    "\n",
    "        Args:\n",
    "            meta_holi: Holiday Meta 와 병합하고 싶은 다른 Meta\n",
    "        Returns:\n",
    "            Holiday, Not Holiday 의 평균 값을 포함한 Dictionary Meta\n",
    "        \"\"\"\n",
    "        self.data = self.make_holiday_column()\n",
    "        meanbyholiday_result_dict = self.data.groupby(\"HoliDay\").mean().to_dict()\n",
    "        \n",
    "        return meanbyholiday_result_dict"
   ]
  },
  {
   "cell_type": "markdown",
   "id": "6562b967",
   "metadata": {},
   "source": [
    "##### Test Holiday"
   ]
  },
  {
   "cell_type": "code",
   "execution_count": 17,
   "id": "1e8ec4ac",
   "metadata": {
    "ExecuteTime": {
     "end_time": "2022-01-14T06:45:25.255793Z",
     "start_time": "2022-01-14T06:45:21.800885Z"
    }
   },
   "outputs": [],
   "source": [
    "test_holi = MeanByHoliday(test_data, db_meta_json)\n",
    "holi_data_result_dict = test_holi.make_meanbyholiday_result()"
   ]
  },
  {
   "cell_type": "code",
   "execution_count": 18,
   "id": "469b6737",
   "metadata": {
    "ExecuteTime": {
     "end_time": "2022-01-14T06:45:25.887728Z",
     "start_time": "2022-01-14T06:45:25.875386Z"
    }
   },
   "outputs": [
    {
     "data": {
      "text/plain": [
       "{'in_ciai': {'holiday': 78.90469766789333, 'notHoliday': 71.08314418765971},\n",
       " 'in_cici': {'holiday': 78.71736291723774, 'notHoliday': 70.69667494657166},\n",
       " 'in_cici_co2': {'holiday': 91.48904201245372, 'notHoliday': 90.5094068051638},\n",
       " 'in_cici_humi': {'holiday': 81.89304673925946,\n",
       "  'notHoliday': 79.5879515141005},\n",
       " 'in_cici_noise': {'holiday': 81.89977542276853,\n",
       "  'notHoliday': 79.3590264565917},\n",
       " 'in_cici_pm10': {'holiday': 90.50508034490574,\n",
       "  'notHoliday': 90.31887935651368},\n",
       " 'in_cici_pm25': {'holiday': 82.17201569126836,\n",
       "  'notHoliday': 82.76471577143383},\n",
       " 'in_cici_temp': {'holiday': 56.0323230415592,\n",
       "  'notHoliday': 55.500090126850864},\n",
       " 'in_cici_voc': {'holiday': 64.7514205944615, 'notHoliday': 43.86365255988368},\n",
       " 'in_co2': {'holiday': 425.0013921414157, 'notHoliday': 466.85724559694376},\n",
       " 'in_humi': {'holiday': 37.50927554687416, 'notHoliday': 36.268937094824466},\n",
       " 'in_noise': {'holiday': 50.00719812654457, 'notHoliday': 51.77411161039902},\n",
       " 'in_pm01': {'holiday': 26.670904244412547, 'notHoliday': 26.28808968820292},\n",
       " 'in_pm01_raw': {'holiday': 26.670904244412547,\n",
       "  'notHoliday': 26.28808968820292},\n",
       " 'in_pm10': {'holiday': 31.473943213580394, 'notHoliday': 31.44983346679792},\n",
       " 'in_pm10_raw': {'holiday': 31.473943213580394,\n",
       "  'notHoliday': 31.44983346679792},\n",
       " 'in_pm25': {'holiday': 28.572655752565748, 'notHoliday': 28.307405499421087},\n",
       " 'in_pm25_raw': {'holiday': 28.572655752565748,\n",
       "  'notHoliday': 28.307405499421087},\n",
       " 'in_temp': {'holiday': 17.12481939932875, 'notHoliday': 17.570825372213182},\n",
       " 'in_voc': {'holiday': 1628.8798873336714, 'notHoliday': 10768.890393001964}}"
      ]
     },
     "execution_count": 18,
     "metadata": {},
     "output_type": "execute_result"
    }
   ],
   "source": [
    "holi_data_result_dict"
   ]
  },
  {
   "cell_type": "code",
   "execution_count": null,
   "id": "6dd25497",
   "metadata": {},
   "outputs": [],
   "source": []
  },
  {
   "cell_type": "markdown",
   "id": "b2d4fbf3",
   "metadata": {},
   "source": [
    "##### Analyzer.MeanByHoliday 만 독립적으로 쓸때 Input\n",
    "data = dataframe <br>\n",
    "base_meta = \n",
    "```\n",
    "[\n",
    "    {\n",
    "    \"criteriaName\":\"MeanByHoliday\", \n",
    "    \"criteria\":[\n",
    "                {\n",
    "            'label': ['Holiday'], \n",
    "            'step': ['Sat', 'Sun']\n",
    "                }\n",
    "            ]\n",
    "    }\n",
    "]\n",
    "``` \n",
    "<br>\n",
    "- step의 요일은 영어로 받기\n",
    "- base_meta는 최종적으로 list 로 기입 -> 훗날 다른 분석의 criteria(criteriaName) 이 추가적으로 필요할 상황이 생길수 있기때문에"
   ]
  },
  {
   "cell_type": "code",
   "execution_count": null,
   "id": "9cb24418",
   "metadata": {},
   "outputs": [],
   "source": []
  },
  {
   "cell_type": "markdown",
   "id": "6fcb20f8",
   "metadata": {},
   "source": [
    "#### MeanByWorking"
   ]
  },
  {
   "cell_type": "code",
   "execution_count": 19,
   "id": "b58b4d27",
   "metadata": {
    "ExecuteTime": {
     "end_time": "2022-01-14T06:45:29.122929Z",
     "start_time": "2022-01-14T06:45:29.107232Z"
    }
   },
   "outputs": [
    {
     "ename": "ModuleNotFoundError",
     "evalue": "No module named 'more_itertools'",
     "output_type": "error",
     "traceback": [
      "\u001b[0;31m---------------------------------------------------------------------------\u001b[0m",
      "\u001b[0;31mModuleNotFoundError\u001b[0m                       Traceback (most recent call last)",
      "\u001b[0;32m/var/folders/4b/0lscybsn63l25xcyfcbjhm8c0000gn/T/ipykernel_10523/1099920272.py\u001b[0m in \u001b[0;36m<module>\u001b[0;34m\u001b[0m\n\u001b[0;32m----> 1\u001b[0;31m \u001b[0;32mfrom\u001b[0m \u001b[0mmore_itertools\u001b[0m \u001b[0;32mimport\u001b[0m \u001b[0mlocate\u001b[0m\u001b[0;34m\u001b[0m\u001b[0;34m\u001b[0m\u001b[0m\n\u001b[0m\u001b[1;32m      2\u001b[0m \u001b[0;34m\u001b[0m\u001b[0m\n\u001b[1;32m      3\u001b[0m \u001b[0;32mclass\u001b[0m \u001b[0mMeanByWorking\u001b[0m\u001b[0;34m(\u001b[0m\u001b[0mMeanByHoliday\u001b[0m\u001b[0;34m)\u001b[0m\u001b[0;34m:\u001b[0m\u001b[0;34m\u001b[0m\u001b[0;34m\u001b[0m\u001b[0m\n\u001b[1;32m      4\u001b[0m     \u001b[0;32mdef\u001b[0m \u001b[0m__init__\u001b[0m\u001b[0;34m(\u001b[0m\u001b[0mself\u001b[0m\u001b[0;34m,\u001b[0m \u001b[0mdata\u001b[0m\u001b[0;34m,\u001b[0m \u001b[0mbase_meta\u001b[0m\u001b[0;34m)\u001b[0m\u001b[0;34m:\u001b[0m\u001b[0;34m\u001b[0m\u001b[0;34m\u001b[0m\u001b[0m\n\u001b[1;32m      5\u001b[0m         \u001b[0mself\u001b[0m\u001b[0;34m.\u001b[0m\u001b[0mdata\u001b[0m \u001b[0;34m=\u001b[0m \u001b[0mdata\u001b[0m\u001b[0;34m\u001b[0m\u001b[0;34m\u001b[0m\u001b[0m\n",
      "\u001b[0;31mModuleNotFoundError\u001b[0m: No module named 'more_itertools'"
     ]
    }
   ],
   "source": [
    "from more_itertools import locate\n",
    "\n",
    "class MeanByWorking(MeanByHoliday):\n",
    "    def __init__(self, data, base_meta):\n",
    "        self.data = data\n",
    "        self.base_meta = base_meta\n",
    "    \n",
    "    # Data WorkingTime Create \n",
    "    def make_workingtime_column(self):\n",
    "        \"\"\"\n",
    "        데이터 시간에 따라 일하는 시간과 일하지 않는 시간의 정보를 \"Working\" column에 추가하는 함수\n",
    "\n",
    "        - 데이터에 휴일 정보가 있다면 해당 Column의 이름은 \"HoliDay\" 로 지정한 후에 파라미터에 입력해야한다.\n",
    "        - 데이터에 휴일 정보가 없다면 휴일을 생성하는 make_holiday_column 함수를 활용하여 휴일정보를 생성 # 데이터에 휴일정보가 있는지 없는지도 파라미터로 받기 or 스스로 알아내서 진행하기\n",
    "        - 입력 working_start, working_end 범위 외의 시간과 휴일을 일하지 않는 시간으로 정의\n",
    "        - 입력 시간에서 24시는 0시로 기입한다.\n",
    "        - 데이터 시간 정보의 주기가 1시간 이하일때 사용\n",
    "\n",
    "        Args:\n",
    "            working_start: 일을 시작하는 시간\n",
    "            working_end: 일이 끝나는 시간\n",
    "        Returns:\n",
    "            Working Feature 정보를 포함한 데이터\n",
    "        \"\"\"\n",
    "        if \"HoliDay\" not in self.data.columns: \n",
    "            self.data = super().make_holiday_column()\n",
    "        \n",
    "        if type(self.base_meta) == dict:\n",
    "            base_meta_criteria = self.base_meta[\"columnInformation\"][0][\"analysisInformation\"][\"criteriaInformation\"]\n",
    "        else:# 독단적으로 사용시\n",
    "            base_meta_criteria = self.base_meta\n",
    "\n",
    "        workingtime_criteria = [cis[\"criteria\"][0] for cis in base_meta_criteria if cis[\"criteriaName\"] == \"MeanByWorking\"][0]\n",
    "        # workingtime_criteria = {'step': [0, 9, 18, 24], 'label': ['notWorking', 'working', 'notWorking']}\n",
    "        \n",
    "        print(workingtime_criteria)\n",
    "        # base_meta 로 입력이 됨 -> 여기서 working_start, working_end 를 뽑아야함.\n",
    "        work_idx_list = list(locate(workingtime_criteria[\"label\"], lambda x: x == \"working\"))\n",
    "\n",
    "        working_row_df = pd.DataFrame()\n",
    "        print(\"working_row_df : \", working_row_df)\n",
    "        print(\"====================================\")\n",
    "        for work_idx in work_idx_list:\n",
    "            working_start = workingtime_criteria[\"step\"][work_idx]\n",
    "            working_end = workingtime_criteria[\"step\"][work_idx+1]\n",
    "            print(\"working_start : \", working_start)\n",
    "            print(\"working_end : \", working_end)\n",
    "            \n",
    "            if working_start <= working_end:\n",
    "                working_row = pd.Series(\"working\", \n",
    "                                        index = self.data.index[(self.data.index.hour >= working_start) & (self.data.index.hour <= (working_end-1))])\n",
    "            else:\n",
    "                working_row = pd.Series(\"working\",\n",
    "                                        index = self.data.index[(self.data.index.hour >= working_start) | (self.data.index.hour <= (working_end-1))])\n",
    "            \n",
    "            working_row_df = pd.concat([working_row_df,working_row])\n",
    "            print(\"working_row : \", working_row)\n",
    "            print(\"working_row time : \", working_row.index.hour.unique())\n",
    "            print(\"------------------------------------------------------------------------------\")\n",
    "            print(\"working_row_df : \", working_row_df)\n",
    "            print(\"working_row_df time : \", working_row_df.index.hour.unique())\n",
    "            print(\"------------------------------------------------------------------------------\")\n",
    "        \n",
    "        self.data[\"Working\"] = working_row_df\n",
    "        print(self.data[[\"HoliDay\", \"Working\"]])\n",
    "        print(self.data[self.data['Working'].isnull()][\"Working\"])\n",
    "        print(\"notWorking time : \", self.data[self.data['Working'].isnull()][\"Working\"].index.hour.unique())\n",
    "        self.data[\"Working\"].fillna(\"notWorking\", inplace = True)\n",
    "        print(\"+++++++++++++++++++++++++++++++++++\")\n",
    "        print(self.data[self.data['Working'].isnull()][\"Working\"])\n",
    "        print(self.data[self.data[\"Working\"] == \"notWorking\"][\"Working\"])\n",
    "        print(\"===========\")\n",
    "        print(self.data[[\"HoliDay\", \"Working\"]])\n",
    "        print(self.data[\"Working\"].unique())\n",
    "        \n",
    "        # 휴일인 경우\n",
    "        self.data.loc[self.data[self.data.HoliDay == \"holiday\"].index, \"Working\"] = \"notWorking\"\n",
    "        print(self.data[self.data[\"Working\"] == \"notWorking\"][\"Working\"])\n",
    "        \n",
    "        return self.data\n",
    "    \n",
    "    # Data WorkingTime Meta Create\n",
    "    def make_meanbyworking_result(self):\n",
    "        \"\"\"\n",
    "        Working Time&Not Working Time 에 따른 데이터의 평균 값을 Meta 로 생성하는 함수\n",
    "\n",
    "        - 일하는 시간과 일하지 않는 시간에 따른 분석을 위해 data_working_notworking_create 함수로 추출한 \"Working\" column을 활용\n",
    "        - Working Meta 를 생성한 후 병합하고 싶은 다른 Meta 가 있을시 meta_work를 입력 받아 병합하고 Working Meta 만 단독으로 생성하고 싶을 시 Meta 구조에 맞춰 단독 생성 가능\n",
    "\n",
    "        Args:\n",
    "            meta_work: Working Meta 와 병합하고 싶은 다른 Meta\n",
    "        Returns:\n",
    "            Working Time, Not Working Time 의 평균 값을 포함한 Dictionary Meta\n",
    "        \"\"\"\n",
    "        self.data = self.make_workingtime_column()\n",
    "        meanbyworking_result_dict = self.data.groupby(\"Working\").mean().to_dict()\n",
    "        \n",
    "        return meanbyworking_result_dict"
   ]
  },
  {
   "cell_type": "markdown",
   "id": "aade9703",
   "metadata": {},
   "source": [
    "###### Test MeanByWorking"
   ]
  },
  {
   "cell_type": "code",
   "execution_count": null,
   "id": "7cefd070",
   "metadata": {
    "ExecuteTime": {
     "end_time": "2022-01-14T06:45:31.808406Z",
     "start_time": "2022-01-14T06:45:30.311669Z"
    }
   },
   "outputs": [],
   "source": [
    "test_work = MeanByWorking(test_data, db_meta_json)\n",
    "work_data_test = test_work.make_workingtime_column()\n",
    "work_data_result_dict = test_work.make_meanbyworking_result()"
   ]
  },
  {
   "cell_type": "code",
   "execution_count": null,
   "id": "e64145e7",
   "metadata": {
    "ExecuteTime": {
     "end_time": "2022-01-14T06:45:31.813459Z",
     "start_time": "2022-01-14T06:45:31.809665Z"
    }
   },
   "outputs": [],
   "source": [
    "work_data_result_dict"
   ]
  },
  {
   "cell_type": "code",
   "execution_count": null,
   "id": "a8b50ac8",
   "metadata": {},
   "outputs": [],
   "source": []
  },
  {
   "cell_type": "markdown",
   "id": "a5014ba9",
   "metadata": {},
   "source": [
    "##### Analyzer.MeanByWorking 만 독립적으로 쓸때 Input\n",
    "data = dataframe <br>\n",
    "base_meta =``` \n",
    "[\n",
    "    {\"criteriaName\":\"MeanByHoliday\",\n",
    "     \"criteria\":[{\n",
    "                    'label': ['Holiday'], \n",
    "                    'step': ['Sat', 'Sun']\n",
    "                    }]\n",
    "       },\n",
    "    {\"criteriaName\":\"MeanByWorking\",\n",
    "     \"criteria\":[{ \n",
    "                    'label': ['notWorking', 'working', 'notWorking'],\n",
    "                    'step': [0, 9, 18, 24]\n",
    "                    }]\n",
    "           }\n",
    "]``` <br>\n",
    "- MeanByHoliday 정보에서는 step의 요일은 영어로 받기\n",
    "- base_meta는 최종적으로 list 로 기입\n",
    "- 일안하는 휴일을 알기위해 MeanByHoliday의 criteria 정보를 기입"
   ]
  },
  {
   "cell_type": "code",
   "execution_count": null,
   "id": "4788493c",
   "metadata": {
    "ExecuteTime": {
     "end_time": "2022-01-14T06:45:56.498316Z",
     "start_time": "2022-01-14T06:45:56.494676Z"
    }
   },
   "outputs": [],
   "source": [
    "w_base_meta =[\n",
    "    {\"criteriaName\":\"MeanByHoliday\",\n",
    "     \"criteria\":[{\n",
    "                    'label': ['Holiday'], \n",
    "                    'step': ['Sat', 'Sun']\n",
    "                    }]\n",
    "       },\n",
    "    {\"criteriaName\":\"MeanByWorking\",\n",
    "     \"criteria\":[{\n",
    "                    'step': [0, 9, 18, 24], \n",
    "                    'label': ['notWorking', 'working', 'notWorking']\n",
    "                    }]\n",
    "           }\n",
    "]"
   ]
  },
  {
   "cell_type": "code",
   "execution_count": null,
   "id": "3380ee2b",
   "metadata": {},
   "outputs": [],
   "source": []
  },
  {
   "cell_type": "code",
   "execution_count": null,
   "id": "eceef97f",
   "metadata": {},
   "outputs": [],
   "source": []
  },
  {
   "cell_type": "markdown",
   "id": "be442085",
   "metadata": {},
   "source": [
    "#### MeanByTimeStep"
   ]
  },
  {
   "cell_type": "code",
   "execution_count": null,
   "id": "49e60f71",
   "metadata": {
    "ExecuteTime": {
     "end_time": "2022-01-14T06:45:58.662321Z",
     "start_time": "2022-01-14T06:45:58.653737Z"
    }
   },
   "outputs": [],
   "source": [
    "class MeanByTimeStep():\n",
    "    def __init__(self, data, base_meta):\n",
    "        self.data = data\n",
    "        self.base_meta = base_meta\n",
    "        \n",
    "    def make_timestep_column(self):\n",
    "        \"\"\"\n",
    "        입력 Time Step에 따라 구분된 Time Label 정보를 \"TimeStep\" column 에 추가하는 함수\n",
    "        \n",
    "        - Hour의 흐름에 따라 구분을 하는 함수로 데이터 시간 정보의 주기가 Hour, Minute, Second 일때 사용\n",
    "\n",
    "        Args:\n",
    "            timestep: 나누고 싶은 시간 범위를 입력\n",
    "            timelabel: 나눈 시간 범위에 따른 명칭 입력\n",
    "        Returns:\n",
    "            Time Step 에 따른 Time Label 정보를 포함한 데이터\n",
    "        \"\"\"\n",
    "        # timestep=[0, 6, 12, 17, 20, 24], timelabel=[\"dawn\", \"morning\", \"afternoon\", \"evening\", \"night\"]\n",
    "        if type(self.base_meta) == dict:\n",
    "            base_meta_criteria = self.base_meta[\"columnInformation\"][0][\"analysisInformation\"][\"criteriaInformation\"]\n",
    "        else:# 독단적으로 사용시\n",
    "            base_meta_criteria = self.base_meta\n",
    "\n",
    "        timestep_criteria = [cis[\"criteria\"][0] for cis in base_meta_criteria if cis[\"criteriaName\"] == \"MeanByTimeStep\"][0]\n",
    "        timestep = timestep_criteria[\"step\"]\n",
    "        timelabel = timestep_criteria[\"label\"]\n",
    "        \n",
    "        self.data[\"TimeStep\"] = np.array(None)\n",
    "        for n in range(len(timestep)-1):\n",
    "            self.data.loc[self.data[(self.data.index.hour >= timestep[n])&(self.data.index.hour < timestep[n+1])].index, \"TimeStep\"] = timelabel[n]\n",
    "        return self.data\n",
    "\n",
    "    # Data Time Step Meta Create \n",
    "    def make_meanbytimestep_result(self):\n",
    "        \"\"\"\n",
    "        입력 Time Step, Time Label 에 따른 데이터의 평균 값을 Meta 로 생성하는 함수\n",
    "\n",
    "        - Time Step 에 따른 Time Label 정보를 분석하기 위해 data_time_step_cut 함수로 추출한 \"TimeStep\" column 을 활용\n",
    "        - Timestep Meta 를 생성한 후 병합하고 싶은 다른 Meta 가 있을시 meta_timestep 입력 받아 병합하고 Timestep Meta 만 단독으로 생성하고 싶을 시 Meta 구조에 맞춰 단독 생성 가능\n",
    "\n",
    "        Args:\n",
    "            timestep: 나누고 싶은 시간 범위를 입력\n",
    "            timelabel: 나눈 시간 범위에 따른 명칭 입력\n",
    "            meta_timestep: Timestep Meta 와 병합하고 싶은 다른 Meta\n",
    "        Returns:\n",
    "            Time Label 에 따른 평균 값을 포함한 Dictionary Meta\n",
    "        \"\"\"\n",
    "        self.data = self.make_timestep_column()\n",
    "        meanbytimestep_result_dict = self.data.groupby(\"TimeStep\").mean().to_dict()\n",
    "        \n",
    "        return meanbytimestep_result_dict"
   ]
  },
  {
   "cell_type": "markdown",
   "id": "0f4d316c",
   "metadata": {},
   "source": [
    "##### Test MeanByTimeStep"
   ]
  },
  {
   "cell_type": "code",
   "execution_count": null,
   "id": "f425ae86",
   "metadata": {
    "ExecuteTime": {
     "end_time": "2022-01-14T06:46:01.043056Z",
     "start_time": "2022-01-14T06:45:59.744013Z"
    }
   },
   "outputs": [],
   "source": [
    "test_timestep = MeanByTimeStep(test_data, db_meta_json)\n",
    "test_timestep_data = test_timestep.make_timestep_column()\n",
    "test_timestep_data_result_dict = test_timestep.make_meanbytimestep_result()"
   ]
  },
  {
   "cell_type": "code",
   "execution_count": null,
   "id": "f695993c",
   "metadata": {
    "ExecuteTime": {
     "end_time": "2022-01-14T06:46:01.082747Z",
     "start_time": "2022-01-14T06:46:01.044463Z"
    }
   },
   "outputs": [],
   "source": [
    "test_timestep_data[\"TimeStep\"].unique()"
   ]
  },
  {
   "cell_type": "code",
   "execution_count": null,
   "id": "f56da31a",
   "metadata": {
    "ExecuteTime": {
     "end_time": "2022-01-14T06:46:01.093537Z",
     "start_time": "2022-01-14T06:46:01.085209Z"
    },
    "scrolled": true
   },
   "outputs": [],
   "source": [
    "test_timestep_data_result_dict"
   ]
  },
  {
   "cell_type": "markdown",
   "id": "2643dcfc",
   "metadata": {},
   "source": [
    "##### Analyzer.MeanByTimeStep 만 독립적으로 쓸때 Input\n",
    "data = dataframe <br>\n",
    "base_meta =``` \n",
    "[\n",
    "    {\"criteriaName\":\"MeanByTimeStep\",\n",
    "     \"criteria\":[{\n",
    "                    'label': ['dawn', 'morning', 'afternoon', 'evening', 'night'], \n",
    "                    'step': [0, 6, 12, 17, 20, 24]\n",
    "                    }]\n",
    "       }\n",
    "]``` <br>\n",
    "- base_meta는 최종적으로 list 로 기입"
   ]
  },
  {
   "cell_type": "code",
   "execution_count": null,
   "id": "a4bcbc11",
   "metadata": {
    "ExecuteTime": {
     "end_time": "2022-01-14T06:46:16.387477Z",
     "start_time": "2022-01-14T06:46:16.384171Z"
    }
   },
   "outputs": [],
   "source": [
    "ts_base_meta =[\n",
    "    {\"criteriaName\":\"MeanByTimeStep\",\n",
    "     \"criteria\":[{\n",
    "                    'label': ['dawn', 'morning', 'afternoon', 'evening', 'night'], \n",
    "                    'step': [0, 6, 12, 17, 20, 24]\n",
    "                    }]\n",
    "       }\n",
    "]"
   ]
  },
  {
   "cell_type": "code",
   "execution_count": null,
   "id": "e22b167c",
   "metadata": {},
   "outputs": [],
   "source": []
  },
  {
   "cell_type": "markdown",
   "id": "54d8cf96",
   "metadata": {},
   "source": [
    "#### CountByFeatureLabel"
   ]
  },
  {
   "cell_type": "code",
   "execution_count": null,
   "id": "2b342485",
   "metadata": {
    "ExecuteTime": {
     "end_time": "2022-01-14T06:46:18.296975Z",
     "start_time": "2022-01-14T06:46:18.289897Z"
    }
   },
   "outputs": [],
   "source": [
    "class CountByFeatureLabel():\n",
    "    def __init__(self, data, base_meta):\n",
    "        self.data = data\n",
    "        self.base_meta = base_meta\n",
    "    \n",
    "     # Data Label Information Meta Create\n",
    "    def data_label_information_meta(self):\n",
    "        \"\"\"\n",
    "        데이터의 Label Information Meta 를 생성하는 함수\n",
    "\n",
    "        - 데이터베이스에 Label Information 정보가 있어야 함\n",
    "\n",
    "        \"\"\"\n",
    "        db_doc = wiz.WizApiMongoMeta(self.domain, self.subdomain, \"db_information\")\n",
    "        db_info_doc = db_doc.get_database_collection_document()\n",
    "    \n",
    "        feature_information = {}\n",
    "        for feature in db_info_doc[\"db_feature_information\"]:\n",
    "            if \"label_information\" not in db_info_doc[\"db_feature_information\"][feature].keys():\n",
    "                feature_information[feature] = {\"label_information\":{\"labelcount\":0}}\n",
    "            else:\n",
    "                self.data_cut[feature] = pd.cut(x=self.data[feature], \n",
    "                                     bins=db_info_doc[\"db_feature_information\"][feature][\"label_information\"][\"level\"],\n",
    "                                    labels=db_info_doc[\"db_feature_information\"][feature][\"label_information\"][\"label\"])\n",
    "\n",
    "                labelcount = dict(self.data_cut.groupby(feature).count())\n",
    "                label_dict = {}\n",
    "                label_ls = []\n",
    "                \n",
    "                for n in range(len(labelcount)):\n",
    "                    label_dict[\"value\"] = int(labelcount[list(labelcount.keys())[n]])\n",
    "                    label_dict[\"name\"] = list(labelcount.keys())[n]\n",
    "                    label_ls.append(label_dict.copy())\n",
    "\n",
    "                feature_information[feature] = {\"label_information\":{\"labelcount\":label_ls}}\n",
    "\n",
    "        return feature_information"
   ]
  },
  {
   "cell_type": "code",
   "execution_count": null,
   "id": "8dffd342",
   "metadata": {},
   "outputs": [],
   "source": []
  },
  {
   "cell_type": "code",
   "execution_count": null,
   "id": "f66a9f2f",
   "metadata": {},
   "outputs": [],
   "source": []
  },
  {
   "cell_type": "markdown",
   "id": "9c1b7a56",
   "metadata": {},
   "source": [
    "#### BatchCaller"
   ]
  },
  {
   "cell_type": "code",
   "execution_count": null,
   "id": "012f34d1",
   "metadata": {
    "ExecuteTime": {
     "end_time": "2022-01-14T06:46:20.221636Z",
     "start_time": "2022-01-14T06:46:20.209011Z"
    }
   },
   "outputs": [],
   "source": [
    "class BatchCaller(StatisticsResult, MeanByHoliday, MeanByWorking, MeanByTimeStep, CountByFeatureLabel):\n",
    "    def __init__(self, database, measurement, functionlist, dataframe, base_meta):\n",
    "        self.db = database\n",
    "        self.ms = measurement\n",
    "        self.function_list = functionlist\n",
    "        self.data = dataframe\n",
    "        self.base_meta = base_meta\n",
    "        \n",
    "    def make_analysis_result_set(self):# FL 에 있는 function들을 다 호출해서 output을 개별적으로 받아 set을 하나 만들어야함.\n",
    "        if \"StatisticsResult\" in self.function_list:\n",
    "            statistics_result = super().make_feature_statistics_result()\n",
    "        elif \"MeanByHoliday\" in self.function_list:\n",
    "            mean_by_holiday = super().make_meanbyholiday_result()\n",
    "        elif \"MeanByWorking\" in self.function_list:\n",
    "            mean_by_working = super().make_meanbyworking_result()\n",
    "        elif \"MeanByTimeStep\" in self.function_list:\n",
    "            mean_by_timestep = super().make_meanbytimestep_result()\n",
    "        elif \"FeatureLabel\" in self.function_list:\n",
    "            pass\n",
    "            \n",
    "        \n",
    "        \"\"\"\n",
    "        flist_data = [\"StatisticsResult\"] #Data\n",
    "        flist_data_info = [\"MeanByHoliday\", \"MeanByWorking\", \"MeanByTimeStep\", \"FeatureLabel\"] #Additional Info, Data\n",
    "        flist_info = [] #Additional Info\n",
    "        \n",
    "        data_flag = any(function in flist_data for function in self.function_list)\n",
    "        data_info_flag = any(function in flist_data_info for function in self.function_list)\n",
    "        info_flag = any(function in flist_info for function in self.function_list)\n",
    "        \n",
    "        if data_info_flag:\n",
    "            data = super().get_dataframe()\n",
    "            base_meta = super().get_database_meta()\n",
    "        else:\n",
    "            if data_flag:\n",
    "                data = super().get_dataframe()\n",
    "                base_meta = None\n",
    "            elif info_flag:\n",
    "                data = None\n",
    "                base_meta = super().get_database_meta()\n",
    "        \"\"\""
   ]
  },
  {
   "cell_type": "code",
   "execution_count": null,
   "id": "9fac634c",
   "metadata": {},
   "outputs": [],
   "source": []
  },
  {
   "cell_type": "code",
   "execution_count": null,
   "id": "9b345fde",
   "metadata": {},
   "outputs": [],
   "source": []
  },
  {
   "cell_type": "code",
   "execution_count": null,
   "id": "e1c827c3",
   "metadata": {},
   "outputs": [],
   "source": []
  },
  {
   "cell_type": "code",
   "execution_count": null,
   "id": "8ba5c97b",
   "metadata": {},
   "outputs": [],
   "source": []
  },
  {
   "cell_type": "code",
   "execution_count": null,
   "id": "f1fdcd11",
   "metadata": {},
   "outputs": [],
   "source": []
  }
 ],
 "metadata": {
  "hide_input": false,
  "kernelspec": {
   "display_name": "Python 3 (ipykernel)",
   "language": "python",
   "name": "python3"
  },
  "language_info": {
   "codemirror_mode": {
    "name": "ipython",
    "version": 3
   },
   "file_extension": ".py",
   "mimetype": "text/x-python",
   "name": "python",
   "nbconvert_exporter": "python",
   "pygments_lexer": "ipython3",
   "version": "3.8.12"
  },
  "toc": {
   "base_numbering": 1,
   "nav_menu": {},
   "number_sections": true,
   "sideBar": true,
   "skip_h1_title": false,
   "title_cell": "Table of Contents",
   "title_sidebar": "Contents",
   "toc_cell": true,
   "toc_position": {
    "height": "calc(100% - 180px)",
    "left": "10px",
    "top": "150px",
    "width": "388.651px"
   },
   "toc_section_display": true,
   "toc_window_display": true
  }
 },
 "nbformat": 4,
 "nbformat_minor": 5
}
